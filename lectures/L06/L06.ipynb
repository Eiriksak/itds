{
 "cells": [
  {
   "cell_type": "markdown",
   "metadata": {
    "slideshow": {
     "slide_type": "slide"
    }
   },
   "source": [
    "# NumPy: Arrays and Vectorized Computations\n",
    "## DAT540 Introduction to Data Science\n",
    "## University of Stavanger\n",
    "### L07.01\n",
    "### 06/09/2019\n",
    "\n",
    "#### Antorweep Chakravorty (antorweep.chakravorty@uis.no)"
   ]
  },
  {
   "cell_type": "code",
   "execution_count": 1,
   "metadata": {
    "ExecuteTime": {
     "end_time": "2019-09-06T11:27:50.726965Z",
     "start_time": "2019-09-06T11:27:50.484383Z"
    },
    "slideshow": {
     "slide_type": "skip"
    }
   },
   "outputs": [],
   "source": [
    "# Import required modules\n",
    "import numpy as np\n",
    "import matplotlib.pyplot as plt"
   ]
  },
  {
   "cell_type": "markdown",
   "metadata": {
    "slideshow": {
     "slide_type": "slide"
    }
   },
   "source": [
    "- **Random Walks**\n",
    "- A path sequence based on a random probability distribution that determines the number of steps and the odds required to reach a location.\n",
    "- Another common use case is to identify the number of steps required to reach back to the point of origin after initiating a random walk\n",
    "- In case of 1-D or 2-D space, we always converge, however, as we increase the dimensionality the probability of convergence to the origin decreases as the amount of traversal space increases\n",
    "- A random walk on a 1-D space, offers only forward or backward movements\n",
    "- A walk on a 2-D space, offers north, south, east or west wise movements"
   ]
  },
  {
   "cell_type": "markdown",
   "metadata": {
    "slideshow": {
     "slide_type": "fragment"
    }
   },
   "source": [
    "- A simple random walk on 1-D space\n",
    "<img src='randomwalks.png'>"
   ]
  },
  {
   "cell_type": "code",
   "execution_count": 42,
   "metadata": {
    "ExecuteTime": {
     "end_time": "2019-09-06T11:34:41.269184Z",
     "start_time": "2019-09-06T11:34:41.264082Z"
    },
    "slideshow": {
     "slide_type": "subslide"
    }
   },
   "outputs": [],
   "source": [
    "# First Crossing time, the number of steps at which a random walk reaches a purticular value\n",
    "# Here we want to figure out how long/steps does it take for a random walk to get to a location \n",
    "# atleast 10 units in either direction away from origin in a 1-D plane\n",
    "np.random.seed(234)\n",
    "nsteps = 1000 # Let us run execute the random walk for 1000 steps\n",
    "draws = np.random.randn(nsteps)\n",
    "steps = np.where(draws > 0, 1, -1) # represent steps: forward as +1 and backward -1\n",
    "walk = steps.cumsum()"
   ]
  },
  {
   "cell_type": "code",
   "execution_count": 43,
   "metadata": {
    "ExecuteTime": {
     "end_time": "2019-09-06T11:34:41.811599Z",
     "start_time": "2019-09-06T11:34:41.706263Z"
    },
    "slideshow": {
     "slide_type": "subslide"
    }
   },
   "outputs": [
    {
     "data": {
      "image/png": "[encoded data removed]",
      "text/plain": [
       "<Figure size 432x288 with 1 Axes>"
      ]
     },
     "metadata": {},
     "output_type": "display_data"
    },
    {
     "name": "stdout",
     "output_type": "stream",
     "text": [
      "No. of steps required to reach a crossing time of 10: [57]\n"
     ]
    }
   ],
   "source": [
    "%matplotlib inline\n",
    "plt.plot(walk)\n",
    "plt.ylabel('walk')\n",
    "plt.xlabel('steps')\n",
    "plt.show()\n",
    "loc10 = np.argwhere(walk>=10)[0] # get the index where we reach 10 units away from the origin the 1st time\n",
    "print('No. of steps required to reach a crossing time of 10:', loc10)"
   ]
  },
  {
   "cell_type": "markdown",
   "metadata": {
    "slideshow": {
     "slide_type": "subslide"
    }
   },
   "source": [
    "- How will you simulate a single in a 2D space?\n",
    "- How will you find out the 1st intersection point of Multiple Random Walks on a 2D plane\n",
    "  - Having the same start for all\n",
    "  - Having random start for all"
   ]
  },
  {
   "cell_type": "markdown",
   "metadata": {
    "slideshow": {
     "slide_type": "slide"
    }
   },
   "source": [
    "# Getting Started with pandas\n",
    "## DAT540 Introduction to Data Science\n",
    "## University of Stavanger\n",
    "### L07.2\n",
    "### 06/09/2019\n",
    "\n",
    "#### Antorweep Chakravorty (antorweep.chakravorty@uis.no)"
   ]
  },
  {
   "cell_type": "markdown",
   "metadata": {
    "slideshow": {
     "slide_type": "slide"
    }
   },
   "source": [
    "- **pandas** contains data structures and data manipulation tools designed to make data cleaning and analysis faster\n",
    "- it is often used in tandem with numerical computing tools like NumPy and SciPy, analytical libraries like statsmodels and scikit-learn, and data visualization libraries like matplotib\n",
    "- pandas adopts significant parts of NumPy's idiomatic style of array-based computing, especially array-based functions and a preference for data processing without loops\n",
    "- pandas is particularly designed for working with tabular (2-D) heterogeneous data\n",
    "- In order to use pandas, we need to first import it and other required modules\n",
    "- *DataFrame* and *Series* are two pandas data structures that would be used extensively\n",
    "\n",
    "```python \n",
    "import pandas as pd\n",
    "# import DataFrame and Series, when required as follows\n",
    "from pandas import Series, DataFrame\n",
    "```"
   ]
  },
  {
   "cell_type": "code",
   "execution_count": 4,
   "metadata": {
    "ExecuteTime": {
     "end_time": "2019-09-06T11:27:51.001857Z",
     "start_time": "2019-09-06T11:27:50.856232Z"
    },
    "slideshow": {
     "slide_type": "skip"
    }
   },
   "outputs": [],
   "source": [
    "import pandas as pd\n",
    "from pandas import Series, DataFrame"
   ]
  },
  {
   "cell_type": "markdown",
   "metadata": {
    "slideshow": {
     "slide_type": "slide"
    }
   },
   "source": [
    "- pandas **Data Structures**\n",
    "  - **Series**\n",
    "    - A one dimensional array-like object containing a sequence of values\n",
    "    - It also contains an associated array of data labels called *index* \n",
    "    - By default, it automatically assigns indices from 0 to N - 1 (where N is the length of the data), when a Series is created over a list of values\n",
    "    - A Series, could be created with an additional argument, specifying the list of indices for the values as well"
   ]
  },
  {
   "cell_type": "code",
   "execution_count": 5,
   "metadata": {
    "ExecuteTime": {
     "end_time": "2019-09-06T11:27:51.011839Z",
     "start_time": "2019-09-06T11:27:51.003729Z"
    },
    "slideshow": {
     "slide_type": "subslide"
    }
   },
   "outputs": [
    {
     "name": "stdout",
     "output_type": "stream",
     "text": [
      "0      4\n",
      "1      A\n",
      "2    6.0\n",
      "3     -1\n",
      "dtype: object\n",
      "\n",
      "List of indices can be retrived using 'obj.index'. \n",
      "In this case, it is a object like python range: RangeIndex(start=0, stop=4, step=1)\n",
      "\n",
      "List of values can be retrived using 'obj.value': [4 'A' '6.0' -1]\n",
      "\n",
      "Object with custom indices\n",
      "\n",
      "a    3\n",
      "b    2\n",
      "c   -5\n",
      "d    0\n",
      "e    4\n",
      "dtype: int64\n"
     ]
    }
   ],
   "source": [
    "# index labels not provided. Therefore, a default list would be created, starting from zero index\n",
    "obj = Series([4, 'A', '6.0', -1])\n",
    "# dtype is the object where we have heterogeneous data. \n",
    "# If all the data are of same time, the dtype of the series would be the same \n",
    "print(obj) \n",
    "print('\\nList of indices can be retrived using \\'obj.index\\'. \\nIn this case, it is a object like python range:', obj.index)\n",
    "print('\\nList of values can be retrived using \\'obj.value\\':', obj.values)\n",
    "\n",
    "\n",
    "# Custom index labels provided\n",
    "obj2 = Series([3, 2, -5, 0, 4], index=['a', 'b', 'c', 'd', 'e'] )\n",
    "# In this case, the dtype of the series is the same as all values in it are of type int64\n",
    "print(\"\\nObject with custom indices\\n\")\n",
    "print(obj2)"
   ]
  },
  {
   "cell_type": "markdown",
   "metadata": {
    "slideshow": {
     "slide_type": "subslide"
    }
   },
   "source": [
    "- Element(s) from a Series could be retrieved using similar mechanisms to that with 1-D ndarrays in NumPy, provided the underlying dtype supports it\n",
    "  - on single Index\n",
    "  - Basic Indexing       \n",
    "  - Fancy Indexing\n",
    "  - Boolean Indexing    \n",
    "- Additionally, elements can also be retrieved using the labels and combined with most of the above indexing methods"
   ]
  },
  {
   "cell_type": "code",
   "execution_count": 6,
   "metadata": {
    "ExecuteTime": {
     "end_time": "2019-09-06T11:27:51.023449Z",
     "start_time": "2019-09-06T11:27:51.014725Z"
    },
    "slideshow": {
     "slide_type": "subslide"
    }
   },
   "outputs": [
    {
     "name": "stdout",
     "output_type": "stream",
     "text": [
      "obj2:\n",
      " a    3\n",
      "b    2\n",
      "c   -5\n",
      "d    0\n",
      "e    4\n",
      "dtype: int64\n",
      "\n",
      "Retriving a single element: -5\n",
      "\n",
      "Retriving a slice:\n",
      " c   -5\n",
      "d    0\n",
      "e    4\n",
      "dtype: int64\n",
      "\n",
      "Retriving a slice with all values except the last:\n",
      " a    3\n",
      "b    2\n",
      "c   -5\n",
      "d    0\n",
      "dtype: int64\n"
     ]
    }
   ],
   "source": [
    "print('obj2:\\n', obj2)\n",
    "print('\\nRetriving a single element:', obj2[2])\n",
    "print('\\nRetriving a slice:\\n', obj2[2:5])\n",
    "print('\\nRetriving a slice with all values except the last:\\n', obj2[:-1])"
   ]
  },
  {
   "cell_type": "code",
   "execution_count": 7,
   "metadata": {
    "ExecuteTime": {
     "end_time": "2019-09-06T11:27:51.032985Z",
     "start_time": "2019-09-06T11:27:51.025924Z"
    },
    "slideshow": {
     "slide_type": "subslide"
    }
   },
   "outputs": [
    {
     "name": "stdout",
     "output_type": "stream",
     "text": [
      "obj2:\n",
      " a    3\n",
      "b    2\n",
      "c   -5\n",
      "d    0\n",
      "e    4\n",
      "dtype: int64\n",
      "\n",
      "Using Fancy Indexing:\n",
      " c   -5\n",
      "b    2\n",
      "c   -5\n",
      "d    0\n",
      "dtype: int64\n",
      "\n",
      "Using Boolean Indexing:\n",
      " a    3\n",
      "b    2\n",
      "e    4\n",
      "dtype: int64\n"
     ]
    }
   ],
   "source": [
    "print('obj2:\\n', obj2)\n",
    "print('\\nUsing Fancy Indexing:\\n', obj2[[2,1,2,3]])\n",
    "print('\\nUsing Boolean Indexing:\\n', obj2[obj2 > 0])"
   ]
  },
  {
   "cell_type": "code",
   "execution_count": 8,
   "metadata": {
    "ExecuteTime": {
     "end_time": "2019-09-06T11:27:51.044303Z",
     "start_time": "2019-09-06T11:27:51.035614Z"
    },
    "slideshow": {
     "slide_type": "subslide"
    }
   },
   "outputs": [
    {
     "name": "stdout",
     "output_type": "stream",
     "text": [
      "obj2:\n",
      " a    3\n",
      "b    2\n",
      "c   -5\n",
      "d    0\n",
      "e    4\n",
      "dtype: int64\n",
      "\n",
      "Retriving a single element by label: 2\n",
      "\n",
      "Retriving a slice:\n",
      " b    2\n",
      "c   -5\n",
      "d    0\n",
      "dtype: int64\n",
      "\n",
      "Using Fancy Indexing:\n",
      " b    2\n",
      "a    3\n",
      "b    2\n",
      "dtype: int64\n",
      "\n",
      "Using Boolean Indexing:\n",
      " a    3\n",
      "b    2\n",
      "e    4\n",
      "dtype: int64\n"
     ]
    }
   ],
   "source": [
    "print('obj2:\\n', obj2)\n",
    "print('\\nRetriving a single element by label:', obj2['b'])\n",
    "print('\\nRetriving a slice:\\n', obj2['b':'d'])\n",
    "print('\\nUsing Fancy Indexing:\\n', obj2[['b', 'a', 'b']])\n",
    "print('\\nUsing Boolean Indexing:\\n', obj2[[True,True,False,False,True]])"
   ]
  },
  {
   "cell_type": "markdown",
   "metadata": {
    "slideshow": {
     "slide_type": "subslide"
    }
   },
   "source": [
    "- Series can be also conceptualized as a fixed-length, ordered dict\n",
    "- Mapping index values to data values\n",
    "\n",
    "```python\n",
    "IN[]: 'b' in obj2 # checks on keys\n",
    "OUT[]: True\n",
    "\n",
    "IN[]: 'z' in obj2\n",
    "OUT[]: False\n",
    "```\n",
    "- A Series can be created by directly passing a dict object to the Series method. \n",
    "- In this case, the keys of the dicts would be converted into labels for the Series\n",
    "- Alternatively, the index argument could also be provided, to filter the dict elements that we want into the Series\n",
    "- Specified indices that are present in the dict, are included into the Series\n",
    "- Indices those are not in the dict, but specified in the Series are set to have values NA values"
   ]
  },
  {
   "cell_type": "code",
   "execution_count": 9,
   "metadata": {
    "ExecuteTime": {
     "end_time": "2019-09-06T11:27:51.056395Z",
     "start_time": "2019-09-06T11:27:51.046740Z"
    },
    "slideshow": {
     "slide_type": "subslide"
    }
   },
   "outputs": [
    {
     "name": "stdout",
     "output_type": "stream",
     "text": [
      "obj3:\n",
      " a    1\n",
      "b    2\n",
      "f    9\n",
      "c   -1\n",
      "dtype: int64\n",
      "obj4:\n",
      " b    2.0\n",
      "c   -1.0\n",
      "x    NaN\n",
      "dtype: float64\n"
     ]
    }
   ],
   "source": [
    "my_dict = {'a': 1, 'b': 2, 'f': 9, 'c': -1}\n",
    "obj3 = Series(my_dict)\n",
    "print('obj3:\\n', obj3)\n",
    "\n",
    "# It selected and replaced the the labels for the keys that it found, for others a Not a Number value was assigned\n",
    "obj4 = Series(my_dict, index=['b', 'c', 'x'])\n",
    "print('obj4:\\n', obj4)"
   ]
  },
  {
   "cell_type": "markdown",
   "metadata": {
    "slideshow": {
     "slide_type": "fragment"
    }
   },
   "source": [
    "- Series additionally also have top-level and instance methods *isnull* and *isna* to detact missing data"
   ]
  },
  {
   "cell_type": "code",
   "execution_count": 10,
   "metadata": {
    "ExecuteTime": {
     "end_time": "2019-09-06T11:27:51.066814Z",
     "start_time": "2019-09-06T11:27:51.059131Z"
    },
    "slideshow": {
     "slide_type": "fragment"
    }
   },
   "outputs": [
    {
     "data": {
      "text/plain": [
       "b    False\n",
       "c    False\n",
       "x     True\n",
       "dtype: bool"
      ]
     },
     "execution_count": 10,
     "metadata": {},
     "output_type": "execute_result"
    }
   ],
   "source": [
    "obj4.isnull()"
   ]
  },
  {
   "cell_type": "markdown",
   "metadata": {
    "slideshow": {
     "slide_type": "subslide"
    }
   },
   "source": [
    "- Series automatically aligns by index label for arithmetic operations\n",
    "- They act similar to outer joins while performing the the operations on the values\n",
    "- If the keys are not found in either of the input series, a NA value is associated to them as the arithmetic operation would not be successful for them"
   ]
  },
  {
   "cell_type": "code",
   "execution_count": 11,
   "metadata": {
    "ExecuteTime": {
     "end_time": "2019-09-06T11:27:51.092285Z",
     "start_time": "2019-09-06T11:27:51.070606Z"
    },
    "slideshow": {
     "slide_type": "fragment"
    }
   },
   "outputs": [
    {
     "name": "stdout",
     "output_type": "stream",
     "text": [
      "a:\n",
      " c    9\n",
      "d    3\n",
      "b    8\n",
      "e    4\n",
      "dtype: int64\n",
      "b:\n",
      " x    3\n",
      "c    7\n",
      "e    8\n",
      "b    8\n",
      "dtype: int64\n"
     ]
    },
    {
     "data": {
      "text/plain": [
       "b    16.0\n",
       "c    16.0\n",
       "d     NaN\n",
       "e    12.0\n",
       "x     NaN\n",
       "dtype: float64"
      ]
     },
     "execution_count": 11,
     "metadata": {},
     "output_type": "execute_result"
    }
   ],
   "source": [
    "a = Series(np.random.randint(0,10, 4), index=['c', 'd', 'b', 'e'])\n",
    "b = Series(np.random.randint(0,10, 4), index=['x', 'c', 'e', 'b'])\n",
    "print('a:\\n', a)\n",
    "print('b:\\n', b)\n",
    "a + b"
   ]
  },
  {
   "cell_type": "markdown",
   "metadata": {
    "slideshow": {
     "slide_type": "subslide"
    }
   },
   "source": [
    "- The Series object itself and its index have a **name** attribute"
   ]
  },
  {
   "cell_type": "code",
   "execution_count": 12,
   "metadata": {
    "ExecuteTime": {
     "end_time": "2019-09-06T11:27:51.102405Z",
     "start_time": "2019-09-06T11:27:51.095592Z"
    },
    "slideshow": {
     "slide_type": "fragment"
    }
   },
   "outputs": [
    {
     "data": {
      "text/plain": [
       "cindex\n",
       "b    2.0\n",
       "c   -1.0\n",
       "x    NaN\n",
       "Name: cname, dtype: float64"
      ]
     },
     "execution_count": 12,
     "metadata": {},
     "output_type": "execute_result"
    }
   ],
   "source": [
    "obj4.name = 'cname'\n",
    "obj4.index.name = 'cindex'\n",
    "obj4"
   ]
  },
  {
   "cell_type": "markdown",
   "metadata": {
    "slideshow": {
     "slide_type": "subslide"
    }
   },
   "source": [
    "- The Series index and values can be altered in place"
   ]
  },
  {
   "cell_type": "code",
   "execution_count": 13,
   "metadata": {
    "ExecuteTime": {
     "end_time": "2019-09-06T11:27:51.117219Z",
     "start_time": "2019-09-06T11:27:51.105524Z"
    },
    "slideshow": {
     "slide_type": "fragment"
    }
   },
   "outputs": [
    {
     "name": "stdout",
     "output_type": "stream",
     "text": [
      "obj4:\n",
      " a1   -10\n",
      "b1   -10\n",
      "f1    10\n",
      "c1    -1\n",
      "dtype: int64\n"
     ]
    }
   ],
   "source": [
    "obj4 = Series({'a': 1, 'b': 2, 'f': 9, 'c': -1})\n",
    "# Indexing on Series follows the same rules like NumPy Array when creating a view or copy\n",
    "# Index based on Basic indexing doesnot create a copy\n",
    "x = obj4[1:3]\n",
    "x[:] = 10\n",
    "y = obj4[:'b'] \n",
    "y[:] = -10\n",
    "\n",
    "# Fancy Indexing and Boolean indexing create a copy\n",
    "z = obj4[[2,1]]\n",
    "z[:] = 99\n",
    "\n",
    "# only index f now has value 10\n",
    "b = obj4[obj4.values == 10]\n",
    "b[:] = 100\n",
    "\n",
    "# We can also completely change the index lables in place\n",
    "obj4.index = ['a1', 'b1', 'f1', 'c1']\n",
    "print('obj4:\\n', obj4 )"
   ]
  },
  {
   "cell_type": "markdown",
   "metadata": {
    "slideshow": {
     "slide_type": "subslide"
    }
   },
   "source": [
    "  - **DataFrame**\n",
    "  - Represents a rectangular table of data representing rows and columns\n",
    "  - Each column in a DataFrame could have different data types \n",
    "  - Dataframe has labels/indices for both rows and columns. Alternatively, it can be conceptualized as a dict of Series all sharing the same index\n",
    "  - Typically a DataFrame can be constructed from a dict of equal length list of NumPy arrays\n",
    "  - A sequence of columns can be specified to the columns attribute of a DataFrame when creating it to \n",
    "    - filter the selected columns\n",
    "    - order the columns\n",
    "  - A sequence of labels can be specified to the row attribute to index the rows. If the row attribute is not specified, the rows are indexed from 0 to N-1 (N being the total number of rows)\n",
    "  - If a specified column isn't contained in the dict, it appears with missing values\n",
    "  "
   ]
  },
  {
   "cell_type": "code",
   "execution_count": 14,
   "metadata": {
    "ExecuteTime": {
     "end_time": "2019-09-06T11:27:51.146046Z",
     "start_time": "2019-09-06T11:27:51.120474Z"
    },
    "slideshow": {
     "slide_type": "subslide"
    }
   },
   "outputs": [
    {
     "data": {
      "text/html": [
       "<div>\n",
       "<style scoped>\n",
       "    .dataframe tbody tr th:only-of-type {\n",
       "        vertical-align: middle;\n",
       "    }\n",
       "\n",
       "    .dataframe tbody tr th {\n",
       "        vertical-align: top;\n",
       "    }\n",
       "\n",
       "    .dataframe thead th {\n",
       "        text-align: right;\n",
       "    }\n",
       "</style>\n",
       "<table border=\"1\" class=\"dataframe\">\n",
       "  <thead>\n",
       "    <tr style=\"text-align: right;\">\n",
       "      <th></th>\n",
       "      <th>age</th>\n",
       "      <th>name</th>\n",
       "      <th>xyz</th>\n",
       "    </tr>\n",
       "  </thead>\n",
       "  <tbody>\n",
       "    <tr>\n",
       "      <th>one</th>\n",
       "      <td>23</td>\n",
       "      <td>abc</td>\n",
       "      <td>NaN</td>\n",
       "    </tr>\n",
       "    <tr>\n",
       "      <th>two</th>\n",
       "      <td>74</td>\n",
       "      <td>def</td>\n",
       "      <td>NaN</td>\n",
       "    </tr>\n",
       "    <tr>\n",
       "      <th>three</th>\n",
       "      <td>31</td>\n",
       "      <td>ghi</td>\n",
       "      <td>NaN</td>\n",
       "    </tr>\n",
       "    <tr>\n",
       "      <th>four</th>\n",
       "      <td>16</td>\n",
       "      <td>jkl</td>\n",
       "      <td>NaN</td>\n",
       "    </tr>\n",
       "    <tr>\n",
       "      <th>five</th>\n",
       "      <td>34</td>\n",
       "      <td>mno</td>\n",
       "      <td>NaN</td>\n",
       "    </tr>\n",
       "  </tbody>\n",
       "</table>\n",
       "</div>"
      ],
      "text/plain": [
       "       age name  xyz\n",
       "one     23  abc  NaN\n",
       "two     74  def  NaN\n",
       "three   31  ghi  NaN\n",
       "four    16  jkl  NaN\n",
       "five    34  mno  NaN"
      ]
     },
     "execution_count": 14,
     "metadata": {},
     "output_type": "execute_result"
    }
   ],
   "source": [
    "data = {'name': ['abc', 'def', 'ghi', 'jkl', 'mno'], 'age': [23, 74, 31, 16, 34], 'height': [170.2, 164.0, 168.0, 140.0, 170.0]}\n",
    "frame = pd.DataFrame(data, columns = ['age', 'name', 'xyz'], index = ['one', 'two', 'three', 'four', 'five'])\n",
    "frame"
   ]
  },
  {
   "cell_type": "markdown",
   "metadata": {
    "slideshow": {
     "slide_type": "subslide"
    }
   },
   "source": [
    "  - DataFrames have multiple helper instance methods, that allows easy investigation of a frame\n",
    "  - The *head* instance method shows the first 5 rows of a data frame. An integer value could be passed to the head method to retrieved that many rows\n",
    "  - Similarly the *tail* method show the last 5 or specified number of rows of a dataframe\n",
    "  - A column in a DataFrame can be retrieved as a Series either by dict-like notation or by attribute"
   ]
  },
  {
   "cell_type": "code",
   "execution_count": 15,
   "metadata": {
    "ExecuteTime": {
     "end_time": "2019-09-06T11:27:51.163638Z",
     "start_time": "2019-09-06T11:27:51.149202Z"
    },
    "slideshow": {
     "slide_type": "fragment"
    }
   },
   "outputs": [
    {
     "name": "stdout",
     "output_type": "stream",
     "text": [
      "      name  height  age\n",
      "one    abc   170.2   23\n",
      "two    def   164.0   74\n",
      "three  ghi   168.0   31\n",
      "four   jkl   140.0   16\n",
      "five   mno   170.0   34\n",
      "\n",
      " one    abc\n",
      "two    def\n",
      "Name: name, dtype: object\n",
      "\n",
      " four    jkl\n",
      "five    mno\n",
      "Name: name, dtype: object\n"
     ]
    }
   ],
   "source": [
    "frame = pd.DataFrame(data, columns = ['name', 'height', 'age'], index = ['one', 'two', 'three', 'four', 'five'])\n",
    "print(frame.head())\n",
    "print('\\n', frame.name.head(2))\n",
    "print('\\n', frame['name'].tail(2))"
   ]
  },
  {
   "cell_type": "markdown",
   "metadata": {
    "slideshow": {
     "slide_type": "subslide"
    }
   },
   "source": [
    "  - Rows of a DataFrame can be retrieved by position or name/rowlabel with the loc attribute\n",
    "  - Columns can be modified in-place by assignment\n",
    "  - A new column could be created also by assignment, with a new column name as index\n",
    "  - When a column is assigned while creating anew or updating, its length must match with the length of the DataFrame columns\n",
    "  - If a Series is assigned to a column, it labels will be realigned exactly to the DataFrames' index, inserting missing values\n",
    "  - The *del* keyword or *drop* instance method can be used to remove a columns"
   ]
  },
  {
   "cell_type": "code",
   "execution_count": 16,
   "metadata": {
    "ExecuteTime": {
     "end_time": "2019-09-06T11:27:51.183518Z",
     "start_time": "2019-09-06T11:27:51.167383Z"
    },
    "slideshow": {
     "slide_type": "subslide"
    }
   },
   "outputs": [
    {
     "name": "stdout",
     "output_type": "stream",
     "text": [
      "Retriving a row:\n",
      " name        abc\n",
      "height    170.2\n",
      "age          23\n",
      "nha         NaN\n",
      "Name: one, dtype: object\n"
     ]
    }
   ],
   "source": [
    "frame = pd.DataFrame(data, columns = ['name', 'height', 'age', 'nha'], index = ['one', 'two', 'three', 'four', 'five'])\n",
    "print('Retriving a row:\\n', frame.loc['one'])\n",
    "\n",
    "# Changing the values of an existing column\n",
    "frame['height'] = np.random.randint(150, 180, 5)\n",
    "\n",
    "# Adding a new column\n",
    "frame['asd'] = np.arange(5)\n",
    "\n",
    "# Updating a column via indexed Series\n",
    "val = Series(np.random.randint(10, 20, 4), index=['one', 'three', 'five', 'seven'])\n",
    "frame['nha'] = val"
   ]
  },
  {
   "cell_type": "code",
   "execution_count": 17,
   "metadata": {
    "ExecuteTime": {
     "end_time": "2019-09-06T11:27:51.205182Z",
     "start_time": "2019-09-06T11:27:51.186688Z"
    },
    "slideshow": {
     "slide_type": "subslide"
    }
   },
   "outputs": [
    {
     "data": {
      "text/html": [
       "<div>\n",
       "<style scoped>\n",
       "    .dataframe tbody tr th:only-of-type {\n",
       "        vertical-align: middle;\n",
       "    }\n",
       "\n",
       "    .dataframe tbody tr th {\n",
       "        vertical-align: top;\n",
       "    }\n",
       "\n",
       "    .dataframe thead th {\n",
       "        text-align: right;\n",
       "    }\n",
       "</style>\n",
       "<table border=\"1\" class=\"dataframe\">\n",
       "  <thead>\n",
       "    <tr style=\"text-align: right;\">\n",
       "      <th></th>\n",
       "      <th>name</th>\n",
       "      <th>height</th>\n",
       "      <th>age</th>\n",
       "      <th>nha</th>\n",
       "      <th>asd</th>\n",
       "    </tr>\n",
       "  </thead>\n",
       "  <tbody>\n",
       "    <tr>\n",
       "      <th>one</th>\n",
       "      <td>abc</td>\n",
       "      <td>164</td>\n",
       "      <td>23</td>\n",
       "      <td>18.0</td>\n",
       "      <td>0</td>\n",
       "    </tr>\n",
       "    <tr>\n",
       "      <th>two</th>\n",
       "      <td>def</td>\n",
       "      <td>179</td>\n",
       "      <td>74</td>\n",
       "      <td>NaN</td>\n",
       "      <td>1</td>\n",
       "    </tr>\n",
       "    <tr>\n",
       "      <th>three</th>\n",
       "      <td>ghi</td>\n",
       "      <td>162</td>\n",
       "      <td>31</td>\n",
       "      <td>11.0</td>\n",
       "      <td>2</td>\n",
       "    </tr>\n",
       "    <tr>\n",
       "      <th>four</th>\n",
       "      <td>jkl</td>\n",
       "      <td>154</td>\n",
       "      <td>16</td>\n",
       "      <td>NaN</td>\n",
       "      <td>3</td>\n",
       "    </tr>\n",
       "    <tr>\n",
       "      <th>five</th>\n",
       "      <td>mno</td>\n",
       "      <td>165</td>\n",
       "      <td>34</td>\n",
       "      <td>12.0</td>\n",
       "      <td>4</td>\n",
       "    </tr>\n",
       "  </tbody>\n",
       "</table>\n",
       "</div>"
      ],
      "text/plain": [
       "      name  height  age   nha  asd\n",
       "one    abc     164   23  18.0    0\n",
       "two    def     179   74   NaN    1\n",
       "three  ghi     162   31  11.0    2\n",
       "four   jkl     154   16   NaN    3\n",
       "five   mno     165   34  12.0    4"
      ]
     },
     "execution_count": 17,
     "metadata": {},
     "output_type": "execute_result"
    }
   ],
   "source": [
    "frame"
   ]
  },
  {
   "cell_type": "code",
   "execution_count": 18,
   "metadata": {
    "ExecuteTime": {
     "end_time": "2019-09-06T11:27:51.222798Z",
     "start_time": "2019-09-06T11:27:51.208227Z"
    },
    "slideshow": {
     "slide_type": "fragment"
    }
   },
   "outputs": [
    {
     "data": {
      "text/html": [
       "<div>\n",
       "<style scoped>\n",
       "    .dataframe tbody tr th:only-of-type {\n",
       "        vertical-align: middle;\n",
       "    }\n",
       "\n",
       "    .dataframe tbody tr th {\n",
       "        vertical-align: top;\n",
       "    }\n",
       "\n",
       "    .dataframe thead th {\n",
       "        text-align: right;\n",
       "    }\n",
       "</style>\n",
       "<table border=\"1\" class=\"dataframe\">\n",
       "  <thead>\n",
       "    <tr style=\"text-align: right;\">\n",
       "      <th></th>\n",
       "      <th>name</th>\n",
       "      <th>height</th>\n",
       "      <th>age</th>\n",
       "    </tr>\n",
       "  </thead>\n",
       "  <tbody>\n",
       "    <tr>\n",
       "      <th>one</th>\n",
       "      <td>abc</td>\n",
       "      <td>164</td>\n",
       "      <td>23</td>\n",
       "    </tr>\n",
       "    <tr>\n",
       "      <th>two</th>\n",
       "      <td>def</td>\n",
       "      <td>179</td>\n",
       "      <td>74</td>\n",
       "    </tr>\n",
       "    <tr>\n",
       "      <th>three</th>\n",
       "      <td>ghi</td>\n",
       "      <td>162</td>\n",
       "      <td>31</td>\n",
       "    </tr>\n",
       "    <tr>\n",
       "      <th>four</th>\n",
       "      <td>jkl</td>\n",
       "      <td>154</td>\n",
       "      <td>16</td>\n",
       "    </tr>\n",
       "    <tr>\n",
       "      <th>five</th>\n",
       "      <td>mno</td>\n",
       "      <td>165</td>\n",
       "      <td>34</td>\n",
       "    </tr>\n",
       "  </tbody>\n",
       "</table>\n",
       "</div>"
      ],
      "text/plain": [
       "      name  height  age\n",
       "one    abc     164   23\n",
       "two    def     179   74\n",
       "three  ghi     162   31\n",
       "four   jkl     154   16\n",
       "five   mno     165   34"
      ]
     },
     "execution_count": 18,
     "metadata": {},
     "output_type": "execute_result"
    }
   ],
   "source": [
    "del frame['asd']\n",
    "frame.drop('nha', axis=1)"
   ]
  },
  {
   "cell_type": "markdown",
   "metadata": {
    "slideshow": {
     "slide_type": "subslide"
    }
   },
   "source": [
    "  - Nested dict can also be used to create a DataFrame\n",
    "  - pandas will interpret the outer dict keys as columns and the inner keys as the row indices\n",
    "  - A DataFrame can be transposed (swap rows and columns) similar to NumPy array\n",
    "  - A new DataFrame can be created from an existing DF, by selecting the columns that are required to be inserted"
   ]
  },
  {
   "cell_type": "code",
   "execution_count": 19,
   "metadata": {
    "ExecuteTime": {
     "end_time": "2019-09-06T11:27:51.231500Z",
     "start_time": "2019-09-06T11:27:51.225368Z"
    },
    "slideshow": {
     "slide_type": "fragment"
    }
   },
   "outputs": [],
   "source": [
    "pop = {'Nevada': {2001: 2.4, 2002: 2.9},\n",
    "       'Ohio': {2000: 1.5, 2001: 1.7, 2002: 3.6}}\n",
    "frame1 = DataFrame(pop)"
   ]
  },
  {
   "cell_type": "code",
   "execution_count": 20,
   "metadata": {
    "ExecuteTime": {
     "end_time": "2019-09-06T11:27:51.243506Z",
     "start_time": "2019-09-06T11:27:51.235186Z"
    },
    "slideshow": {
     "slide_type": "subslide"
    }
   },
   "outputs": [
    {
     "data": {
      "text/html": [
       "<div>\n",
       "<style scoped>\n",
       "    .dataframe tbody tr th:only-of-type {\n",
       "        vertical-align: middle;\n",
       "    }\n",
       "\n",
       "    .dataframe tbody tr th {\n",
       "        vertical-align: top;\n",
       "    }\n",
       "\n",
       "    .dataframe thead th {\n",
       "        text-align: right;\n",
       "    }\n",
       "</style>\n",
       "<table border=\"1\" class=\"dataframe\">\n",
       "  <thead>\n",
       "    <tr style=\"text-align: right;\">\n",
       "      <th></th>\n",
       "      <th>Nevada</th>\n",
       "      <th>Ohio</th>\n",
       "    </tr>\n",
       "  </thead>\n",
       "  <tbody>\n",
       "    <tr>\n",
       "      <th>2000</th>\n",
       "      <td>NaN</td>\n",
       "      <td>1.5</td>\n",
       "    </tr>\n",
       "    <tr>\n",
       "      <th>2001</th>\n",
       "      <td>2.4</td>\n",
       "      <td>1.7</td>\n",
       "    </tr>\n",
       "    <tr>\n",
       "      <th>2002</th>\n",
       "      <td>2.9</td>\n",
       "      <td>3.6</td>\n",
       "    </tr>\n",
       "  </tbody>\n",
       "</table>\n",
       "</div>"
      ],
      "text/plain": [
       "      Nevada  Ohio\n",
       "2000     NaN   1.5\n",
       "2001     2.4   1.7\n",
       "2002     2.9   3.6"
      ]
     },
     "execution_count": 20,
     "metadata": {},
     "output_type": "execute_result"
    }
   ],
   "source": [
    "frame1"
   ]
  },
  {
   "cell_type": "code",
   "execution_count": 21,
   "metadata": {
    "ExecuteTime": {
     "end_time": "2019-09-06T11:27:51.257366Z",
     "start_time": "2019-09-06T11:27:51.246877Z"
    },
    "slideshow": {
     "slide_type": "fragment"
    }
   },
   "outputs": [
    {
     "data": {
      "text/html": [
       "<div>\n",
       "<style scoped>\n",
       "    .dataframe tbody tr th:only-of-type {\n",
       "        vertical-align: middle;\n",
       "    }\n",
       "\n",
       "    .dataframe tbody tr th {\n",
       "        vertical-align: top;\n",
       "    }\n",
       "\n",
       "    .dataframe thead th {\n",
       "        text-align: right;\n",
       "    }\n",
       "</style>\n",
       "<table border=\"1\" class=\"dataframe\">\n",
       "  <thead>\n",
       "    <tr style=\"text-align: right;\">\n",
       "      <th></th>\n",
       "      <th>2000</th>\n",
       "      <th>2001</th>\n",
       "      <th>2002</th>\n",
       "    </tr>\n",
       "  </thead>\n",
       "  <tbody>\n",
       "    <tr>\n",
       "      <th>Nevada</th>\n",
       "      <td>NaN</td>\n",
       "      <td>2.4</td>\n",
       "      <td>2.9</td>\n",
       "    </tr>\n",
       "    <tr>\n",
       "      <th>Ohio</th>\n",
       "      <td>1.5</td>\n",
       "      <td>1.7</td>\n",
       "      <td>3.6</td>\n",
       "    </tr>\n",
       "  </tbody>\n",
       "</table>\n",
       "</div>"
      ],
      "text/plain": [
       "        2000  2001  2002\n",
       "Nevada   NaN   2.4   2.9\n",
       "Ohio     1.5   1.7   3.6"
      ]
     },
     "execution_count": 21,
     "metadata": {},
     "output_type": "execute_result"
    }
   ],
   "source": [
    "# Transposing a DF\n",
    "frame1.T"
   ]
  },
  {
   "cell_type": "code",
   "execution_count": 22,
   "metadata": {
    "ExecuteTime": {
     "end_time": "2019-09-06T11:27:51.271372Z",
     "start_time": "2019-09-06T11:27:51.260611Z"
    },
    "slideshow": {
     "slide_type": "fragment"
    }
   },
   "outputs": [
    {
     "data": {
      "text/html": [
       "<div>\n",
       "<style scoped>\n",
       "    .dataframe tbody tr th:only-of-type {\n",
       "        vertical-align: middle;\n",
       "    }\n",
       "\n",
       "    .dataframe tbody tr th {\n",
       "        vertical-align: top;\n",
       "    }\n",
       "\n",
       "    .dataframe thead th {\n",
       "        text-align: right;\n",
       "    }\n",
       "</style>\n",
       "<table border=\"1\" class=\"dataframe\">\n",
       "  <thead>\n",
       "    <tr style=\"text-align: right;\">\n",
       "      <th></th>\n",
       "      <th>Ohio</th>\n",
       "      <th>Neveda</th>\n",
       "    </tr>\n",
       "  </thead>\n",
       "  <tbody>\n",
       "    <tr>\n",
       "      <th>2000</th>\n",
       "      <td>1.5</td>\n",
       "      <td>NaN</td>\n",
       "    </tr>\n",
       "    <tr>\n",
       "      <th>2001</th>\n",
       "      <td>1.7</td>\n",
       "      <td>2.4</td>\n",
       "    </tr>\n",
       "  </tbody>\n",
       "</table>\n",
       "</div>"
      ],
      "text/plain": [
       "      Ohio  Neveda\n",
       "2000   1.5     NaN\n",
       "2001   1.7     2.4"
      ]
     },
     "execution_count": 22,
     "metadata": {},
     "output_type": "execute_result"
    }
   ],
   "source": [
    "# Creating a new DF from an exisiting one\n",
    "frame2 = DataFrame({'Ohio': frame1['Ohio'][:-1],\n",
    "                   'Neveda': frame1['Nevada'][:2]})\n",
    "frame2"
   ]
  },
  {
   "cell_type": "markdown",
   "metadata": {
    "slideshow": {
     "slide_type": "subslide"
    }
   },
   "source": [
    "- All index row names and column names can also be changed \n",
    "- Additionally, a frame index and column title can be directly set using its name attribute\n",
    "- If all the rows and column names are changed, then the change of title statement should be always called after it\n",
    "- When all the data contained in a DataFrame are returned, it gets returned as a 2-D array\n",
    "- If columns are heterogeneous in the DataFrame, the dtype of the values array will be of type *object*"
   ]
  },
  {
   "cell_type": "code",
   "execution_count": 23,
   "metadata": {
    "ExecuteTime": {
     "end_time": "2019-09-06T11:27:51.285683Z",
     "start_time": "2019-09-06T11:27:51.274163Z"
    },
    "slideshow": {
     "slide_type": "fragment"
    }
   },
   "outputs": [
    {
     "data": {
      "text/html": [
       "<div>\n",
       "<style scoped>\n",
       "    .dataframe tbody tr th:only-of-type {\n",
       "        vertical-align: middle;\n",
       "    }\n",
       "\n",
       "    .dataframe tbody tr th {\n",
       "        vertical-align: top;\n",
       "    }\n",
       "\n",
       "    .dataframe thead th {\n",
       "        text-align: right;\n",
       "    }\n",
       "</style>\n",
       "<table border=\"1\" class=\"dataframe\">\n",
       "  <thead>\n",
       "    <tr style=\"text-align: right;\">\n",
       "      <th>state</th>\n",
       "      <th>x</th>\n",
       "      <th>y</th>\n",
       "    </tr>\n",
       "    <tr>\n",
       "      <th>year</th>\n",
       "      <th></th>\n",
       "      <th></th>\n",
       "    </tr>\n",
       "  </thead>\n",
       "  <tbody>\n",
       "    <tr>\n",
       "      <th>0</th>\n",
       "      <td>1.5</td>\n",
       "      <td>NaN</td>\n",
       "    </tr>\n",
       "    <tr>\n",
       "      <th>1</th>\n",
       "      <td>1.7</td>\n",
       "      <td>2.4</td>\n",
       "    </tr>\n",
       "  </tbody>\n",
       "</table>\n",
       "</div>"
      ],
      "text/plain": [
       "state    x    y\n",
       "year           \n",
       "0      1.5  NaN\n",
       "1      1.7  2.4"
      ]
     },
     "execution_count": 23,
     "metadata": {},
     "output_type": "execute_result"
    }
   ],
   "source": [
    "# Changing all column and row names\n",
    "frame2.columns =  ['x', 'y']\n",
    "frame2.index = [0, 1]\n",
    "\n",
    "# Changing column and row titles / axis names\n",
    "frame2.index.name = 'year'\n",
    "frame2.columns.name = 'state'\n",
    "\n",
    "frame2"
   ]
  },
  {
   "cell_type": "code",
   "execution_count": 24,
   "metadata": {
    "ExecuteTime": {
     "end_time": "2019-09-06T11:27:51.296310Z",
     "start_time": "2019-09-06T11:27:51.288988Z"
    },
    "slideshow": {
     "slide_type": "subslide"
    }
   },
   "outputs": [
    {
     "data": {
      "text/plain": [
       "array([[1.5, nan],\n",
       "       [1.7, 2.4]])"
      ]
     },
     "execution_count": 24,
     "metadata": {},
     "output_type": "execute_result"
    }
   ],
   "source": [
    "# retriving all values/columns from the DF. A homogeneous DF\n",
    "frame2.values"
   ]
  },
  {
   "cell_type": "code",
   "execution_count": 25,
   "metadata": {
    "ExecuteTime": {
     "end_time": "2019-09-06T11:27:51.305449Z",
     "start_time": "2019-09-06T11:27:51.299801Z"
    },
    "slideshow": {
     "slide_type": "fragment"
    }
   },
   "outputs": [
    {
     "data": {
      "text/plain": [
       "array([4, 'A', '6.0', -1], dtype=object)"
      ]
     },
     "execution_count": 25,
     "metadata": {},
     "output_type": "execute_result"
    }
   ],
   "source": [
    "# retriving all values/columns from the DF. A heterogeneous DF\n",
    "obj.values"
   ]
  },
  {
   "cell_type": "markdown",
   "metadata": {
    "slideshow": {
     "slide_type": "subslide"
    }
   },
   "source": [
    "  - Input types for DataFrames\n",
    "<img src='df_inputs.png'>"
   ]
  },
  {
   "cell_type": "markdown",
   "metadata": {
    "slideshow": {
     "slide_type": "subslide"
    }
   },
   "source": [
    "  - **Index Objects**\n",
    "  - pandas Index objects are responsible for holding the axis labels and other metadata\n",
    "    - like axis names or names\n",
    "  - Any array or other sequence of labels used when constructing a Series or DataFrame is internally converted to an Index\n",
    "  - Index objects are immutable\n",
    "  - Making it safer to share Index objects among data structures\n",
    "  - Index objects also behaves like a fixed-size set, meaning we can perform certain set operations\n",
    "  - However, pandas index can contain duplicate labels"
   ]
  },
  {
   "cell_type": "markdown",
   "metadata": {
    "slideshow": {
     "slide_type": "subslide"
    }
   },
   "source": [
    "  - Index Objects Methods\n",
    "<img src='./index_methods.png'>"
   ]
  },
  {
   "cell_type": "code",
   "execution_count": 26,
   "metadata": {
    "ExecuteTime": {
     "end_time": "2019-09-06T11:27:51.318090Z",
     "start_time": "2019-09-06T11:27:51.307746Z"
    },
    "slideshow": {
     "slide_type": "subslide"
    }
   },
   "outputs": [
    {
     "data": {
      "text/plain": [
       "Index(['a', 'b', 'c'], dtype='object')"
      ]
     },
     "execution_count": 26,
     "metadata": {},
     "output_type": "execute_result"
    }
   ],
   "source": [
    "obj = Series(range(3), index=['a', 'b', 'c'])\n",
    "index = obj.index\n",
    "\n",
    "index"
   ]
  },
  {
   "cell_type": "code",
   "execution_count": 27,
   "metadata": {
    "ExecuteTime": {
     "end_time": "2019-09-06T11:27:51.324922Z",
     "start_time": "2019-09-06T11:27:51.320338Z"
    },
    "slideshow": {
     "slide_type": "fragment"
    }
   },
   "outputs": [
    {
     "data": {
      "text/plain": [
       "Index(['b', 'c'], dtype='object')"
      ]
     },
     "execution_count": 27,
     "metadata": {},
     "output_type": "execute_result"
    }
   ],
   "source": [
    "index[1:]"
   ]
  },
  {
   "cell_type": "code",
   "execution_count": 28,
   "metadata": {
    "ExecuteTime": {
     "end_time": "2019-09-06T11:27:51.331280Z",
     "start_time": "2019-09-06T11:27:51.327441Z"
    },
    "slideshow": {
     "slide_type": "fragment"
    }
   },
   "outputs": [],
   "source": [
    "# index[1] = 'd' # TypeError"
   ]
  },
  {
   "cell_type": "code",
   "execution_count": 29,
   "metadata": {
    "ExecuteTime": {
     "end_time": "2019-09-06T11:27:51.341875Z",
     "start_time": "2019-09-06T11:27:51.334251Z"
    },
    "slideshow": {
     "slide_type": "fragment"
    }
   },
   "outputs": [
    {
     "data": {
      "text/plain": [
       "Int64Index([0, 1, 2], dtype='int64')"
      ]
     },
     "execution_count": 29,
     "metadata": {},
     "output_type": "execute_result"
    }
   ],
   "source": [
    "labels = pd.Index(np.arange(3))\n",
    "labels"
   ]
  },
  {
   "cell_type": "code",
   "execution_count": 30,
   "metadata": {
    "ExecuteTime": {
     "end_time": "2019-09-06T11:27:51.352215Z",
     "start_time": "2019-09-06T11:27:51.345219Z"
    },
    "slideshow": {
     "slide_type": "subslide"
    }
   },
   "outputs": [
    {
     "data": {
      "text/plain": [
       "0    1.5\n",
       "1   -2.5\n",
       "2    0.0\n",
       "dtype: float64"
      ]
     },
     "execution_count": 30,
     "metadata": {},
     "output_type": "execute_result"
    }
   ],
   "source": [
    "obj2 = Series([1.5, -2.5, 0], index=labels)\n",
    "obj2"
   ]
  },
  {
   "cell_type": "code",
   "execution_count": 31,
   "metadata": {
    "ExecuteTime": {
     "end_time": "2019-09-06T11:27:51.360749Z",
     "start_time": "2019-09-06T11:27:51.354671Z"
    },
    "slideshow": {
     "slide_type": "fragment"
    }
   },
   "outputs": [
    {
     "data": {
      "text/plain": [
       "True"
      ]
     },
     "execution_count": 31,
     "metadata": {},
     "output_type": "execute_result"
    }
   ],
   "source": [
    "obj2.index is labels"
   ]
  },
  {
   "cell_type": "code",
   "execution_count": 32,
   "metadata": {
    "ExecuteTime": {
     "end_time": "2019-09-06T11:27:51.372835Z",
     "start_time": "2019-09-06T11:27:51.363978Z"
    },
    "slideshow": {
     "slide_type": "fragment"
    }
   },
   "outputs": [
    {
     "data": {
      "text/html": [
       "<div>\n",
       "<style scoped>\n",
       "    .dataframe tbody tr th:only-of-type {\n",
       "        vertical-align: middle;\n",
       "    }\n",
       "\n",
       "    .dataframe tbody tr th {\n",
       "        vertical-align: top;\n",
       "    }\n",
       "\n",
       "    .dataframe thead th {\n",
       "        text-align: right;\n",
       "    }\n",
       "</style>\n",
       "<table border=\"1\" class=\"dataframe\">\n",
       "  <thead>\n",
       "    <tr style=\"text-align: right;\">\n",
       "      <th>state</th>\n",
       "      <th>x</th>\n",
       "      <th>y</th>\n",
       "    </tr>\n",
       "    <tr>\n",
       "      <th>year</th>\n",
       "      <th></th>\n",
       "      <th></th>\n",
       "    </tr>\n",
       "  </thead>\n",
       "  <tbody>\n",
       "    <tr>\n",
       "      <th>0</th>\n",
       "      <td>1.5</td>\n",
       "      <td>NaN</td>\n",
       "    </tr>\n",
       "    <tr>\n",
       "      <th>1</th>\n",
       "      <td>1.7</td>\n",
       "      <td>2.4</td>\n",
       "    </tr>\n",
       "  </tbody>\n",
       "</table>\n",
       "</div>"
      ],
      "text/plain": [
       "state    x    y\n",
       "year           \n",
       "0      1.5  NaN\n",
       "1      1.7  2.4"
      ]
     },
     "execution_count": 32,
     "metadata": {},
     "output_type": "execute_result"
    }
   ],
   "source": [
    "frame2"
   ]
  },
  {
   "cell_type": "code",
   "execution_count": 33,
   "metadata": {
    "ExecuteTime": {
     "end_time": "2019-09-06T11:27:51.383600Z",
     "start_time": "2019-09-06T11:27:51.375760Z"
    },
    "slideshow": {
     "slide_type": "fragment"
    }
   },
   "outputs": [
    {
     "name": "stdout",
     "output_type": "stream",
     "text": [
      "Index(['x', 'y'], dtype='object', name='state')\n",
      "'y' in frame2.columns: True\n",
      "0 in frame2.index: True\n"
     ]
    }
   ],
   "source": [
    "print(frame2.columns)\n",
    "print('\\'y\\' in frame2.columns:', 'y' in frame2.columns )\n",
    "print('0 in frame2.index:', 0 in frame2.index)"
   ]
  }
 ],
 "metadata": {
  "celltoolbar": "Slideshow",
  "kernelspec": {
   "display_name": "Python 3",
   "language": "python",
   "name": "python3"
  },
  "language_info": {
   "codemirror_mode": {
    "name": "ipython",
    "version": 3
   },
   "file_extension": ".py",
   "mimetype": "text/x-python",
   "name": "python",
   "nbconvert_exporter": "python",
   "pygments_lexer": "ipython3",
   "version": "3.7.3"
  },
  "varInspector": {
   "cols": {
    "lenName": 16,
    "lenType": 16,
    "lenVar": 40
   },
   "kernels_config": {
    "python": {
     "delete_cmd_postfix": "",
     "delete_cmd_prefix": "del ",
     "library": "var_list.py",
     "varRefreshCmd": "print(var_dic_list())"
    },
    "r": {
     "delete_cmd_postfix": ") ",
     "delete_cmd_prefix": "rm(",
     "library": "var_list.r",
     "varRefreshCmd": "cat(var_dic_list()) "
    }
   },
   "types_to_exclude": [
    "module",
    "function",
    "builtin_function_or_method",
    "instance",
    "_Feature"
   ],
   "window_display": false
  }
 },
 "nbformat": 4,
 "nbformat_minor": 2
}
