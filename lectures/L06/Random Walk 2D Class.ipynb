{
 "cells": [
  {
   "cell_type": "code",
   "execution_count": 1,
   "metadata": {
    "ExecuteTime": {
     "end_time": "2019-09-06T12:01:49.839775Z",
     "start_time": "2019-09-06T12:01:49.834256Z"
    }
   },
   "outputs": [],
   "source": [
    "import numpy as np\n",
    "import matplotlib.pyplot as plt\n",
    "from matplotlib import animation"
   ]
  },
  {
   "cell_type": "markdown",
   "metadata": {},
   "source": [
    "### A simple Random Walk on a 2-D space"
   ]
  },
  {
   "cell_type": "code",
   "execution_count": 2,
   "metadata": {
    "ExecuteTime": {
     "end_time": "2019-09-06T12:01:50.643248Z",
     "start_time": "2019-09-06T12:01:50.638611Z"
    }
   },
   "outputs": [],
   "source": [
    "# A random walk on a 2-D space\n",
    "# Set the random seed\n",
    "\n",
    "# Define the number of steps. nsteps=1000\n",
    "\n",
    "\n",
    "# Draw a random sequence integers to represent each step \n",
    "# the random draw can have a value 0:north, 1:east,2:south, 4:west\n"
   ]
  },
  {
   "cell_type": "code",
   "execution_count": 3,
   "metadata": {
    "ExecuteTime": {
     "end_time": "2019-09-06T12:01:50.908849Z",
     "start_time": "2019-09-06T12:01:50.902965Z"
    }
   },
   "outputs": [
    {
     "ename": "NameError",
     "evalue": "name 'direction' is not defined",
     "output_type": "error",
     "traceback": [
      "\u001b[0;31m---------------------------------------------------------------------------\u001b[0m",
      "\u001b[0;31mNameError\u001b[0m                                 Traceback (most recent call last)",
      "\u001b[0;32m<ipython-input-3-720d3ce8657c>\u001b[0m in \u001b[0;36m<module>\u001b[0;34m\u001b[0m\n\u001b[1;32m      3\u001b[0m \u001b[0;34m\u001b[0m\u001b[0m\n\u001b[1;32m      4\u001b[0m \u001b[0;31m# Vectorize the function, so that it can be used for element wise operations like a ufunc\u001b[0m\u001b[0;34m\u001b[0m\u001b[0;34m\u001b[0m\u001b[0;34m\u001b[0m\u001b[0m\n\u001b[0;32m----> 5\u001b[0;31m \u001b[0mv_direction\u001b[0m \u001b[0;34m=\u001b[0m \u001b[0mnp\u001b[0m\u001b[0;34m.\u001b[0m\u001b[0mvectorize\u001b[0m\u001b[0;34m(\u001b[0m\u001b[0mdirection\u001b[0m\u001b[0;34m,\u001b[0m \u001b[0msignature\u001b[0m\u001b[0;34m=\u001b[0m\u001b[0;34m'()->(n)'\u001b[0m\u001b[0;34m)\u001b[0m\u001b[0;34m\u001b[0m\u001b[0;34m\u001b[0m\u001b[0m\n\u001b[0m\u001b[1;32m      6\u001b[0m \u001b[0;34m\u001b[0m\u001b[0m\n\u001b[1;32m      7\u001b[0m \u001b[0;31m# Get the steps by converting the directions from draws into coordinates\u001b[0m\u001b[0;34m\u001b[0m\u001b[0;34m\u001b[0m\u001b[0;34m\u001b[0m\u001b[0m\n",
      "\u001b[0;31mNameError\u001b[0m: name 'direction' is not defined"
     ]
    }
   ],
   "source": [
    "# Create a function to convert the steps into directions in a 2-D grid with origin as [0, 0]\n",
    "# store the result in a variable called direction\n",
    "\n",
    "# Vectorize the function, so that it can be used for element wise operations like a ufunc\n",
    "v_direction = np.vectorize(direction, signature='()->(n)')\n",
    "\n",
    "# Get the steps by converting the directions from draws into coordinates\n"
   ]
  },
  {
   "cell_type": "code",
   "execution_count": null,
   "metadata": {
    "ExecuteTime": {
     "end_time": "2019-09-06T12:01:51.074617Z",
     "start_time": "2019-09-06T12:01:51.069987Z"
    }
   },
   "outputs": [],
   "source": [
    "# Perform a cumulative sum on axis=0 to get the respective coordinates after each step and create the walk\n"
   ]
  },
  {
   "cell_type": "code",
   "execution_count": null,
   "metadata": {
    "ExecuteTime": {
     "end_time": "2019-09-06T12:01:51.132787Z",
     "start_time": "2019-09-06T12:01:51.126868Z"
    }
   },
   "outputs": [],
   "source": [
    "# Create a walk by the origin [[0, 0]] to the top, so that we can use it as a marker later. \n",
    "#use np.concatenate((arr1, arr2))\n",
    "# store the result in a variable called walk\n"
   ]
  },
  {
   "cell_type": "code",
   "execution_count": null,
   "metadata": {
    "ExecuteTime": {
     "end_time": "2019-09-06T12:01:51.301617Z",
     "start_time": "2019-09-06T12:01:51.294812Z"
    }
   },
   "outputs": [],
   "source": [
    "# We check that the step between two consecutive points equals to one\n",
    "# np.sqrt((x[i] - x[i+1]) **2 + (y[i] - y[i+1])**2)\n",
    "\n",
    "\n",
    "# find the average. It should be 1 if everything went well\n"
   ]
  },
  {
   "cell_type": "markdown",
   "metadata": {},
   "source": [
    "### Visualize the Random Walk"
   ]
  },
  {
   "cell_type": "code",
   "execution_count": null,
   "metadata": {
    "ExecuteTime": {
     "end_time": "2019-09-06T12:01:51.563077Z",
     "start_time": "2019-09-06T12:01:51.558708Z"
    }
   },
   "outputs": [],
   "source": [
    "# initialization function: plot the background of each frame\n",
    "def init():\n",
    "    ax.plot(walk[0, 0], walk[0, 1], 'go') # Mark the 1st point as start\n",
    "    ax.plot(walk[-1, 0], walk[-1, 1], 'ro') # Mark the last point as end\n",
    "    line.set_data([], [])        \n",
    "    return (line,)\n",
    "\n",
    "# animation function. This is called sequentially\n",
    "def animate(i):    \n",
    "    x = walk[:i,0]\n",
    "    y = walk[:i,1]    \n",
    "    line.set_data(x, y)  \n",
    "    return (line,)"
   ]
  },
  {
   "cell_type": "code",
   "execution_count": null,
   "metadata": {
    "ExecuteTime": {
     "end_time": "2019-09-06T12:01:51.852518Z",
     "start_time": "2019-09-06T12:01:51.815929Z"
    }
   },
   "outputs": [],
   "source": [
    "%matplotlib notebook\n",
    "# First set up the figure, the axis, and the plot element we want to animate\n",
    "fig, ax = plt.subplots(figsize=(8,8))\n",
    "ax.set_xlim(walk[:,0].min() -1, walk[:,0].max() + 1)\n",
    "ax.set_ylim(walk[:,1].min() - 1, walk[:,1].max() + 1)\n",
    "line, = ax.plot([], [], linestyle='--', linewidth=0.5)\n",
    "\n",
    "# call the animator. blit=True means only re-draw the parts that have changed.\n",
    "animation.FuncAnimation(fig, animate, init_func=init,\n",
    "                               interval=20, blit=True)"
   ]
  },
  {
   "cell_type": "code",
   "execution_count": null,
   "metadata": {},
   "outputs": [],
   "source": []
  }
 ],
 "metadata": {
  "kernelspec": {
   "display_name": "Python 3",
   "language": "python",
   "name": "python3"
  },
  "language_info": {
   "codemirror_mode": {
    "name": "ipython",
    "version": 3
   },
   "file_extension": ".py",
   "mimetype": "text/x-python",
   "name": "python",
   "nbconvert_exporter": "python",
   "pygments_lexer": "ipython3",
   "version": "3.7.3"
  },
  "varInspector": {
   "cols": {
    "lenName": 16,
    "lenType": 16,
    "lenVar": 40
   },
   "kernels_config": {
    "python": {
     "delete_cmd_postfix": "",
     "delete_cmd_prefix": "del ",
     "library": "var_list.py",
     "varRefreshCmd": "print(var_dic_list())"
    },
    "r": {
     "delete_cmd_postfix": ") ",
     "delete_cmd_prefix": "rm(",
     "library": "var_list.r",
     "varRefreshCmd": "cat(var_dic_list()) "
    }
   },
   "types_to_exclude": [
    "module",
    "function",
    "builtin_function_or_method",
    "instance",
    "_Feature"
   ],
   "window_display": false
  }
 },
 "nbformat": 4,
 "nbformat_minor": 2
}
