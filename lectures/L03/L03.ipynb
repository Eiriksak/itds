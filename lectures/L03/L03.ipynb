{
 "cells": [
  {
   "cell_type": "markdown",
   "metadata": {
    "slideshow": {
     "slide_type": "slide"
    }
   },
   "source": [
    "# Python Essentials\n",
    "## DAT540 Introduction to Data Science\n",
    "## University of Stavanger\n",
    "### L03.1\n",
    "### 29/08/2019\n",
    "\n",
    "#### Antorweep Chakravorty (antorweep.chakravorty@uis.no)"
   ]
  },
  {
   "cell_type": "markdown",
   "metadata": {
    "slideshow": {
     "slide_type": "slide"
    }
   },
   "source": [
    "## Functions\n",
    "- Method of code organization\n",
    "- Groups statements that perform the same or very similar code more than once, so as to be reused multiple times\n",
    "- Makes code more readable by giving a name to a group of python statements\n",
    "- Functions are declared with the *def* keyword\n",
    "- Functions may have arguments that refers to objects on which computation would be performed\n",
    "- Function arguments may be optional with default values, in such cases, the arguments assumes the default value if they are not presented when the function is called\n",
    "- Function can return computational results with the *return* keyword\n",
    "- Multiple return statement might be present in a function, controlled through a control flow statement. \n",
    "- If python reaches the end of the code, without encountering a return statement, *None* is returned automatically\n",
    "```python\n",
    "def change(x, y=10):\n",
    "    return (x - y) / x\n",
    "a = 10\n",
    "b = 20\n",
    "result1 = percentage_change(a, b)\n",
    "result2 = percentage_change(a)\n",
    "result3 = percentage_change(a, y=b)\n",
    "```"
   ]
  },
  {
   "cell_type": "markdown",
   "metadata": {
    "slideshow": {
     "slide_type": "subslide"
    }
   },
   "source": [
    " - **Namespaces, Scope, and Local Functions**\n",
    "  - Functions can access variables in two different scopes: *global* and *local*\n",
    "  - Variable scope is also described as *namespace*.\n",
    "  - Any variables that are assigned within a function, by default are assigned to the local namespace\n",
    "  - The local namespace is created when the function is called and is destroyed after the function execution finishes.\n",
    "  - global objects can be accessed from within a local scope but not directly assigned to"
   ]
  },
  {
   "cell_type": "code",
   "execution_count": 1,
   "metadata": {
    "ExecuteTime": {
     "end_time": "2019-08-29T11:22:10.246455Z",
     "start_time": "2019-08-29T11:22:10.240689Z"
    },
    "slideshow": {
     "slide_type": "subslide"
    }
   },
   "outputs": [
    {
     "name": "stdout",
     "output_type": "stream",
     "text": [
      "[]\n"
     ]
    }
   ],
   "source": [
    "a = []\n",
    "def xyz():\n",
    "  a = [] # Local\n",
    "  a.append(1)\n",
    "xyz() # Call function\n",
    "print(a)  "
   ]
  },
  {
   "cell_type": "code",
   "execution_count": 2,
   "metadata": {
    "ExecuteTime": {
     "end_time": "2019-08-29T11:22:10.254332Z",
     "start_time": "2019-08-29T11:22:10.249047Z"
    },
    "slideshow": {
     "slide_type": "fragment"
    }
   },
   "outputs": [
    {
     "name": "stdout",
     "output_type": "stream",
     "text": [
      "[1]\n"
     ]
    }
   ],
   "source": [
    "a = []\n",
    "def xyz():\n",
    "  a.append(1) # Global\n",
    "xyz() # Call function\n",
    "print(a)"
   ]
  },
  {
   "cell_type": "markdown",
   "metadata": {
    "ExecuteTime": {
     "end_time": "2019-08-29T11:09:00.343181Z",
     "start_time": "2019-08-29T11:09:00.332130Z"
    },
    "slideshow": {
     "slide_type": "subslide"
    }
   },
   "source": [
    "```python\n",
    "a = 1\n",
    "def x():\n",
    "    a += 2\n",
    "    print(a)\n",
    "x()\n",
    "print(a)\n",
    "```\n",
    "**Class Exercise**\n",
    "- what happens in this case"
   ]
  },
  {
   "cell_type": "code",
   "execution_count": 3,
   "metadata": {
    "ExecuteTime": {
     "end_time": "2019-08-29T11:22:10.262251Z",
     "start_time": "2019-08-29T11:22:10.256407Z"
    },
    "slideshow": {
     "slide_type": "fragment"
    }
   },
   "outputs": [
    {
     "name": "stdout",
     "output_type": "stream",
     "text": [
      "3\n",
      "3\n"
     ]
    }
   ],
   "source": [
    "a = 1\n",
    "def x():\n",
    "    global a\n",
    "    a += 2\n",
    "    print(a)\n",
    "x()\n",
    "print(a)"
   ]
  },
  {
   "cell_type": "markdown",
   "metadata": {
    "slideshow": {
     "slide_type": "subslide"
    }
   },
   "source": [
    "  - In order assign to variable outside the scope of the function, the *global* keyword needs to be used"
   ]
  },
  {
   "cell_type": "code",
   "execution_count": 4,
   "metadata": {
    "ExecuteTime": {
     "end_time": "2019-08-29T11:22:10.268746Z",
     "start_time": "2019-08-29T11:22:10.264231Z"
    },
    "slideshow": {
     "slide_type": "fragment"
    }
   },
   "outputs": [
    {
     "name": "stdout",
     "output_type": "stream",
     "text": [
      "11\n"
     ]
    }
   ],
   "source": [
    "a = 10\n",
    "def xyz():\n",
    "  global a\n",
    "  a += 1 # Global\n",
    "xyz() # Call function\n",
    "print(a)"
   ]
  },
  {
   "cell_type": "markdown",
   "metadata": {
    "slideshow": {
     "slide_type": "subslide"
    }
   },
   "source": [
    " - **Returning multiple values**\n",
    "  ```python\n",
    "  def f(returnType = ()):\n",
    "    a, b, c = 1, 2, 3\n",
    "    if isinstance(returnType, list):\n",
    "      return [a, b, c]\n",
    "    elif isinstance(returnType, set):\n",
    "      return {a, b, c}\n",
    "    elif isinstance(returnType, dict):\n",
    "      return {'a': a, 'b': b, 'c': c}\n",
    "    \n",
    "    return a, b, c # Return as a tuple\n",
    "  result1 = f()\n",
    "  result2 = f([])\n",
    "  ```\n",
    "**Class Exercise**\n",
    "- what happens in this case"
   ]
  },
  {
   "cell_type": "markdown",
   "metadata": {
    "slideshow": {
     "slide_type": "subslide"
    }
   },
   "source": [
    " - **Functions as Objects**\n",
    "  - E.g.: Data Cleaning using a sequence of transformations through functions\n",
    "  - Suppose we have a string and we want to prepare it for analysis. In order to do so we need to perform a set of operations to ensure that each word is properly tokenized by stripping whitespaces, removing punctuation symbols and standardizing on proper capitalization.\n",
    "   - The *re* standard library module for regular expression can be used"
   ]
  },
  {
   "cell_type": "code",
   "execution_count": 5,
   "metadata": {
    "ExecuteTime": {
     "end_time": "2019-08-29T11:22:10.277596Z",
     "start_time": "2019-08-29T11:22:10.271339Z"
    },
    "slideshow": {
     "slide_type": "subslide"
    }
   },
   "outputs": [],
   "source": [
    "string = '''Hello WOrld, this is an examplE# string. WE might have \n",
    "!Some  special$ charecter?? associated to some of the words here!!'''"
   ]
  },
  {
   "cell_type": "code",
   "execution_count": 6,
   "metadata": {
    "ExecuteTime": {
     "end_time": "2019-08-29T11:22:10.287775Z",
     "start_time": "2019-08-29T11:22:10.281167Z"
    },
    "slideshow": {
     "slide_type": "fragment"
    }
   },
   "outputs": [],
   "source": [
    "import re\n",
    "def tokenize_string(string):\n",
    "  tokens = string.split(' ')  \n",
    "  tokens = list(filter(None, tokens)) # Remove empty strings  \n",
    "  result = []\n",
    "  for token in tokens:\n",
    "    token = token.strip()\n",
    "    token = re.sub('[!#?$.]', '', token) \n",
    "    # convert the 1st character in each word to Uppercase and remaining characters to lowercase \n",
    "    token = token.title() \n",
    "    result.append(token)\n",
    "  return result"
   ]
  },
  {
   "cell_type": "code",
   "execution_count": 7,
   "metadata": {
    "ExecuteTime": {
     "end_time": "2019-08-29T11:22:10.295520Z",
     "start_time": "2019-08-29T11:22:10.291086Z"
    },
    "slideshow": {
     "slide_type": "fragment"
    }
   },
   "outputs": [
    {
     "name": "stdout",
     "output_type": "stream",
     "text": [
      "['Hello', 'World,', 'This', 'Is', 'An']\n"
     ]
    }
   ],
   "source": [
    "tokens = tokenize_string(string)\n",
    "print(tokens[:5])"
   ]
  },
  {
   "cell_type": "markdown",
   "metadata": {
    "slideshow": {
     "slide_type": "subslide"
    }
   },
   "source": [
    "  - However, alternatively we might want to create a list of operations and apply them sequentially to a set of strings"
   ]
  },
  {
   "cell_type": "code",
   "execution_count": 8,
   "metadata": {
    "ExecuteTime": {
     "end_time": "2019-08-29T11:22:10.303873Z",
     "start_time": "2019-08-29T11:22:10.297824Z"
    },
    "slideshow": {
     "slide_type": "fragment"
    }
   },
   "outputs": [],
   "source": [
    "import re\n",
    "def remove_punctuation(value):\n",
    "  return re.sub('[!#?$.]', '', value) \n",
    "\n",
    "def tokenize_string_with_function_objects(string):\n",
    "  tokenize_ops = [str.strip, remove_punctuation, str.title]\n",
    "  \n",
    "  tokens = string.split(' ')  \n",
    "  tokens = list(filter(None, tokens)) # Remove empty strings  \n",
    "  result = []\n",
    "  for token in tokens:\n",
    "    for function in tokenize_ops:\n",
    "      token = function(token) # We are directly providing the value to the list of functions in tokenize_ops\n",
    "    result.append(token)\n",
    "  return result"
   ]
  },
  {
   "cell_type": "code",
   "execution_count": 9,
   "metadata": {
    "ExecuteTime": {
     "end_time": "2019-08-29T11:22:10.312657Z",
     "start_time": "2019-08-29T11:22:10.306719Z"
    },
    "slideshow": {
     "slide_type": "fragment"
    }
   },
   "outputs": [
    {
     "name": "stdout",
     "output_type": "stream",
     "text": [
      "['Hello', 'World,', 'This', 'Is', 'An']\n"
     ]
    }
   ],
   "source": [
    "tokens = tokenize_string_with_function_objects(string)\n",
    "print(tokens[:5])"
   ]
  },
  {
   "cell_type": "markdown",
   "metadata": {
    "slideshow": {
     "slide_type": "subslide"
    }
   },
   "source": [
    " - **Lambda Functions**\n",
    "  - Python supports so-called anonymous functions or lambda functions, which are a way of writing functions consisting of a single statement that results a return value\n",
    "  - Lambda Functions are defined with the *lambda* keyword\n",
    "  - Convenient to use as arguments to transformation functions while analyzing or cleaning data sets\n",
    "  \n",
    "```python\n",
    "def short_function(x):\n",
    "    return x * 2\n",
    "\n",
    "equiv_anon = lambda x: x * 2\n",
    "```\n",
    "\n"
   ]
  },
  {
   "cell_type": "markdown",
   "metadata": {
    "slideshow": {
     "slide_type": "subslide"
    }
   },
   "source": [
    "  - Examples:\n",
    "    - Transforming a list of integers\n",
    "    "
   ]
  },
  {
   "cell_type": "code",
   "execution_count": 10,
   "metadata": {
    "ExecuteTime": {
     "end_time": "2019-08-29T11:22:10.328348Z",
     "start_time": "2019-08-29T11:22:10.314756Z"
    },
    "slideshow": {
     "slide_type": "fragment"
    }
   },
   "outputs": [
    {
     "data": {
      "text/plain": [
       "[8, 0, 2, 10, 12]"
      ]
     },
     "execution_count": 10,
     "metadata": {},
     "output_type": "execute_result"
    }
   ],
   "source": [
    "def apply_to_list(some_list, f):\n",
    "  return [f(x) for x in some_list]\n",
    "\n",
    "ints = [4, 0, 1, 5, 6]\n",
    "apply_to_list(ints, lambda x: x * 2)"
   ]
  },
  {
   "cell_type": "markdown",
   "metadata": {
    "slideshow": {
     "slide_type": "subslide"
    }
   },
   "source": [
    "    - Transforming a list of strings"
   ]
  },
  {
   "cell_type": "code",
   "execution_count": 11,
   "metadata": {
    "ExecuteTime": {
     "end_time": "2019-08-29T11:22:10.336571Z",
     "start_time": "2019-08-29T11:22:10.330661Z"
    },
    "slideshow": {
     "slide_type": "fragment"
    }
   },
   "outputs": [
    {
     "data": {
      "text/plain": [
       "['aaaa', 'foo', 'abab', 'bar', 'card']"
      ]
     },
     "execution_count": 11,
     "metadata": {},
     "output_type": "execute_result"
    }
   ],
   "source": [
    "strings = ['foo', 'card', 'bar', 'aaaa', 'abab']\n",
    "# We pass a lambda method to the list's sort method\n",
    "strings.sort(key=lambda x: len(set(x)))\n",
    "strings"
   ]
  },
  {
   "cell_type": "markdown",
   "metadata": {
    "slideshow": {
     "slide_type": "fragment"
    }
   },
   "source": [
    "  - What do we get if we use this statement instead\n",
    "\n",
    "```python\n",
    "strings.sort(key=len)\n",
    "```"
   ]
  },
  {
   "cell_type": "code",
   "execution_count": 12,
   "metadata": {
    "ExecuteTime": {
     "end_time": "2019-08-29T11:22:10.343806Z",
     "start_time": "2019-08-29T11:22:10.338353Z"
    },
    "slideshow": {
     "slide_type": "fragment"
    }
   },
   "outputs": [
    {
     "data": {
      "text/plain": [
       "['foo', 'bar', 'aaaa', 'abab', 'card']"
      ]
     },
     "execution_count": 12,
     "metadata": {},
     "output_type": "execute_result"
    }
   ],
   "source": [
    "strings.sort(key=len)\n",
    "strings"
   ]
  },
  {
   "cell_type": "markdown",
   "metadata": {
    "slideshow": {
     "slide_type": "subslide"
    }
   },
   "source": [
    " - **Generators**\n",
    "  - Consistent way to iterate over sequences like objects in lists or lines in a file\n",
    "  - Accomplished by means of the *iterator protocol*, a generic way to make objects iterable\n",
    "  - An iterator is any object that will yield objects to the python interpreter when used in a context like a *for loop*\n",
    "  - Most methods expecting a list or list-like object will also accept any iterable object such as *min*, *max*, *sum*, *list*, and *tuple*"
   ]
  },
  {
   "cell_type": "code",
   "execution_count": 13,
   "metadata": {
    "ExecuteTime": {
     "end_time": "2019-08-29T11:22:10.353320Z",
     "start_time": "2019-08-29T11:22:10.346236Z"
    },
    "slideshow": {
     "slide_type": "fragment"
    }
   },
   "outputs": [
    {
     "name": "stdout",
     "output_type": "stream",
     "text": [
      "<class 'list_iterator'>\n"
     ]
    }
   ],
   "source": [
    "a = [1, 2, 3, 4, 5]\n",
    "a_iterator = iter(a)\n",
    "print(type(a_iterator))"
   ]
  },
  {
   "cell_type": "markdown",
   "metadata": {
    "slideshow": {
     "slide_type": "subslide"
    }
   },
   "source": [
    " - A *generator* is a concise way to construct a new iterable object\n",
    " - Generators return a sequence of multiple results lazily, pausing after each one until the next one is requested\n",
    " - The *yield* keyword is used instead of return in a function to create a generator\n",
    " - When a generator function is called, no node is executed immediately\n",
    " - Generator code is executed only when elements are requested from it"
   ]
  },
  {
   "cell_type": "code",
   "execution_count": 14,
   "metadata": {
    "ExecuteTime": {
     "end_time": "2019-08-29T11:22:10.360300Z",
     "start_time": "2019-08-29T11:22:10.356239Z"
    },
    "slideshow": {
     "slide_type": "fragment"
    }
   },
   "outputs": [],
   "source": [
    "def squares(n=10):\n",
    "    print('Generating squares from 1 to {0}'.format(n ** 2))\n",
    "    for i in range(1, n + 1):\n",
    "        yield i ** 2"
   ]
  },
  {
   "cell_type": "code",
   "execution_count": 15,
   "metadata": {
    "ExecuteTime": {
     "end_time": "2019-08-29T11:22:10.369335Z",
     "start_time": "2019-08-29T11:22:10.363575Z"
    },
    "slideshow": {
     "slide_type": "fragment"
    }
   },
   "outputs": [
    {
     "data": {
      "text/plain": [
       "<generator object squares at 0x7f0dec295e60>"
      ]
     },
     "execution_count": 15,
     "metadata": {},
     "output_type": "execute_result"
    }
   ],
   "source": [
    "gen = squares()\n",
    "gen"
   ]
  },
  {
   "cell_type": "code",
   "execution_count": 16,
   "metadata": {
    "ExecuteTime": {
     "end_time": "2019-08-29T11:22:10.377512Z",
     "start_time": "2019-08-29T11:22:10.371662Z"
    },
    "slideshow": {
     "slide_type": "fragment"
    }
   },
   "outputs": [
    {
     "name": "stdout",
     "output_type": "stream",
     "text": [
      "Generating squares from 1 to 100\n"
     ]
    },
    {
     "data": {
      "text/plain": [
       "[1, 4, 9, 16, 25, 36, 49, 64, 81, 100]"
      ]
     },
     "execution_count": 16,
     "metadata": {},
     "output_type": "execute_result"
    }
   ],
   "source": [
    "list(gen) # we can also use a for loop to go through the generator list"
   ]
  },
  {
   "cell_type": "markdown",
   "metadata": {
    "slideshow": {
     "slide_type": "subslide"
    }
   },
   "source": [
    "  - **Generator expressions** are even more concise ways to create generators"
   ]
  },
  {
   "cell_type": "code",
   "execution_count": 17,
   "metadata": {
    "ExecuteTime": {
     "end_time": "2019-08-29T11:22:10.384661Z",
     "start_time": "2019-08-29T11:22:10.379968Z"
    },
    "slideshow": {
     "slide_type": "fragment"
    }
   },
   "outputs": [
    {
     "name": "stdout",
     "output_type": "stream",
     "text": [
      "<class 'generator'>\n"
     ]
    }
   ],
   "source": [
    "gen = (x ** 2 for x in range(100))\n",
    "print(type(gen))"
   ]
  },
  {
   "cell_type": "markdown",
   "metadata": {
    "slideshow": {
     "slide_type": "fragment"
    }
   },
   "source": [
    "  - Generator expressions can be used instead of list comprehensions as function arguments in many cases"
   ]
  },
  {
   "cell_type": "code",
   "execution_count": 18,
   "metadata": {
    "ExecuteTime": {
     "end_time": "2019-08-29T11:22:10.441128Z",
     "start_time": "2019-08-29T11:22:10.386951Z"
    },
    "slideshow": {
     "slide_type": "fragment"
    }
   },
   "outputs": [
    {
     "name": "stdout",
     "output_type": "stream",
     "text": [
      "<class 'list'> <class 'generator'>\n",
      "[0, 1, 4, 9, 16, 25, 36, 49, 64, 81]\n"
     ]
    },
    {
     "ename": "TypeError",
     "evalue": "'generator' object is not subscriptable",
     "output_type": "error",
     "traceback": [
      "\u001b[0;31m---------------------------------------------------------------------------\u001b[0m",
      "\u001b[0;31mTypeError\u001b[0m                                 Traceback (most recent call last)",
      "\u001b[0;32m<ipython-input-18-5b563f1189eb>\u001b[0m in \u001b[0;36m<module>\u001b[0;34m()\u001b[0m\n\u001b[1;32m      5\u001b[0m \u001b[0mprint\u001b[0m\u001b[0;34m(\u001b[0m\u001b[0mtype\u001b[0m\u001b[0;34m(\u001b[0m\u001b[0ml_comp\u001b[0m\u001b[0;34m)\u001b[0m\u001b[0;34m,\u001b[0m \u001b[0mtype\u001b[0m\u001b[0;34m(\u001b[0m\u001b[0ml_gen\u001b[0m\u001b[0;34m)\u001b[0m\u001b[0;34m)\u001b[0m\u001b[0;34m\u001b[0m\u001b[0m\n\u001b[1;32m      6\u001b[0m \u001b[0mprint\u001b[0m\u001b[0;34m(\u001b[0m\u001b[0ml_comp\u001b[0m\u001b[0;34m[\u001b[0m\u001b[0;34m:\u001b[0m\u001b[0;36m10\u001b[0m\u001b[0;34m]\u001b[0m\u001b[0;34m)\u001b[0m\u001b[0;34m\u001b[0m\u001b[0m\n\u001b[0;32m----> 7\u001b[0;31m \u001b[0mprint\u001b[0m\u001b[0;34m(\u001b[0m\u001b[0ml_gen\u001b[0m\u001b[0;34m[\u001b[0m\u001b[0;34m:\u001b[0m\u001b[0;36m10\u001b[0m\u001b[0;34m]\u001b[0m\u001b[0;34m)\u001b[0m\u001b[0;34m\u001b[0m\u001b[0m\n\u001b[0m",
      "\u001b[0;31mTypeError\u001b[0m: 'generator' object is not subscriptable"
     ]
    }
   ],
   "source": [
    "# Using list comprehensions\n",
    "l_comp = [x ** 2 for x in range(100)]\n",
    "# Using generator\n",
    "l_gen = (x ** 2 for x in range(100))\n",
    "print(type(l_comp), type(l_gen))\n",
    "print(l_comp[:10])\n",
    "print(l_gen[:10])"
   ]
  },
  {
   "cell_type": "markdown",
   "metadata": {
    "slideshow": {
     "slide_type": "subslide"
    }
   },
   "source": [
    "  - Generator vs Comprehensions"
   ]
  },
  {
   "cell_type": "code",
   "execution_count": 19,
   "metadata": {
    "ExecuteTime": {
     "end_time": "2019-08-29T11:22:43.600618Z",
     "start_time": "2019-08-29T11:22:43.588968Z"
    },
    "slideshow": {
     "slide_type": "fragment"
    }
   },
   "outputs": [
    {
     "name": "stdout",
     "output_type": "stream",
     "text": [
      "[0, 1, 2, 3, 4]\n",
      "<generator object <genexpr> at 0x7f0dec230ca8>\n",
      "printing gen\n",
      "0\n",
      "1\n",
      "2\n",
      "3\n",
      "4\n"
     ]
    },
    {
     "ename": "StopIteration",
     "evalue": "",
     "output_type": "error",
     "traceback": [
      "\u001b[0;31m---------------------------------------------------------------------------\u001b[0m",
      "\u001b[0;31mStopIteration\u001b[0m                             Traceback (most recent call last)",
      "\u001b[0;32m<ipython-input-19-39b25219bac7>\u001b[0m in \u001b[0;36m<module>\u001b[0;34m()\u001b[0m\n\u001b[1;32m      5\u001b[0m \u001b[0mprint\u001b[0m\u001b[0;34m(\u001b[0m\u001b[0;34m'printing gen'\u001b[0m\u001b[0;34m)\u001b[0m\u001b[0;34m\u001b[0m\u001b[0m\n\u001b[1;32m      6\u001b[0m \u001b[0;32mwhile\u001b[0m \u001b[0;32mTrue\u001b[0m\u001b[0;34m:\u001b[0m\u001b[0;34m\u001b[0m\u001b[0m\n\u001b[0;32m----> 7\u001b[0;31m   \u001b[0mprint\u001b[0m\u001b[0;34m(\u001b[0m\u001b[0mnext\u001b[0m\u001b[0;34m(\u001b[0m\u001b[0ma_gen\u001b[0m\u001b[0;34m)\u001b[0m\u001b[0;34m)\u001b[0m\u001b[0;34m\u001b[0m\u001b[0m\n\u001b[0m",
      "\u001b[0;31mStopIteration\u001b[0m: "
     ]
    }
   ],
   "source": [
    "a_list = [x for x in range(5)] #iterable\n",
    "a_gen = (x for x in range(5)) #iterator\n",
    "print(a_list)\n",
    "print(a_gen)\n",
    "print('printing gen')\n",
    "while True:\n",
    "  print(next(a_gen))"
   ]
  },
  {
   "cell_type": "code",
   "execution_count": 20,
   "metadata": {
    "ExecuteTime": {
     "end_time": "2019-08-29T11:22:46.398709Z",
     "start_time": "2019-08-29T11:22:46.389639Z"
    },
    "slideshow": {
     "slide_type": "subslide"
    }
   },
   "outputs": [
    {
     "name": "stdout",
     "output_type": "stream",
     "text": [
      "printing list\n"
     ]
    },
    {
     "ename": "TypeError",
     "evalue": "'list' object is not an iterator",
     "output_type": "error",
     "traceback": [
      "\u001b[0;31m---------------------------------------------------------------------------\u001b[0m",
      "\u001b[0;31mTypeError\u001b[0m                                 Traceback (most recent call last)",
      "\u001b[0;32m<ipython-input-20-16e18c1db6c9>\u001b[0m in \u001b[0;36m<module>\u001b[0;34m()\u001b[0m\n\u001b[1;32m      1\u001b[0m \u001b[0mprint\u001b[0m\u001b[0;34m(\u001b[0m\u001b[0;34m'printing list'\u001b[0m\u001b[0;34m)\u001b[0m\u001b[0;34m\u001b[0m\u001b[0m\n\u001b[1;32m      2\u001b[0m \u001b[0;32mwhile\u001b[0m \u001b[0;32mTrue\u001b[0m\u001b[0;34m:\u001b[0m\u001b[0;34m\u001b[0m\u001b[0m\n\u001b[0;32m----> 3\u001b[0;31m   \u001b[0mprint\u001b[0m\u001b[0;34m(\u001b[0m\u001b[0mnext\u001b[0m\u001b[0;34m(\u001b[0m\u001b[0ma_list\u001b[0m\u001b[0;34m)\u001b[0m\u001b[0;34m)\u001b[0m\u001b[0;34m\u001b[0m\u001b[0m\n\u001b[0m",
      "\u001b[0;31mTypeError\u001b[0m: 'list' object is not an iterator"
     ]
    }
   ],
   "source": [
    "print('printing list')\n",
    "while True:\n",
    "  print(next(a_list))"
   ]
  },
  {
   "cell_type": "markdown",
   "metadata": {
    "ExecuteTime": {
     "end_time": "2019-08-29T11:10:44.295211Z",
     "start_time": "2019-08-29T11:10:44.269Z"
    },
    "slideshow": {
     "slide_type": "subslide"
    }
   },
   "source": [
    "**Class Exercise**\n",
    "- **Compare generators and comprehension**"
   ]
  },
  {
   "cell_type": "markdown",
   "metadata": {
    "slideshow": {
     "slide_type": "fragment"
    }
   },
   "source": [
    "  - Generators are better than Comprehensions in some cases but not all. \n",
    "  - Generators are better when memory is in demand\n",
    "  - Generators don't support indexing or slicing. Therefore, it is not possible to directly access an element in an generator such a[0]\n",
    "  - Generators can't be added to lists\n",
    "  - Generators is suited better if we are interested in iterating once. \n",
    "  - Where as, Comprehensions are suited more if we want to store and use the generated results"
   ]
  },
  {
   "cell_type": "markdown",
   "metadata": {
    "slideshow": {
     "slide_type": "subslide"
    }
   },
   "source": [
    " - **itertools** module is a standard library that has a collection of generators for many common data algorithms\n",
    "  - Selected itertools functions\n",
    "  <img src='./itertools.png' width=450>"
   ]
  },
  {
   "cell_type": "code",
   "execution_count": 21,
   "metadata": {
    "ExecuteTime": {
     "end_time": "2019-08-29T11:23:21.844468Z",
     "start_time": "2019-08-29T11:23:21.838637Z"
    },
    "slideshow": {
     "slide_type": "fragment"
    }
   },
   "outputs": [
    {
     "name": "stdout",
     "output_type": "stream",
     "text": [
      "A ['Adam', 'Alan', 'Albert']\n",
      "S ['Steven']\n",
      "W ['Wes', 'Will']\n"
     ]
    }
   ],
   "source": [
    "# groupby - takes any sequence and a function, grouping consecutive elements \n",
    "#  in the sequence by the return value of the function\n",
    "import itertools as it\n",
    "first_letter = lambda x: x[0]\n",
    "all_names = ['Alan', 'Adam', 'Wes', 'Will', 'Albert', 'Steven']\n",
    "all_names.sort() # sorts the list in place. Returns None\n",
    "gby_names = it.groupby(all_names, first_letter)# a generator\n",
    "for letter, names in gby_names:\n",
    "    print(letter, list(names))"
   ]
  },
  {
   "cell_type": "code",
   "execution_count": 22,
   "metadata": {
    "ExecuteTime": {
     "end_time": "2019-08-29T11:23:26.063682Z",
     "start_time": "2019-08-29T11:23:26.058528Z"
    },
    "slideshow": {
     "slide_type": "subslide"
    }
   },
   "outputs": [
    {
     "name": "stdout",
     "output_type": "stream",
     "text": [
      "[(1, 2), (1, 3), (1, 4), (2, 3), (2, 4), (3, 4)]\n"
     ]
    }
   ],
   "source": [
    "# combinations tool returns the **r** length subsequences of elements from the input iterable.\n",
    "#  Combinations are emitted in lexicographic sorted order. So, if the input iterable is sorted, \n",
    "#  the combination tuples will be produced in sorted order.\n",
    "import itertools as it\n",
    "A = [1, 2, 3, 4]\n",
    "combinations = it.combinations(A, 2)# a generator\n",
    "print(list(combinations))"
   ]
  },
  {
   "cell_type": "code",
   "execution_count": 23,
   "metadata": {
    "ExecuteTime": {
     "end_time": "2019-08-29T11:23:28.748884Z",
     "start_time": "2019-08-29T11:23:28.743468Z"
    },
    "slideshow": {
     "slide_type": "fragment"
    }
   },
   "outputs": [
    {
     "name": "stdout",
     "output_type": "stream",
     "text": [
      "[(1, 2), (1, 3), (1, 4), (2, 1), (2, 3), (2, 4), (3, 1), (3, 2), (3, 4), (4, 1), (4, 2), (4, 3)]\n"
     ]
    }
   ],
   "source": [
    "# permutations tool returns successive **r** length permutations of elements in an iterable.\n",
    "#  If **r** is not specified or is None, then  defaults to the length of the iterable, \n",
    "#  and all possible full length permutations are generated.\n",
    "#  Permutations are printed in a lexicographic sorted order. So, if the input iterable is sorted, \n",
    "#  the permutation tuples will be produced in a sorted order.\n",
    "import itertools as it\n",
    "A = [1, 2, 3, 4]\n",
    "permutations = it.permutations(A, 2)# a generator\n",
    "print(list(permutations))"
   ]
  },
  {
   "cell_type": "code",
   "execution_count": 24,
   "metadata": {
    "ExecuteTime": {
     "end_time": "2019-08-29T11:23:31.358437Z",
     "start_time": "2019-08-29T11:23:31.353074Z"
    },
    "slideshow": {
     "slide_type": "subslide"
    }
   },
   "outputs": [
    {
     "name": "stdout",
     "output_type": "stream",
     "text": [
      "[(1, 3), (1, 4), (2, 3), (2, 4)]\n"
     ]
    }
   ],
   "source": [
    "# product tool computes the cartesian product of input iterables. \n",
    "#  It is equivalent to nested for-loops. \n",
    "#  For example, product(A, B) returns the same as ((x,y) for x in A for y in B).\n",
    "A = [1, 2]\n",
    "B = [3, 4]\n",
    "cartesian_product = it.product(A, B)# a generator\n",
    "print(list(cartesian_product))"
   ]
  },
  {
   "cell_type": "markdown",
   "metadata": {
    "slideshow": {
     "slide_type": "subslide"
    }
   },
   "source": [
    " - **Errors and Exception Handling**\n",
    "  - Handling exception is an important part of building any robust program\n",
    "  - Majority of standard data processing methods and modules are designed to work with certain kinds of inputs"
   ]
  },
  {
   "cell_type": "code",
   "execution_count": 25,
   "metadata": {
    "ExecuteTime": {
     "end_time": "2019-08-29T11:23:36.054821Z",
     "start_time": "2019-08-29T11:23:36.041895Z"
    },
    "slideshow": {
     "slide_type": "fragment"
    }
   },
   "outputs": [
    {
     "name": "stdout",
     "output_type": "stream",
     "text": [
      "1.234\n"
     ]
    },
    {
     "ename": "ValueError",
     "evalue": "could not convert string to float: 'xyz'",
     "output_type": "error",
     "traceback": [
      "\u001b[0;31m---------------------------------------------------------------------------\u001b[0m",
      "\u001b[0;31mValueError\u001b[0m                                Traceback (most recent call last)",
      "\u001b[0;32m<ipython-input-25-a4c02da55bdd>\u001b[0m in \u001b[0;36m<module>\u001b[0;34m()\u001b[0m\n\u001b[1;32m      1\u001b[0m \u001b[0mprint\u001b[0m\u001b[0;34m(\u001b[0m\u001b[0mfloat\u001b[0m\u001b[0;34m(\u001b[0m\u001b[0;34m'1.234'\u001b[0m\u001b[0;34m)\u001b[0m\u001b[0;34m)\u001b[0m\u001b[0;34m\u001b[0m\u001b[0m\n\u001b[0;32m----> 2\u001b[0;31m \u001b[0mprint\u001b[0m\u001b[0;34m(\u001b[0m\u001b[0mfloat\u001b[0m\u001b[0;34m(\u001b[0m\u001b[0;34m'xyz'\u001b[0m\u001b[0;34m)\u001b[0m\u001b[0;34m)\u001b[0m\u001b[0;34m\u001b[0m\u001b[0m\n\u001b[0m",
      "\u001b[0;31mValueError\u001b[0m: could not convert string to float: 'xyz'"
     ]
    }
   ],
   "source": [
    "print(float('1.234'))\n",
    "print(float('xyz'))"
   ]
  },
  {
   "cell_type": "markdown",
   "metadata": {
    "slideshow": {
     "slide_type": "subslide"
    }
   },
   "source": [
    "  - In order to fail gracefully or to perform certain corrective action, we may enclose an statement within a *try/except* block"
   ]
  },
  {
   "cell_type": "code",
   "execution_count": 26,
   "metadata": {
    "ExecuteTime": {
     "end_time": "2019-08-29T11:23:43.008299Z",
     "start_time": "2019-08-29T11:23:43.003790Z"
    },
    "slideshow": {
     "slide_type": "fragment"
    }
   },
   "outputs": [
    {
     "name": "stdout",
     "output_type": "stream",
     "text": [
      "1.234\n",
      "Check value\n"
     ]
    }
   ],
   "source": [
    "def convert(x):\n",
    "  try:\n",
    "    return float(x)\n",
    "  except ValueError:\n",
    "    return 'Check value'\n",
    "  \n",
    "print(convert('1.234'))\n",
    "print(convert('xyz'))"
   ]
  },
  {
   "cell_type": "markdown",
   "metadata": {
    "slideshow": {
     "slide_type": "fragment"
    }
   },
   "source": [
    "- What happens when we execute this \n",
    "```python\n",
    "print(convert([1,2,3]))\n",
    "```"
   ]
  },
  {
   "cell_type": "code",
   "execution_count": 27,
   "metadata": {
    "ExecuteTime": {
     "end_time": "2019-08-29T11:23:46.351925Z",
     "start_time": "2019-08-29T11:23:46.339654Z"
    },
    "slideshow": {
     "slide_type": "subslide"
    }
   },
   "outputs": [
    {
     "ename": "TypeError",
     "evalue": "float() argument must be a string or a number, not 'list'",
     "output_type": "error",
     "traceback": [
      "\u001b[0;31m---------------------------------------------------------------------------\u001b[0m",
      "\u001b[0;31mTypeError\u001b[0m                                 Traceback (most recent call last)",
      "\u001b[0;32m<ipython-input-27-67f01aa70252>\u001b[0m in \u001b[0;36m<module>\u001b[0;34m()\u001b[0m\n\u001b[0;32m----> 1\u001b[0;31m \u001b[0mprint\u001b[0m\u001b[0;34m(\u001b[0m\u001b[0mconvert\u001b[0m\u001b[0;34m(\u001b[0m\u001b[0;34m[\u001b[0m\u001b[0;36m1\u001b[0m\u001b[0;34m,\u001b[0m\u001b[0;36m2\u001b[0m\u001b[0;34m,\u001b[0m\u001b[0;36m3\u001b[0m\u001b[0;34m]\u001b[0m\u001b[0;34m)\u001b[0m\u001b[0;34m)\u001b[0m\u001b[0;34m\u001b[0m\u001b[0m\n\u001b[0m",
      "\u001b[0;32m<ipython-input-26-f407b0fbd52e>\u001b[0m in \u001b[0;36mconvert\u001b[0;34m(x)\u001b[0m\n\u001b[1;32m      1\u001b[0m \u001b[0;32mdef\u001b[0m \u001b[0mconvert\u001b[0m\u001b[0;34m(\u001b[0m\u001b[0mx\u001b[0m\u001b[0;34m)\u001b[0m\u001b[0;34m:\u001b[0m\u001b[0;34m\u001b[0m\u001b[0m\n\u001b[1;32m      2\u001b[0m   \u001b[0;32mtry\u001b[0m\u001b[0;34m:\u001b[0m\u001b[0;34m\u001b[0m\u001b[0m\n\u001b[0;32m----> 3\u001b[0;31m     \u001b[0;32mreturn\u001b[0m \u001b[0mfloat\u001b[0m\u001b[0;34m(\u001b[0m\u001b[0mx\u001b[0m\u001b[0;34m)\u001b[0m\u001b[0;34m\u001b[0m\u001b[0m\n\u001b[0m\u001b[1;32m      4\u001b[0m   \u001b[0;32mexcept\u001b[0m \u001b[0mValueError\u001b[0m\u001b[0;34m:\u001b[0m\u001b[0;34m\u001b[0m\u001b[0m\n\u001b[1;32m      5\u001b[0m     \u001b[0;32mreturn\u001b[0m \u001b[0;34m'Check value'\u001b[0m\u001b[0;34m\u001b[0m\u001b[0m\n",
      "\u001b[0;31mTypeError\u001b[0m: float() argument must be a string or a number, not 'list'"
     ]
    }
   ],
   "source": [
    "print(convert([1,2,3]))"
   ]
  },
  {
   "cell_type": "code",
   "execution_count": 29,
   "metadata": {
    "ExecuteTime": {
     "end_time": "2019-08-29T11:25:28.127899Z",
     "start_time": "2019-08-29T11:25:28.122007Z"
    },
    "slideshow": {
     "slide_type": "fragment"
    }
   },
   "outputs": [
    {
     "name": "stdout",
     "output_type": "stream",
     "text": [
      "Check value or type\n"
     ]
    }
   ],
   "source": [
    "# In order to handle this exception, we need to catch TypeErrors as well\n",
    "def convert(x):\n",
    "  try:\n",
    "    return float(x)\n",
    "  except (ValueError, TypeError):\n",
    "    return 'Check value or type'\n",
    "  \n",
    "print(convert([1,2,3]))"
   ]
  },
  {
   "cell_type": "markdown",
   "metadata": {
    "slideshow": {
     "slide_type": "subslide"
    }
   },
   "source": [
    "  - We can enclose the exception types as a tuple to handle multiple exceptions\n",
    "  - However, a choice should be made on which exceptions is to catch. As in the above case, a TypeError might indicate a legitimate bug in the program as the input was neither a numeric or string value\n",
    "  - In order to catch all types of exceptions we just use the *except* keyword without any ErrorType\n",
    "\n",
    "```python\n",
    "try:\n",
    "  #Do something\n",
    "  pass\n",
    "except:\n",
    "  # Do someting\n",
    "  pass\n",
    "```\n",
    "  - In certain cases we might want to suppress an exception, but would like some code to be executed regardless of whether the code in the *try* block succeeds or not. We can do this using *finally*\n",
    "  - Similarly, we can have code that executes only if the *try* block succeeds using *else*\n",
    "  \n",
    "```python\n",
    "f = open(path, 'w')\n",
    "try:\n",
    "  write_to_file(f)\n",
    "except:\n",
    "  print('write fail')\n",
    "else:\n",
    "  print('write success')\n",
    "finally:\n",
    "  f.close()\n",
    "```"
   ]
  },
  {
   "cell_type": "markdown",
   "metadata": {
    "slideshow": {
     "slide_type": "subslide"
    }
   },
   "source": [
    "  - The amount of error stack information displayed can be controlled by using the **%xmode** magic command\n",
    "  - The default value is *%xmode Plain*, it can be changed to *%xmode Verbose* to get even more details"
   ]
  },
  {
   "cell_type": "code",
   "execution_count": 30,
   "metadata": {
    "ExecuteTime": {
     "end_time": "2019-08-29T11:25:31.986130Z",
     "start_time": "2019-08-29T11:25:31.963752Z"
    },
    "slideshow": {
     "slide_type": "fragment"
    }
   },
   "outputs": [
    {
     "name": "stdout",
     "output_type": "stream",
     "text": [
      "Exception reporting mode: Plain\n"
     ]
    },
    {
     "ename": "TypeError",
     "evalue": "float() argument must be a string or a number, not 'list'",
     "output_type": "error",
     "traceback": [
      "Traceback \u001b[0;36m(most recent call last)\u001b[0m:\n",
      "  File \u001b[1;32m\"<ipython-input-30-270587dacb03>\"\u001b[0m, line \u001b[1;32m8\u001b[0m, in \u001b[1;35m<module>\u001b[0m\n    print(convert([1,2,3]))\n",
      "\u001b[0;36m  File \u001b[0;32m\"<ipython-input-30-270587dacb03>\"\u001b[0;36m, line \u001b[0;32m4\u001b[0;36m, in \u001b[0;35mconvert\u001b[0;36m\u001b[0m\n\u001b[0;31m    return float(x)\u001b[0m\n",
      "\u001b[0;31mTypeError\u001b[0m\u001b[0;31m:\u001b[0m float() argument must be a string or a number, not 'list'\n"
     ]
    }
   ],
   "source": [
    "%xmode Plain\n",
    "def convert(x):\n",
    "  try:\n",
    "    return float(x)\n",
    "  except ValueError:\n",
    "    return 'Check value'\n",
    "  \n",
    "print(convert([1,2,3]))"
   ]
  },
  {
   "cell_type": "code",
   "execution_count": 31,
   "metadata": {
    "ExecuteTime": {
     "end_time": "2019-08-29T11:25:33.785075Z",
     "start_time": "2019-08-29T11:25:33.771997Z"
    },
    "slideshow": {
     "slide_type": "subslide"
    }
   },
   "outputs": [
    {
     "name": "stdout",
     "output_type": "stream",
     "text": [
      "Exception reporting mode: Verbose\n"
     ]
    },
    {
     "ename": "TypeError",
     "evalue": "float() argument must be a string or a number, not 'list'",
     "output_type": "error",
     "traceback": [
      "\u001b[0;31m---------------------------------------------------------------------------\u001b[0m",
      "\u001b[0;31mTypeError\u001b[0m                                 Traceback (most recent call last)",
      "\u001b[0;32m<ipython-input-31-c1321eefd54f>\u001b[0m in \u001b[0;36m<module>\u001b[0;34m()\u001b[0m\n\u001b[1;32m      6\u001b[0m     \u001b[0;32mreturn\u001b[0m \u001b[0;34m'check Value'\u001b[0m\u001b[0;34m\u001b[0m\u001b[0m\n\u001b[1;32m      7\u001b[0m \u001b[0;34m\u001b[0m\u001b[0m\n\u001b[0;32m----> 8\u001b[0;31m \u001b[0mprint\u001b[0m\u001b[0;34m(\u001b[0m\u001b[0mconvert\u001b[0m\u001b[0;34m(\u001b[0m\u001b[0;34m[\u001b[0m\u001b[0;36m1\u001b[0m\u001b[0;34m,\u001b[0m\u001b[0;36m2\u001b[0m\u001b[0;34m,\u001b[0m\u001b[0;36m3\u001b[0m\u001b[0;34m]\u001b[0m\u001b[0;34m)\u001b[0m\u001b[0;34m)\u001b[0m\u001b[0;34m\u001b[0m\u001b[0m\n\u001b[0m        \u001b[0;36mglobal\u001b[0m \u001b[0;36mprint\u001b[0m \u001b[0;34m= \u001b[0;36mundefined\u001b[0m\u001b[0m\u001b[0;34m\n        \u001b[0m\u001b[0;36mglobal\u001b[0m \u001b[0;36mconvert\u001b[0m \u001b[0;34m= <function convert at 0x7f0dec257488>\u001b[0m\n",
      "\u001b[0;32m<ipython-input-31-c1321eefd54f>\u001b[0m in \u001b[0;36mconvert\u001b[0;34m(x=[1, 2, 3])\u001b[0m\n\u001b[1;32m      2\u001b[0m \u001b[0;32mdef\u001b[0m \u001b[0mconvert\u001b[0m\u001b[0;34m(\u001b[0m\u001b[0mx\u001b[0m\u001b[0;34m)\u001b[0m\u001b[0;34m:\u001b[0m\u001b[0;34m\u001b[0m\u001b[0m\n\u001b[1;32m      3\u001b[0m   \u001b[0;32mtry\u001b[0m\u001b[0;34m:\u001b[0m\u001b[0;34m\u001b[0m\u001b[0m\n\u001b[0;32m----> 4\u001b[0;31m     \u001b[0;32mreturn\u001b[0m \u001b[0mfloat\u001b[0m\u001b[0;34m(\u001b[0m\u001b[0mx\u001b[0m\u001b[0;34m)\u001b[0m\u001b[0;34m\u001b[0m\u001b[0m\n\u001b[0m        \u001b[0;36mglobal\u001b[0m \u001b[0;36mfloat\u001b[0m \u001b[0;34m= \u001b[0;36mundefined\u001b[0m\u001b[0m\u001b[0;34m\n        \u001b[0m\u001b[0;36mx\u001b[0m \u001b[0;34m= [1, 2, 3]\u001b[0m\n\u001b[1;32m      5\u001b[0m   \u001b[0;32mexcept\u001b[0m \u001b[0mValueError\u001b[0m\u001b[0;34m:\u001b[0m\u001b[0;34m\u001b[0m\u001b[0m\n\u001b[1;32m      6\u001b[0m     \u001b[0;32mreturn\u001b[0m \u001b[0;34m'check Value'\u001b[0m\u001b[0;34m\u001b[0m\u001b[0m\n",
      "\u001b[0;31mTypeError\u001b[0m: float() argument must be a string or a number, not 'list'"
     ]
    }
   ],
   "source": [
    "%xmode Verbose\n",
    "def convert(x):\n",
    "  try:\n",
    "    return float(x)\n",
    "  except ValueError:\n",
    "    return 'check Value'\n",
    "  \n",
    "print(convert([1,2,3]))"
   ]
  },
  {
   "cell_type": "markdown",
   "metadata": {
    "slideshow": {
     "slide_type": "slide"
    }
   },
   "source": [
    "## Files and OS\n",
    " - Files can be opened in python for either reading or writing with their relative or absolute path\n",
    "```python\n",
    "path = './data/file1.txt'\n",
    "f = open(path) # read-only\n",
    "```\n",
    "- By default python opens files only in read-only mode\n",
    "- the file handler object *f* (in this case) can be used as a list to iterate over the lines:\n",
    "```python\n",
    "for line in f:\n",
    "        pass\n",
    "```\n",
    "- lines read by the python interpreter are separated based on the end-of-line (EOL) marker (\\\\n)\n",
    "- Any file that is opened for either read or write operation, must be *explicitly* closed, so that the file releases its resources back to the OS\n",
    "```python\n",
    "f.close()\n",
    "```\n",
    "- Alternatively, we could use the *with* statement to open, perform operation and close the file, without needing to do them explicitly\n",
    "- Once the *with* block gets executed the file is automatically closed\n",
    "```python\n",
    "with open(path) as f:\n",
    "        lines = [x.rstrip() for x in f]\n",
    "```"
   ]
  },
  {
   "cell_type": "markdown",
   "metadata": {
    "slideshow": {
     "slide_type": "subslide"
    }
   },
   "source": [
    "- Reading files in python can also be performed using methods such as *read*, *seek* and *tell*\n",
    " - *read*: returns a certain number of characters from the file and advances the file handle's position by the number of bytes read\n",
    " - *tell*: method gives the current position of the file handle\n",
    " - *seek*: changes the file position to the indicated byte in the file\n",
    "- Writing files in python can be done by opening the file in write '*w*' mode and using the *write* or *writelines* methods.\n",
    "- The *write* method just writes one sequence of chars to the file, whereas the *writelines* method writes a list of strings to the file\n",
    "\n",
    "```python\n",
    "with open('tmp.txt', 'w') as f:\n",
    "    f.writelines(x for x in open(path) if len(x) > 1)\n",
    "```\n",
    "- Files can be also opened in binary mode for both read and write operations by using 'rb' or 'wb' when opening it\n",
    "<img src='./fileop_modes.png' >"
   ]
  },
  {
   "cell_type": "code",
   "execution_count": 32,
   "metadata": {
    "ExecuteTime": {
     "end_time": "2019-08-29T11:25:50.165579Z",
     "start_time": "2019-08-29T11:25:50.156662Z"
    },
    "slideshow": {
     "slide_type": "subslide"
    }
   },
   "outputs": [],
   "source": [
    "strings = ['Reading files in python can also be performed using methods such as read, seek and tell\\n\\n\\n',\n",
    "         '\\tread: returns a certain number of charecters from the file and advances the file\\n\\t\\t handle\\'s position by the number of bytes read\\n\\n',\n",
    "         '\\ttell: method gives the current position of the file handle\\n\\n',\n",
    "         '\\tseek: changes the file position to the indicated byte in the file\\n']\n",
    "\n",
    "with open('tmp.txt', 'w') as f:    \n",
    "    f.writelines(strings)"
   ]
  },
  {
   "cell_type": "code",
   "execution_count": 33,
   "metadata": {
    "ExecuteTime": {
     "end_time": "2019-08-29T11:25:51.201929Z",
     "start_time": "2019-08-29T11:25:51.189932Z"
    },
    "slideshow": {
     "slide_type": "fragment"
    }
   },
   "outputs": [
    {
     "name": "stdout",
     "output_type": "stream",
     "text": [
      "Reading files in python can also be performed using methods such as read, seek and tell\n",
      "\n",
      "\n",
      "\tread: returns a certain number of charecters from the file and advances the file\n",
      "\t\t handle's position by the number of bytes read\n",
      "\n",
      "\ttell: method gives the current position of the file handle\n",
      "\n",
      "\tseek: changes the file position to the indicated byte in the file\n",
      "\n"
     ]
    }
   ],
   "source": [
    "with open('tmp.txt', 'r') as f:\n",
    "  lines = f.readlines()\n",
    "\n",
    "r_strings = ''.join(l for l in lines)\n",
    "print(r_strings)"
   ]
  },
  {
   "cell_type": "markdown",
   "metadata": {
    "slideshow": {
     "slide_type": "subslide"
    }
   },
   "source": [
    "- Important python file methods or attributes\n",
    "<img src='./file_methods.png' >"
   ]
  },
  {
   "cell_type": "markdown",
   "metadata": {
    "slideshow": {
     "slide_type": "subslide"
    }
   },
   "source": [
    " - **Bytes and Unicode with Files**\n",
    "  - The default behavior of python file operation is to open a file in *text mode* or *unicode*\n",
    "  - Files can be opened in *binary mode*, by appending *b* onto the file mode *r* or *w* as *rb* or *wb* respectively"
   ]
  },
  {
   "cell_type": "code",
   "execution_count": 34,
   "metadata": {
    "ExecuteTime": {
     "end_time": "2019-08-29T11:30:39.045440Z",
     "start_time": "2019-08-29T11:30:39.037830Z"
    },
    "slideshow": {
     "slide_type": "fragment"
    }
   },
   "outputs": [],
   "source": [
    "b_string = 'el zorro marrón rápido salta sobre el perro perezoso'.encode()\n",
    "with open('tmp.dat', 'wb') as f:\n",
    "  f.write(b_string)"
   ]
  },
  {
   "cell_type": "code",
   "execution_count": 35,
   "metadata": {
    "ExecuteTime": {
     "end_time": "2019-08-29T11:30:41.233312Z",
     "start_time": "2019-08-29T11:30:41.225483Z"
    },
    "slideshow": {
     "slide_type": "fragment"
    }
   },
   "outputs": [
    {
     "name": "stdout",
     "output_type": "stream",
     "text": [
      "b'el zorro m'\n"
     ]
    }
   ],
   "source": [
    "# Opening in Unicode mode\n",
    "with open('tmp.dat', 'rb') as f:\n",
    "  chars = f.read(10)\n",
    "print(chars)"
   ]
  },
  {
   "cell_type": "markdown",
   "metadata": {
    "ExecuteTime": {
     "end_time": "2019-08-29T11:30:57.702256Z",
     "start_time": "2019-08-29T11:30:57.689899Z"
    },
    "slideshow": {
     "slide_type": "fragment"
    }
   },
   "source": [
    "````python\n",
    "b_string = 'el zorro marrón rápido salta sobre el perro perezoso'\n",
    "with open('tmp.dat', 'w') as f:\n",
    "  f.write(b_string)\n",
    "````\n",
    "**Class Exercise**\n",
    "- what happens in this case"
   ]
  },
  {
   "cell_type": "markdown",
   "metadata": {
    "slideshow": {
     "slide_type": "slide"
    }
   },
   "source": [
    "# NumPy: Arrays and Vectorized Computations\n",
    "## DAT540 Introduction to Data Science\n",
    "## University of Stavanger\n",
    "### L03.2\n",
    "### 29/08/2019\n",
    "\n",
    "#### Antorweep Chakravorty (antorweep.chakravorty@uis.no)"
   ]
  },
  {
   "cell_type": "markdown",
   "metadata": {
    "slideshow": {
     "slide_type": "slide"
    }
   },
   "source": [
    "- **NumPy** or *Numerical Python*, is one of the most important foundational package for numerical computing in python\n",
    " - *ndarray*, an efficient multidimensional array provides fast array-oriented arithmetic operations and flexible *broadcasting* capabilities\n",
    " - Mathematical functions for fast operations on entire array of data without having to write loops\n",
    " - Tools for reading/writing array data to disk and working with memory-mapped files\n",
    " - Linear algebra, random number generation and Fourier transform capabilities\n",
    " - A C-API for connecting NumPy with libraries written in C, C++, or FORTRAN\n",
    " - NumPy C-API allows data to be easily passed to external libraries written in a low-level language and for external libraries to return data to python as NumPy arrays"
   ]
  },
  {
   "cell_type": "markdown",
   "metadata": {
    "slideshow": {
     "slide_type": "subslide"
    }
   },
   "source": [
    "  - The main areas of functionality for the use of NumPy arrays for data analysis:\n",
    "    - Fast vectorized array operations for data mugging and cleaning, sub-setting, and filtering, transformation, and any kinds of computations\n",
    "    - Common array algorithms like sorting, unique, and set operations\n",
    "    - Efficient descriptive statistics and aggregating/summarizing data\n",
    "    - Data alignment and relational data manipulation for merging and joining heterogeneous datasets\n",
    "    - Expressing conditional logic as array expressions instead of loops \n",
    "    - Group-wise data manipulations (aggregation, transformation, function application)"
   ]
  },
  {
   "cell_type": "markdown",
   "metadata": {
    "slideshow": {
     "slide_type": "subslide"
    }
   },
   "source": [
    "- NumPy based algorithms are generally 10 to 100 times faster than their pure python counterparts and use significantly less memory"
   ]
  },
  {
   "cell_type": "code",
   "execution_count": 38,
   "metadata": {
    "ExecuteTime": {
     "end_time": "2019-08-29T11:32:31.106430Z",
     "start_time": "2019-08-29T11:32:30.978351Z"
    },
    "slideshow": {
     "slide_type": "fragment"
    }
   },
   "outputs": [],
   "source": [
    "import numpy as np\n",
    "#million numbers\n",
    "n = 1000000\n",
    "my_arr = np.arange(n)\n",
    "my_list = list(range(n))\n",
    "# Now let us multipy each sequence by 2"
   ]
  },
  {
   "cell_type": "code",
   "execution_count": 39,
   "metadata": {
    "ExecuteTime": {
     "end_time": "2019-08-29T11:32:38.312630Z",
     "start_time": "2019-08-29T11:32:32.920802Z"
    },
    "slideshow": {
     "slide_type": "fragment"
    }
   },
   "outputs": [
    {
     "name": "stdout",
     "output_type": "stream",
     "text": [
      "8000096\n",
      "653 µs ± 28.9 µs per loop (mean ± std. dev. of 7 runs, 1000 loops each)\n"
     ]
    }
   ],
   "source": [
    "import sys\n",
    "print(sys.getsizeof(my_arr)) #bytes\n",
    "%timeit my_arr * 2"
   ]
  },
  {
   "cell_type": "code",
   "execution_count": 40,
   "metadata": {
    "ExecuteTime": {
     "end_time": "2019-08-29T11:32:43.416785Z",
     "start_time": "2019-08-29T11:32:40.062644Z"
    },
    "slideshow": {
     "slide_type": "fragment"
    }
   },
   "outputs": [
    {
     "name": "stdout",
     "output_type": "stream",
     "text": [
      "9000112\n",
      "40.4 ms ± 908 µs per loop (mean ± std. dev. of 7 runs, 10 loops each)\n"
     ]
    }
   ],
   "source": [
    "print(sys.getsizeof(my_list)) #bytes\n",
    "%timeit [x * 2 for x in my_list]"
   ]
  },
  {
   "cell_type": "markdown",
   "metadata": {
    "slideshow": {
     "slide_type": "subslide"
    }
   },
   "source": [
    "- **ndarray** a multidimensional array object that provides a fast and flexible container for large homogeneous datasets"
   ]
  },
  {
   "cell_type": "code",
   "execution_count": 41,
   "metadata": {
    "ExecuteTime": {
     "end_time": "2019-08-29T11:32:56.801170Z",
     "start_time": "2019-08-29T11:32:56.795197Z"
    },
    "slideshow": {
     "slide_type": "fragment"
    }
   },
   "outputs": [
    {
     "data": {
      "text/plain": [
       "array([[-0.33390932,  2.12794583,  0.13129113],\n",
       "       [ 1.22995297,  0.78766532, -1.24696837]])"
      ]
     },
     "execution_count": 41,
     "metadata": {},
     "output_type": "execute_result"
    }
   ],
   "source": [
    "import numpy as np\n",
    "data = np.random.randn(2,3)\n",
    "data"
   ]
  },
  {
   "cell_type": "markdown",
   "metadata": {
    "slideshow": {
     "slide_type": "fragment"
    }
   },
   "source": [
    " - ndarrays also allows direct scalar and matrix operations "
   ]
  },
  {
   "cell_type": "code",
   "execution_count": 42,
   "metadata": {
    "ExecuteTime": {
     "end_time": "2019-08-29T11:33:08.431472Z",
     "start_time": "2019-08-29T11:33:08.426696Z"
    },
    "slideshow": {
     "slide_type": "fragment"
    }
   },
   "outputs": [
    {
     "name": "stdout",
     "output_type": "stream",
     "text": [
      "[[ -3.33909316  21.27945835   1.3129113 ]\n",
      " [ 12.29952968   7.87665321 -12.46968368]]\n",
      "----------------------------------------------------------------------------------------------------\n",
      "[[-0.66781863  4.25589167  0.26258226]\n",
      " [ 2.45990594  1.57533064 -2.49393674]]\n"
     ]
    }
   ],
   "source": [
    "print(data * 10)\n",
    "print('-' * 100)\n",
    "print(data + data)"
   ]
  },
  {
   "cell_type": "markdown",
   "metadata": {
    "slideshow": {
     "slide_type": "subslide"
    }
   },
   "source": [
    " - Each ndarray has a *shape* tuple describing the size dimensions, and  *dtype*, object describing the data type "
   ]
  },
  {
   "cell_type": "code",
   "execution_count": 43,
   "metadata": {
    "ExecuteTime": {
     "end_time": "2019-08-29T11:33:15.190753Z",
     "start_time": "2019-08-29T11:33:15.186746Z"
    },
    "slideshow": {
     "slide_type": "fragment"
    }
   },
   "outputs": [
    {
     "name": "stdout",
     "output_type": "stream",
     "text": [
      "(2, 3)\n",
      "float64\n"
     ]
    }
   ],
   "source": [
    "print(data.shape)\n",
    "print(data.dtype)"
   ]
  },
  {
   "cell_type": "markdown",
   "metadata": {
    "slideshow": {
     "slide_type": "subslide"
    }
   },
   "source": [
    " - ndarray can be created using the **array** function\n",
    " - It accepts any sequence-like object (including other arrays) and produces a new numpy array containing the passed data\n",
    "\n",
    "```python\n",
    "data1 = [6,7.5,8,0,1]\n",
    "arr1 = np.array(data)\n",
    "```\n",
    " - Nested sequences, like a list of equal-length list, will also be converted into a multidimensional array\n",
    "\n",
    "```python\n",
    "data2 = [[1,2,3,4], [5,6,7,8]]\n",
    "arr2 = np.array(data2)\n",
    "```\n",
    " - What will be shape of arr2?\n",
    " - Additionally to *np.array*, there are other functions for creating new arrays.\n",
    " - **zeros** and **ones** create arrays of 0s or 1s respectively\n",
    " - **empty** would create an array that contains zeros, ones or garbage values"
   ]
  },
  {
   "cell_type": "code",
   "execution_count": 44,
   "metadata": {
    "ExecuteTime": {
     "end_time": "2019-08-29T11:33:38.421374Z",
     "start_time": "2019-08-29T11:33:38.414980Z"
    },
    "slideshow": {
     "slide_type": "fragment"
    }
   },
   "outputs": [
    {
     "name": "stdout",
     "output_type": "stream",
     "text": [
      "[0. 0. 0. 0. 0. 0. 0. 0. 0. 0.]\n",
      "----------------------------------------------------------------------------------------------------\n",
      "[[0. 0. 0. 0.]\n",
      " [0. 0. 0. 0.]]\n",
      "----------------------------------------------------------------------------------------------------\n",
      "[1. 1. 1. 1. 1. 1. 1. 1. 1. 1.]\n",
      "----------------------------------------------------------------------------------------------------\n",
      "[1. 1. 1. 1. 1. 1. 1. 1. 1. 1.]\n"
     ]
    }
   ],
   "source": [
    "print(np.zeros(10))\n",
    "print('-' * 100)\n",
    "print(np.zeros((2,4))) # multidimentional\n",
    "print('-' * 100)\n",
    "print(np.ones(10))\n",
    "print('-' * 100)\n",
    "print(np.empty(10))"
   ]
  },
  {
   "cell_type": "markdown",
   "metadata": {
    "slideshow": {
     "slide_type": "subslide"
    }
   },
   "source": [
    "  - **arange** is an array-valued version of built-in python *range* function"
   ]
  },
  {
   "cell_type": "code",
   "execution_count": 45,
   "metadata": {
    "ExecuteTime": {
     "end_time": "2019-08-29T11:33:50.854323Z",
     "start_time": "2019-08-29T11:33:50.848103Z"
    },
    "slideshow": {
     "slide_type": "fragment"
    }
   },
   "outputs": [
    {
     "data": {
      "text/plain": [
       "array([ 0,  1,  2,  3,  4,  5,  6,  7,  8,  9, 10, 11, 12, 13, 14])"
      ]
     },
     "execution_count": 45,
     "metadata": {},
     "output_type": "execute_result"
    }
   ],
   "source": [
    "np.arange(15)"
   ]
  },
  {
   "cell_type": "markdown",
   "metadata": {
    "slideshow": {
     "slide_type": "subslide"
    }
   },
   "source": [
    "  - Array creation functions\n",
    "  <img src='arr_creation_func.png'>"
   ]
  }
 ],
 "metadata": {
  "celltoolbar": "Slideshow",
  "kernelspec": {
   "display_name": "Python 3",
   "language": "python",
   "name": "python3"
  },
  "language_info": {
   "codemirror_mode": {
    "name": "ipython",
    "version": 3
   },
   "file_extension": ".py",
   "mimetype": "text/x-python",
   "name": "python",
   "nbconvert_exporter": "python",
   "pygments_lexer": "ipython3",
   "version": "3.7.3"
  },
  "toc": {
   "base_numbering": 1,
   "nav_menu": {},
   "number_sections": true,
   "sideBar": true,
   "skip_h1_title": false,
   "title_cell": "Table of Contents",
   "title_sidebar": "Contents",
   "toc_cell": false,
   "toc_position": {},
   "toc_section_display": true,
   "toc_window_display": false
  },
  "varInspector": {
   "cols": {
    "lenName": 16,
    "lenType": 16,
    "lenVar": 40
   },
   "kernels_config": {
    "python": {
     "delete_cmd_postfix": "",
     "delete_cmd_prefix": "del ",
     "library": "var_list.py",
     "varRefreshCmd": "print(var_dic_list())"
    },
    "r": {
     "delete_cmd_postfix": ") ",
     "delete_cmd_prefix": "rm(",
     "library": "var_list.r",
     "varRefreshCmd": "cat(var_dic_list()) "
    }
   },
   "types_to_exclude": [
    "module",
    "function",
    "builtin_function_or_method",
    "instance",
    "_Feature"
   ],
   "window_display": false
  }
 },
 "nbformat": 4,
 "nbformat_minor": 2
}
