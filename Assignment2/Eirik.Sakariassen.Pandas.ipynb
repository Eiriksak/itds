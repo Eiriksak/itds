{
 "cells": [
  {
   "cell_type": "code",
   "execution_count": 1,
   "metadata": {},
   "outputs": [],
   "source": [
    "import pandas as pd\n",
    "import string\n",
    "import numpy as np\n",
    "import random"
   ]
  },
  {
   "cell_type": "code",
   "execution_count": 2,
   "metadata": {},
   "outputs": [],
   "source": [
    "df_accepts = pd.read_csv('chefmozaccepts.csv')\n",
    "df_cuisine = pd.read_csv('chefmozcuisine.csv')\n",
    "df_hours = pd.read_csv('chefmozhours4.csv')\n",
    "df_parking = pd.read_csv('chefmozparking.csv')\n",
    "df_geoplaces = pd.read_csv('geoplaces2.csv', encoding='latin-1')\n",
    "df_rating = pd.read_csv('rating_final.csv')\n",
    "df_user_cuisine = pd.read_csv('usercuisine.csv')\n",
    "df_user_payments = pd.read_csv('userpayment.csv')\n",
    "df_user_profile = pd.read_csv('userprofile.csv')"
   ]
  },
  {
   "cell_type": "markdown",
   "metadata": {},
   "source": [
    "#### Clean hours dataframe\n",
    "The hours dataframe contains duplicates, bad headings, inconsistent opening hours and noisy day values. The next cells will fix these issues. "
   ]
  },
  {
   "cell_type": "code",
   "execution_count": 3,
   "metadata": {
    "scrolled": true
   },
   "outputs": [
    {
     "name": "stdout",
     "output_type": "stream",
     "text": [
      "      placeID                     hours            days;;;;;;;;\n",
      "1      135111              00:00-23:30;              Sat;;;;;;;\n",
      "3      135110              08:00-19:00;  Mon;Tue;Wed;Thu;Fri;;;\n",
      "2317   132030  12:00-15:00;15:00-21:00;               Sat;;;;;;\n"
     ]
    }
   ],
   "source": [
    "#Rename the column names and remove duplicates from hours dataframe\n",
    "print(df_hours.loc[[1,3,2317],:]) #Hours dataframe before cleaning\n",
    "df_hours.rename(columns={'days;;;;;;;;': 'days'}, inplace=True) \n",
    "df_hours.drop_duplicates(inplace=True)"
   ]
  },
  {
   "cell_type": "code",
   "execution_count": 4,
   "metadata": {},
   "outputs": [
    {
     "name": "stdout",
     "output_type": "stream",
     "text": [
      "         hours\n",
      "0  00:00-23:30\n",
      "1  00:00-23:30\n",
      "2  00:00-23:30\n",
      "3  08:00-19:00\n",
      "4  00:00-00:00\n",
      "                        days\n",
      "0  [Mon, Tue, Wed, Thu, Fri]\n",
      "1                      [Sat]\n",
      "2                      [Sun]\n",
      "3  [Mon, Tue, Wed, Thu, Fri]\n",
      "4                      [Sat]\n"
     ]
    }
   ],
   "source": [
    "def clean_hours(text):\n",
    "    '''\n",
    "    Rules:\n",
    "    1. Only one openening time per day\n",
    "    For instance: 12:00-15:00;15:00-21:00; should be 12:00-21:00 (least opening hour until last closing hour)\n",
    "    2. Should be one in range 00:00-23:30\n",
    "    3. If the store is open 24h a day, set to 00:00 - 00:00\n",
    "    4. Should be a string with format \"opening-closing\"\n",
    "    '''\n",
    "    text = list(filter(None,text.split(\";\"))) #split on opening hours, filter out empty value\n",
    "    start, end = \"23:30\", \"00:00\"\n",
    "    if len(text) > 1: #multiple opening times in one row. Filter down to one\n",
    "        for date in text:\n",
    "            opening = date.split(\"-\")\n",
    "            if len(opening) <= 1: continue\n",
    "            if opening[0] < start:\n",
    "                start = opening[0]\n",
    "            if opening[1] > end:\n",
    "                end = opening[1]\n",
    "    else:\n",
    "        start, end = text[0].split(\"-\")[0], text[0].split(\"-\")[1]\n",
    "    if start == end: #Open 24/7\n",
    "        start, end = \"00:00\", \"00:00\"\n",
    "\n",
    "    return str(start+\"-\"+end)\n",
    "\n",
    "round1 = lambda x: clean_hours(x)\n",
    "cleaned_hours = pd.DataFrame(df_hours.hours.apply(round1))\n",
    "\n",
    "#Clean the days, and store it as a list\n",
    "cleaned_days = pd.DataFrame(df_hours.days.apply(lambda x: list(filter(None,x.split(\";\")))))\n",
    "print(cleaned_hours.head())\n",
    "print(cleaned_days.head())"
   ]
  },
  {
   "cell_type": "code",
   "execution_count": 5,
   "metadata": {},
   "outputs": [
    {
     "name": "stdout",
     "output_type": "stream",
     "text": [
      "Empty DataFrame\n",
      "Columns: [hours]\n",
      "Index: []\n",
      "Empty DataFrame\n",
      "Columns: [hours]\n",
      "Index: []\n"
     ]
    }
   ],
   "source": [
    "\"Be sure all values is within range 00:00-23:30\"\n",
    "start =  pd.DataFrame(cleaned_hours.hours.apply(lambda x: x.split(\"-\")[0]))\n",
    "end =  pd.DataFrame(cleaned_hours.hours.apply(lambda x: x.split(\"-\")[1]))\n",
    "print(start.loc[start.hours < \"00:00\"])\n",
    "print(end.loc[end.hours > \"24:00\"])\n",
    "#COMPARE cleaned and originally if needed\n",
    "#pd.DataFrame({'hours':df_hours.hours, 'cleaned':cleaned_hours.hours})\n",
    "\n",
    "#Seems okay, set the cleaned columns into the dataframe\n",
    "df_hours[\"hours\"] = cleaned_hours\n",
    "df_hours[\"days\"] = cleaned_days"
   ]
  },
  {
   "cell_type": "markdown",
   "metadata": {},
   "source": [
    "#### Clean geoplaces\n",
    "The geoplace dataframe contains unnecessary columns, noisy data and a lot of empty/nan values. The next cells will fix these issues"
   ]
  },
  {
   "cell_type": "code",
   "execution_count": 6,
   "metadata": {},
   "outputs": [
    {
     "data": {
      "text/html": [
       "<div>\n",
       "<style scoped>\n",
       "    .dataframe tbody tr th:only-of-type {\n",
       "        vertical-align: middle;\n",
       "    }\n",
       "\n",
       "    .dataframe tbody tr th {\n",
       "        vertical-align: top;\n",
       "    }\n",
       "\n",
       "    .dataframe thead th {\n",
       "        text-align: right;\n",
       "    }\n",
       "</style>\n",
       "<table border=\"1\" class=\"dataframe\">\n",
       "  <thead>\n",
       "    <tr style=\"text-align: right;\">\n",
       "      <th></th>\n",
       "      <th>placeID</th>\n",
       "      <th>latitude</th>\n",
       "      <th>longitude</th>\n",
       "      <th>the_geom_meter</th>\n",
       "      <th>name</th>\n",
       "      <th>address</th>\n",
       "      <th>city</th>\n",
       "      <th>state</th>\n",
       "      <th>country</th>\n",
       "      <th>alcohol</th>\n",
       "      <th>smoking_area</th>\n",
       "      <th>dress_code</th>\n",
       "      <th>accessibility</th>\n",
       "      <th>price</th>\n",
       "      <th>Rambience</th>\n",
       "      <th>franchise</th>\n",
       "      <th>area</th>\n",
       "      <th>other_services</th>\n",
       "    </tr>\n",
       "  </thead>\n",
       "  <tbody>\n",
       "    <tr>\n",
       "      <th>0</th>\n",
       "      <td>134999</td>\n",
       "      <td>18.915421</td>\n",
       "      <td>-99.184871</td>\n",
       "      <td>0101000020957F000088568DE356715AC138C0A525FC46...</td>\n",
       "      <td>Kiku Cuernavaca</td>\n",
       "      <td>Revolucion</td>\n",
       "      <td>Cuernavaca</td>\n",
       "      <td>Morelos</td>\n",
       "      <td>Mexico</td>\n",
       "      <td>No_Alcohol_Served</td>\n",
       "      <td>none</td>\n",
       "      <td>informal</td>\n",
       "      <td>no_accessibility</td>\n",
       "      <td>medium</td>\n",
       "      <td>familiar</td>\n",
       "      <td>f</td>\n",
       "      <td>closed</td>\n",
       "      <td>none</td>\n",
       "    </tr>\n",
       "    <tr>\n",
       "      <th>1</th>\n",
       "      <td>132825</td>\n",
       "      <td>22.147392</td>\n",
       "      <td>-100.983092</td>\n",
       "      <td>0101000020957F00001AD016568C4858C1243261274BA5...</td>\n",
       "      <td>puesto de tacos</td>\n",
       "      <td>esquina santos degollado y leon guzman</td>\n",
       "      <td>s.l.p.</td>\n",
       "      <td>s.l.p.</td>\n",
       "      <td>mexico</td>\n",
       "      <td>No_Alcohol_Served</td>\n",
       "      <td>none</td>\n",
       "      <td>informal</td>\n",
       "      <td>completely</td>\n",
       "      <td>low</td>\n",
       "      <td>familiar</td>\n",
       "      <td>f</td>\n",
       "      <td>open</td>\n",
       "      <td>none</td>\n",
       "    </tr>\n",
       "    <tr>\n",
       "      <th>2</th>\n",
       "      <td>135106</td>\n",
       "      <td>22.149709</td>\n",
       "      <td>-100.976093</td>\n",
       "      <td>0101000020957F0000649D6F21634858C119AE9BF528A3...</td>\n",
       "      <td>El Rincón de San Francisco</td>\n",
       "      <td>Universidad 169</td>\n",
       "      <td>San Luis Potosi</td>\n",
       "      <td>San Luis Potosi</td>\n",
       "      <td>Mexico</td>\n",
       "      <td>Wine-Beer</td>\n",
       "      <td>only at bar</td>\n",
       "      <td>informal</td>\n",
       "      <td>partially</td>\n",
       "      <td>medium</td>\n",
       "      <td>familiar</td>\n",
       "      <td>f</td>\n",
       "      <td>open</td>\n",
       "      <td>none</td>\n",
       "    </tr>\n",
       "    <tr>\n",
       "      <th>3</th>\n",
       "      <td>132667</td>\n",
       "      <td>23.752697</td>\n",
       "      <td>-99.163359</td>\n",
       "      <td>0101000020957F00005D67BCDDED8157C1222A2DC8D84D...</td>\n",
       "      <td>little pizza Emilio Portes Gil</td>\n",
       "      <td>calle emilio portes gil</td>\n",
       "      <td>victoria</td>\n",
       "      <td>tamaulipas</td>\n",
       "      <td>?</td>\n",
       "      <td>No_Alcohol_Served</td>\n",
       "      <td>none</td>\n",
       "      <td>informal</td>\n",
       "      <td>completely</td>\n",
       "      <td>low</td>\n",
       "      <td>familiar</td>\n",
       "      <td>t</td>\n",
       "      <td>closed</td>\n",
       "      <td>none</td>\n",
       "    </tr>\n",
       "    <tr>\n",
       "      <th>4</th>\n",
       "      <td>132613</td>\n",
       "      <td>23.752903</td>\n",
       "      <td>-99.165076</td>\n",
       "      <td>0101000020957F00008EBA2D06DC8157C194E03B7B504E...</td>\n",
       "      <td>carnitas_mata</td>\n",
       "      <td>lic. Emilio portes gil</td>\n",
       "      <td>victoria</td>\n",
       "      <td>Tamaulipas</td>\n",
       "      <td>Mexico</td>\n",
       "      <td>No_Alcohol_Served</td>\n",
       "      <td>permitted</td>\n",
       "      <td>informal</td>\n",
       "      <td>completely</td>\n",
       "      <td>medium</td>\n",
       "      <td>familiar</td>\n",
       "      <td>t</td>\n",
       "      <td>closed</td>\n",
       "      <td>none</td>\n",
       "    </tr>\n",
       "  </tbody>\n",
       "</table>\n",
       "</div>"
      ],
      "text/plain": [
       "   placeID   latitude   longitude  \\\n",
       "0   134999  18.915421  -99.184871   \n",
       "1   132825  22.147392 -100.983092   \n",
       "2   135106  22.149709 -100.976093   \n",
       "3   132667  23.752697  -99.163359   \n",
       "4   132613  23.752903  -99.165076   \n",
       "\n",
       "                                      the_geom_meter  \\\n",
       "0  0101000020957F000088568DE356715AC138C0A525FC46...   \n",
       "1  0101000020957F00001AD016568C4858C1243261274BA5...   \n",
       "2  0101000020957F0000649D6F21634858C119AE9BF528A3...   \n",
       "3  0101000020957F00005D67BCDDED8157C1222A2DC8D84D...   \n",
       "4  0101000020957F00008EBA2D06DC8157C194E03B7B504E...   \n",
       "\n",
       "                             name                                 address  \\\n",
       "0                 Kiku Cuernavaca                              Revolucion   \n",
       "1                 puesto de tacos  esquina santos degollado y leon guzman   \n",
       "2      El Rincón de San Francisco                         Universidad 169   \n",
       "3  little pizza Emilio Portes Gil                 calle emilio portes gil   \n",
       "4                   carnitas_mata                  lic. Emilio portes gil   \n",
       "\n",
       "              city            state country            alcohol smoking_area  \\\n",
       "0       Cuernavaca          Morelos  Mexico  No_Alcohol_Served         none   \n",
       "1           s.l.p.           s.l.p.  mexico  No_Alcohol_Served         none   \n",
       "2  San Luis Potosi  San Luis Potosi  Mexico          Wine-Beer  only at bar   \n",
       "3        victoria        tamaulipas       ?  No_Alcohol_Served         none   \n",
       "4         victoria       Tamaulipas  Mexico  No_Alcohol_Served    permitted   \n",
       "\n",
       "  dress_code     accessibility   price Rambience franchise    area  \\\n",
       "0   informal  no_accessibility  medium  familiar         f  closed   \n",
       "1   informal        completely     low  familiar         f    open   \n",
       "2   informal         partially  medium  familiar         f    open   \n",
       "3   informal        completely     low  familiar         t  closed   \n",
       "4   informal        completely  medium  familiar         t  closed   \n",
       "\n",
       "  other_services  \n",
       "0           none  \n",
       "1           none  \n",
       "2           none  \n",
       "3           none  \n",
       "4           none  "
      ]
     },
     "execution_count": 6,
     "metadata": {},
     "output_type": "execute_result"
    }
   ],
   "source": [
    "df_geoplaces.drop(['fax', 'zip', 'url'], axis=1, inplace=True)\n",
    "df_geoplaces.head()"
   ]
  },
  {
   "cell_type": "code",
   "execution_count": 7,
   "metadata": {},
   "outputs": [
    {
     "name": "stdout",
     "output_type": "stream",
     "text": [
      "Citites:  ['Cuernavaca' 's.l.p.' 'San Luis Potosi' 'victoria ' 'victoria'\n",
      " 'Cd Victoria' '?' 'san luis potosi' 'Jiutepec' 'cuernavaca' 'slp'\n",
      " 'Soledad' 'san luis potos' 'san luis potosi ' 'Ciudad Victoria'\n",
      " 'Cd. Victoria' 's.l.p']\n",
      "States: ['Morelos' 's.l.p.' 'San Luis Potosi' 'tamaulipas' 'Tamaulipas' 'SLP' '?'\n",
      " 'san luis potosi' 'morelos' 'slp' 'mexico' 'san luis potos' 'S.L.P.']\n"
     ]
    }
   ],
   "source": [
    "#Find different ways to mention the same locations \n",
    "print(\"Citites: \", df_geoplaces.city.unique()) \n",
    "print(\"States:\", df_geoplaces.state.unique())"
   ]
  },
  {
   "cell_type": "code",
   "execution_count": 8,
   "metadata": {},
   "outputs": [
    {
     "data": {
      "text/html": [
       "<div>\n",
       "<style scoped>\n",
       "    .dataframe tbody tr th:only-of-type {\n",
       "        vertical-align: middle;\n",
       "    }\n",
       "\n",
       "    .dataframe tbody tr th {\n",
       "        vertical-align: top;\n",
       "    }\n",
       "\n",
       "    .dataframe thead th {\n",
       "        text-align: right;\n",
       "    }\n",
       "</style>\n",
       "<table border=\"1\" class=\"dataframe\">\n",
       "  <thead>\n",
       "    <tr style=\"text-align: right;\">\n",
       "      <th></th>\n",
       "      <th>placeID</th>\n",
       "      <th>latitude</th>\n",
       "      <th>longitude</th>\n",
       "      <th>the_geom_meter</th>\n",
       "      <th>name</th>\n",
       "      <th>address</th>\n",
       "      <th>city</th>\n",
       "      <th>state</th>\n",
       "      <th>country</th>\n",
       "      <th>alcohol</th>\n",
       "      <th>smoking_area</th>\n",
       "      <th>dress_code</th>\n",
       "      <th>accessibility</th>\n",
       "      <th>price</th>\n",
       "      <th>Rambience</th>\n",
       "      <th>franchise</th>\n",
       "      <th>area</th>\n",
       "      <th>other_services</th>\n",
       "    </tr>\n",
       "  </thead>\n",
       "  <tbody>\n",
       "    <tr>\n",
       "      <th>0</th>\n",
       "      <td>134999</td>\n",
       "      <td>18.915421</td>\n",
       "      <td>-99.184871</td>\n",
       "      <td>0101000020957F000088568DE356715AC138C0A525FC46...</td>\n",
       "      <td>Kiku Cuernavaca</td>\n",
       "      <td>Revolucion</td>\n",
       "      <td>Cuernavaca</td>\n",
       "      <td>Morelos</td>\n",
       "      <td>Mexico</td>\n",
       "      <td>No_Alcohol_Served</td>\n",
       "      <td>none</td>\n",
       "      <td>informal</td>\n",
       "      <td>no_accessibility</td>\n",
       "      <td>medium</td>\n",
       "      <td>familiar</td>\n",
       "      <td>f</td>\n",
       "      <td>closed</td>\n",
       "      <td>none</td>\n",
       "    </tr>\n",
       "    <tr>\n",
       "      <th>1</th>\n",
       "      <td>132825</td>\n",
       "      <td>22.147392</td>\n",
       "      <td>-100.983092</td>\n",
       "      <td>0101000020957F00001AD016568C4858C1243261274BA5...</td>\n",
       "      <td>Puesto De Tacos</td>\n",
       "      <td>Esquina Santos Degollado Y Leon Guzman</td>\n",
       "      <td>San Luis Potosi</td>\n",
       "      <td>San Luis Potosi</td>\n",
       "      <td>Mexico</td>\n",
       "      <td>No_Alcohol_Served</td>\n",
       "      <td>none</td>\n",
       "      <td>informal</td>\n",
       "      <td>completely</td>\n",
       "      <td>low</td>\n",
       "      <td>familiar</td>\n",
       "      <td>f</td>\n",
       "      <td>open</td>\n",
       "      <td>none</td>\n",
       "    </tr>\n",
       "    <tr>\n",
       "      <th>2</th>\n",
       "      <td>135106</td>\n",
       "      <td>22.149709</td>\n",
       "      <td>-100.976093</td>\n",
       "      <td>0101000020957F0000649D6F21634858C119AE9BF528A3...</td>\n",
       "      <td>El Rincón De San Francisco</td>\n",
       "      <td>Universidad 169</td>\n",
       "      <td>San Luis Potosi</td>\n",
       "      <td>San Luis Potosi</td>\n",
       "      <td>Mexico</td>\n",
       "      <td>Wine-Beer</td>\n",
       "      <td>only at bar</td>\n",
       "      <td>informal</td>\n",
       "      <td>partially</td>\n",
       "      <td>medium</td>\n",
       "      <td>familiar</td>\n",
       "      <td>f</td>\n",
       "      <td>open</td>\n",
       "      <td>none</td>\n",
       "    </tr>\n",
       "    <tr>\n",
       "      <th>3</th>\n",
       "      <td>132667</td>\n",
       "      <td>23.752697</td>\n",
       "      <td>-99.163359</td>\n",
       "      <td>0101000020957F00005D67BCDDED8157C1222A2DC8D84D...</td>\n",
       "      <td>Little Pizza Emilio Portes Gil</td>\n",
       "      <td>Calle Emilio Portes Gil</td>\n",
       "      <td>Victoria</td>\n",
       "      <td>Tamaulipas</td>\n",
       "      <td>NaN</td>\n",
       "      <td>No_Alcohol_Served</td>\n",
       "      <td>none</td>\n",
       "      <td>informal</td>\n",
       "      <td>completely</td>\n",
       "      <td>low</td>\n",
       "      <td>familiar</td>\n",
       "      <td>t</td>\n",
       "      <td>closed</td>\n",
       "      <td>none</td>\n",
       "    </tr>\n",
       "    <tr>\n",
       "      <th>4</th>\n",
       "      <td>132613</td>\n",
       "      <td>23.752903</td>\n",
       "      <td>-99.165076</td>\n",
       "      <td>0101000020957F00008EBA2D06DC8157C194E03B7B504E...</td>\n",
       "      <td>Carnitas_mata</td>\n",
       "      <td>Lic. Emilio Portes Gil</td>\n",
       "      <td>Victoria</td>\n",
       "      <td>Tamaulipas</td>\n",
       "      <td>Mexico</td>\n",
       "      <td>No_Alcohol_Served</td>\n",
       "      <td>permitted</td>\n",
       "      <td>informal</td>\n",
       "      <td>completely</td>\n",
       "      <td>medium</td>\n",
       "      <td>familiar</td>\n",
       "      <td>t</td>\n",
       "      <td>closed</td>\n",
       "      <td>none</td>\n",
       "    </tr>\n",
       "  </tbody>\n",
       "</table>\n",
       "</div>"
      ],
      "text/plain": [
       "   placeID   latitude   longitude  \\\n",
       "0   134999  18.915421  -99.184871   \n",
       "1   132825  22.147392 -100.983092   \n",
       "2   135106  22.149709 -100.976093   \n",
       "3   132667  23.752697  -99.163359   \n",
       "4   132613  23.752903  -99.165076   \n",
       "\n",
       "                                      the_geom_meter  \\\n",
       "0  0101000020957F000088568DE356715AC138C0A525FC46...   \n",
       "1  0101000020957F00001AD016568C4858C1243261274BA5...   \n",
       "2  0101000020957F0000649D6F21634858C119AE9BF528A3...   \n",
       "3  0101000020957F00005D67BCDDED8157C1222A2DC8D84D...   \n",
       "4  0101000020957F00008EBA2D06DC8157C194E03B7B504E...   \n",
       "\n",
       "                             name                                 address  \\\n",
       "0                 Kiku Cuernavaca                              Revolucion   \n",
       "1                 Puesto De Tacos  Esquina Santos Degollado Y Leon Guzman   \n",
       "2      El Rincón De San Francisco                         Universidad 169   \n",
       "3  Little Pizza Emilio Portes Gil                 Calle Emilio Portes Gil   \n",
       "4                   Carnitas_mata                  Lic. Emilio Portes Gil   \n",
       "\n",
       "              city            state country            alcohol smoking_area  \\\n",
       "0       Cuernavaca          Morelos  Mexico  No_Alcohol_Served         none   \n",
       "1  San Luis Potosi  San Luis Potosi  Mexico  No_Alcohol_Served         none   \n",
       "2  San Luis Potosi  San Luis Potosi  Mexico          Wine-Beer  only at bar   \n",
       "3         Victoria       Tamaulipas     NaN  No_Alcohol_Served         none   \n",
       "4         Victoria       Tamaulipas  Mexico  No_Alcohol_Served    permitted   \n",
       "\n",
       "  dress_code     accessibility   price Rambience franchise    area  \\\n",
       "0   informal  no_accessibility  medium  familiar         f  closed   \n",
       "1   informal        completely     low  familiar         f    open   \n",
       "2   informal         partially  medium  familiar         f    open   \n",
       "3   informal        completely     low  familiar         t  closed   \n",
       "4   informal        completely  medium  familiar         t  closed   \n",
       "\n",
       "  other_services  \n",
       "0           none  \n",
       "1           none  \n",
       "2           none  \n",
       "3           none  \n",
       "4           none  "
      ]
     },
     "execution_count": 8,
     "metadata": {},
     "output_type": "execute_result"
    }
   ],
   "source": [
    "'''\n",
    "1. Set similar words with the same meaning to a single value\n",
    "2. Capitalize strings related to name of a place\n",
    "3. Replace missing values with numpy NaN\n",
    "'''\n",
    "san_luis_potosi = ['SLP', 's.l.p.', 'slp', 'S.L.P.', 'San Luis Potos', 'san luis potos', 'san luis potosi ', 's.l.p']\n",
    "df_geoplaces = df_geoplaces.replace(to_replace=san_luis_potosi, value=\"San Luis Potosi\")\n",
    "df_geoplaces = df_geoplaces.replace(to_replace=['Cd Victoria', 'Cd. Victoria', 'Ciudad Victoria'], value=\"Victoria\")\n",
    "\n",
    "capitalize = lambda x: string.capwords(x)\n",
    "df_geoplaces['city'] = df_geoplaces['city'].apply(capitalize)\n",
    "df_geoplaces['name'] = df_geoplaces['name'].apply(capitalize)\n",
    "df_geoplaces['address'] = df_geoplaces['address'].apply(capitalize)\n",
    "df_geoplaces['country'] = df_geoplaces['country'].apply(capitalize)\n",
    "df_geoplaces['state'] = df_geoplaces['state'].apply(capitalize)\n",
    "\n",
    "df_geoplaces[['address', 'city', 'state', 'country']] = df_geoplaces[['address', 'city', 'state', 'country']].replace(to_replace=['none', '?'], value=np.nan)\n",
    "df_geoplaces.head()"
   ]
  },
  {
   "cell_type": "code",
   "execution_count": 9,
   "metadata": {},
   "outputs": [
    {
     "name": "stdout",
     "output_type": "stream",
     "text": [
      "['Morelos' 'San Luis Potosi' 'Tamaulipas' nan 'Mexico']\n",
      "['Cuernavaca' 'San Luis Potosi' 'Victoria' nan 'Jiutepec' 'Soledad']\n"
     ]
    },
    {
     "data": {
      "text/plain": [
       "placeID            0\n",
       "latitude           0\n",
       "longitude          0\n",
       "the_geom_meter     0\n",
       "name               0\n",
       "address           27\n",
       "city              18\n",
       "state             18\n",
       "country           28\n",
       "alcohol            0\n",
       "smoking_area       0\n",
       "dress_code         0\n",
       "accessibility      0\n",
       "price              0\n",
       "Rambience          0\n",
       "franchise          0\n",
       "area               0\n",
       "other_services     0\n",
       "dtype: int64"
      ]
     },
     "execution_count": 9,
     "metadata": {},
     "output_type": "execute_result"
    }
   ],
   "source": [
    "print(df_geoplaces.state.unique())\n",
    "print(df_geoplaces.city.unique())\n",
    "df_geoplaces.isnull().sum(axis=0) #Lets see what columns contain nan values (should only be state,address,city,country)"
   ]
  },
  {
   "cell_type": "code",
   "execution_count": 10,
   "metadata": {},
   "outputs": [],
   "source": [
    "#clat = np.array(df_geoplaces['latitude'].sub(lat).abs())\n",
    "#cong = np.array(df_geoplaces['longitude'].sub(long).abs())\n",
    "\n",
    "def closestCity(x):\n",
    "    lat, long = x[0],x[1]\n",
    "    df_geo = df_geoplaces.dropna(subset=['city']).loc[:, ['city', 'latitude', 'longitude']] #ignore nan rows\n",
    "    df_geo.index = range(len(df_geo))\n",
    "    locations = np.array(df_geo[[\"latitude\", \"longitude\"]])\n",
    "    euc_distance = np.linalg.norm(np.array([[lat,long]]) - locations, axis=1)\n",
    "    closest_val = df_geo.city.loc[np.argsort(euc_distance)[0]]\n",
    "    return closest_val\n",
    "\n",
    "def closestState(x):\n",
    "    lat, long = x[0],x[1]\n",
    "    df_geo = df_geoplaces.dropna(subset=['state']).loc[:, ['state', 'latitude', 'longitude']] #ignore nan rows\n",
    "    df_geo.index = range(len(df_geo))\n",
    "    locations = np.array(df_geo[[\"latitude\", \"longitude\"]])\n",
    "    euc_distance = np.linalg.norm(np.array([[lat,long]]) - locations, axis=1)\n",
    "    closest_val = df_geo.state.loc[np.argsort(euc_distance)[0]]\n",
    "    return closest_val\n",
    "\n",
    "def closestAddress(x):\n",
    "    lat, long = x[0],x[1]\n",
    "    df_geo = df_geoplaces.dropna(subset=['address']).loc[:, ['address', 'latitude', 'longitude']] #ignore nan rows\n",
    "    df_geo.index = range(len(df_geo))\n",
    "    locations = np.array(df_geo[[\"latitude\", \"longitude\"]])\n",
    "    euc_distance = np.linalg.norm(np.array([[lat,long]]) - locations, axis=1)\n",
    "    closest_val = df_geo.address.loc[np.argsort(euc_distance)[0]]\n",
    "    return closest_val"
   ]
  },
  {
   "cell_type": "code",
   "execution_count": 11,
   "metadata": {},
   "outputs": [],
   "source": [
    "'''\n",
    "1. Fill missing values with appropriate methods\n",
    "Missing values appear in address, city, state and country (by the definition of the dataset)\n",
    "\n",
    "'''\n",
    "\n",
    "df_geoplaces['country'] = \"Mexico\" #We know this is a dataset for mexican restaurant\n",
    "\n",
    "#We have the longitude and latitude for all places, so city and state could be derived from that information\n",
    "#with quite high accuracy of being correct. Use a KNN algorithm to decide which address, state and city \n",
    "#is closest to the missing value. The address will not be precise, but as close as we can get (could also set to unknown)\n",
    "closest_city = lambda x: closestCity(x)\n",
    "closest_state = lambda x: closestState(x)\n",
    "closest_address = lambda x: closestAddress(x)\n",
    "df_geoplaces.city =df_geoplaces.city.fillna(df_geoplaces[df_geoplaces.city.isna()][[\"latitude\", \"longitude\"]].apply(closest_city, axis=1))\n",
    "df_geoplaces.state = df_geoplaces.state.fillna(df_geoplaces[df_geoplaces.state.isna()][[\"latitude\", \"longitude\"]].apply(closest_state, axis=1))\n",
    "df_geoplaces.address = df_geoplaces.address.fillna(df_geoplaces[df_geoplaces.address.isna()][[\"latitude\", \"longitude\"]].apply(closest_address, axis=1))"
   ]
  },
  {
   "cell_type": "markdown",
   "metadata": {},
   "source": [
    "#### Clean user profile dataframe\n",
    "Contains a lot of missing values. Find appropriate methods to fill them with. In this case, I fill missing values based on the probability of each value in the given column. "
   ]
  },
  {
   "cell_type": "code",
   "execution_count": 12,
   "metadata": {},
   "outputs": [
    {
     "data": {
      "text/html": [
       "<div>\n",
       "<style scoped>\n",
       "    .dataframe tbody tr th:only-of-type {\n",
       "        vertical-align: middle;\n",
       "    }\n",
       "\n",
       "    .dataframe tbody tr th {\n",
       "        vertical-align: top;\n",
       "    }\n",
       "\n",
       "    .dataframe thead th {\n",
       "        text-align: right;\n",
       "    }\n",
       "</style>\n",
       "<table border=\"1\" class=\"dataframe\">\n",
       "  <thead>\n",
       "    <tr style=\"text-align: right;\">\n",
       "      <th></th>\n",
       "      <th>userID</th>\n",
       "      <th>latitude</th>\n",
       "      <th>longitude</th>\n",
       "      <th>smoker</th>\n",
       "      <th>drink_level</th>\n",
       "      <th>dress_preference</th>\n",
       "      <th>ambience</th>\n",
       "      <th>transport</th>\n",
       "      <th>marital_status</th>\n",
       "      <th>hijos</th>\n",
       "      <th>birth_year</th>\n",
       "      <th>interest</th>\n",
       "      <th>personality</th>\n",
       "      <th>religion</th>\n",
       "      <th>activity</th>\n",
       "      <th>color</th>\n",
       "      <th>weight</th>\n",
       "      <th>budget</th>\n",
       "      <th>height</th>\n",
       "    </tr>\n",
       "  </thead>\n",
       "  <tbody>\n",
       "    <tr>\n",
       "      <th>0</th>\n",
       "      <td>U1001</td>\n",
       "      <td>22.139997</td>\n",
       "      <td>-100.978803</td>\n",
       "      <td>false</td>\n",
       "      <td>abstemious</td>\n",
       "      <td>informal</td>\n",
       "      <td>family</td>\n",
       "      <td>on foot</td>\n",
       "      <td>single</td>\n",
       "      <td>independent</td>\n",
       "      <td>1989</td>\n",
       "      <td>variety</td>\n",
       "      <td>thrifty-protector</td>\n",
       "      <td>none</td>\n",
       "      <td>student</td>\n",
       "      <td>black</td>\n",
       "      <td>69</td>\n",
       "      <td>medium</td>\n",
       "      <td>1.77</td>\n",
       "    </tr>\n",
       "    <tr>\n",
       "      <th>1</th>\n",
       "      <td>U1002</td>\n",
       "      <td>22.150087</td>\n",
       "      <td>-100.983325</td>\n",
       "      <td>false</td>\n",
       "      <td>abstemious</td>\n",
       "      <td>informal</td>\n",
       "      <td>family</td>\n",
       "      <td>public</td>\n",
       "      <td>single</td>\n",
       "      <td>independent</td>\n",
       "      <td>1990</td>\n",
       "      <td>technology</td>\n",
       "      <td>hunter-ostentatious</td>\n",
       "      <td>Catholic</td>\n",
       "      <td>student</td>\n",
       "      <td>red</td>\n",
       "      <td>40</td>\n",
       "      <td>low</td>\n",
       "      <td>1.87</td>\n",
       "    </tr>\n",
       "    <tr>\n",
       "      <th>2</th>\n",
       "      <td>U1003</td>\n",
       "      <td>22.119847</td>\n",
       "      <td>-100.946527</td>\n",
       "      <td>false</td>\n",
       "      <td>social drinker</td>\n",
       "      <td>formal</td>\n",
       "      <td>family</td>\n",
       "      <td>public</td>\n",
       "      <td>single</td>\n",
       "      <td>independent</td>\n",
       "      <td>1989</td>\n",
       "      <td>none</td>\n",
       "      <td>hard-worker</td>\n",
       "      <td>Catholic</td>\n",
       "      <td>student</td>\n",
       "      <td>blue</td>\n",
       "      <td>60</td>\n",
       "      <td>low</td>\n",
       "      <td>1.69</td>\n",
       "    </tr>\n",
       "    <tr>\n",
       "      <th>3</th>\n",
       "      <td>U1004</td>\n",
       "      <td>18.867000</td>\n",
       "      <td>-99.183000</td>\n",
       "      <td>false</td>\n",
       "      <td>abstemious</td>\n",
       "      <td>informal</td>\n",
       "      <td>family</td>\n",
       "      <td>public</td>\n",
       "      <td>single</td>\n",
       "      <td>independent</td>\n",
       "      <td>1940</td>\n",
       "      <td>variety</td>\n",
       "      <td>hard-worker</td>\n",
       "      <td>none</td>\n",
       "      <td>professional</td>\n",
       "      <td>green</td>\n",
       "      <td>44</td>\n",
       "      <td>medium</td>\n",
       "      <td>1.53</td>\n",
       "    </tr>\n",
       "    <tr>\n",
       "      <th>4</th>\n",
       "      <td>U1005</td>\n",
       "      <td>22.183477</td>\n",
       "      <td>-100.959891</td>\n",
       "      <td>false</td>\n",
       "      <td>abstemious</td>\n",
       "      <td>no preference</td>\n",
       "      <td>family</td>\n",
       "      <td>public</td>\n",
       "      <td>single</td>\n",
       "      <td>independent</td>\n",
       "      <td>1992</td>\n",
       "      <td>none</td>\n",
       "      <td>thrifty-protector</td>\n",
       "      <td>Catholic</td>\n",
       "      <td>student</td>\n",
       "      <td>black</td>\n",
       "      <td>65</td>\n",
       "      <td>medium</td>\n",
       "      <td>1.69</td>\n",
       "    </tr>\n",
       "  </tbody>\n",
       "</table>\n",
       "</div>"
      ],
      "text/plain": [
       "  userID   latitude   longitude smoker     drink_level dress_preference  \\\n",
       "0  U1001  22.139997 -100.978803  false      abstemious         informal   \n",
       "1  U1002  22.150087 -100.983325  false      abstemious         informal   \n",
       "2  U1003  22.119847 -100.946527  false  social drinker           formal   \n",
       "3  U1004  18.867000  -99.183000  false      abstemious         informal   \n",
       "4  U1005  22.183477 -100.959891  false      abstemious    no preference   \n",
       "\n",
       "  ambience transport marital_status        hijos  birth_year    interest  \\\n",
       "0   family   on foot         single  independent        1989     variety   \n",
       "1   family    public         single  independent        1990  technology   \n",
       "2   family    public         single  independent        1989        none   \n",
       "3   family    public         single  independent        1940     variety   \n",
       "4   family    public         single  independent        1992        none   \n",
       "\n",
       "           personality  religion      activity  color  weight  budget  height  \n",
       "0    thrifty-protector      none       student  black      69  medium    1.77  \n",
       "1  hunter-ostentatious  Catholic       student    red      40     low    1.87  \n",
       "2          hard-worker  Catholic       student   blue      60     low    1.69  \n",
       "3          hard-worker      none  professional  green      44  medium    1.53  \n",
       "4    thrifty-protector  Catholic       student  black      65  medium    1.69  "
      ]
     },
     "execution_count": 12,
     "metadata": {},
     "output_type": "execute_result"
    }
   ],
   "source": [
    "df_user_profile.head() #brief look at the dataframe"
   ]
  },
  {
   "cell_type": "code",
   "execution_count": 13,
   "metadata": {},
   "outputs": [],
   "source": [
    "missing_columns = [\"budget\", \"activity\", \"hijos\", \"marital_status\", \"transport\", \"ambience\", \"smoker\", \"dress_preference\"]\n",
    "df_user_profile[missing_columns] = df_user_profile[missing_columns].replace(to_replace=[\"?\",\"none\"], value=np.nan)\n",
    "df_user_profile = df_user_profile.dropna(thresh=13) #If there is 4 missing rows, remove the row"
   ]
  },
  {
   "cell_type": "code",
   "execution_count": 14,
   "metadata": {},
   "outputs": [],
   "source": [
    "\"\"\"\n",
    "This should be the format\n",
    "smoker: Nominal, Missing: 3, 2 [false,true]\n",
    "dress_preference:Nominal, Missing: 5, 4 [informal,formal,no preference,elegant]\n",
    "ambience: Nominal, Missing: 6, 3 [family,friends,solitary]\n",
    "marital_status: Nominal, Missing: 4, 3 [single,married,widow]\n",
    "hijos: Nominal, Missing: 11, 3 [independent,kids,dependent]\n",
    "activity: Nominal, Missing: 7, 4 [student,professional,unemployed,working-class]\n",
    "budget: Nominal, Missing: 7, 3 [medium,low,high]\n",
    "transport: Nominal, Missing: 7, 3 [on foot,public,car owner]\n",
    "\"\"\"\n",
    "\n",
    "#This is just showing how one could use more specific data to generate a statistical decision for what to fill\n",
    "# the empty smoker value with. \n",
    "def fillSmokers(x):\n",
    "    df = df_user_profile.dropna(subset=['smoker']).loc[:, ['personality', 'drink_level', 'smoker']]\n",
    "    prob = len(df[df[\"smoker\"]==\"true\"])/len(df) #Default probability that a user smokes\n",
    "    \n",
    "    #Probability that a person with same drink level also smokes\n",
    "    drink_level = len(df[(df['drink_level']==x[\"drink_level\"]) & (df[\"smoker\"]==\"true\")])/len(df)\n",
    "    if drink_level != 0:\n",
    "        prob = drink_level\n",
    "    \n",
    "    if prob > random.random():\n",
    "        return \"true\"\n",
    "    else:\n",
    "        return \"false\"\n",
    "\n",
    "#All smokers got removed when we deleted rows, so no need to apply this one (just for demo purpose)\n",
    "#df_user_profile.smoker = df_user_profile.smoker.fillna(fillSmokers)\n",
    "\n",
    "#For the rest of the values, I will just fill in based on the probability of each value\n",
    "def fillDressPreference(x):\n",
    "    df = df_user_profile.dropna(subset=['dress_preference']) #Exclude nan rows\n",
    "    types = list(df.dress_preference.unique()) #Each type to choose between\n",
    "    prob = [len(df[df[\"dress_preference\"]==t])/len(df) for t in types] #Probability for each type\n",
    "    return np.random.choice(types, 1, p=prob)[0] #Random sample based on probability for each value\n",
    "\n",
    "def fillAmbience(x):\n",
    "    df = df_user_profile.dropna(subset=['ambience']) \n",
    "    types = list(df.ambience.unique()) \n",
    "    prob = [len(df[df[\"ambience\"]==t])/len(df) for t in types] \n",
    "    return np.random.choice(types, 1, p=prob)[0] \n",
    "\n",
    "def fillHijos(x):\n",
    "    df = df_user_profile.dropna(subset=['hijos']) \n",
    "    types = list(df.hijos.unique())\n",
    "    prob = [len(df[df[\"hijos\"]==t])/len(df) for t in types] \n",
    "    return np.random.choice(types, 1, p=prob)[0] \n",
    "\n",
    "def fillActivity(x):\n",
    "    df = df_user_profile.dropna(subset=['activity']) \n",
    "    types = list(df.activity.unique())\n",
    "    prob = [len(df[df[\"activity\"]==t])/len(df) for t in types] \n",
    "    return np.random.choice(types, 1, p=prob)[0] \n",
    "\n",
    "def fillBudget(x):\n",
    "    df = df_user_profile.dropna(subset=['budget']) \n",
    "    types = list(df.budget.unique())\n",
    "    prob = [len(df[df[\"budget\"]==t])/len(df) for t in types] \n",
    "    return np.random.choice(types, 1, p=prob)[0] \n",
    "\n",
    "def fillTransport(x):\n",
    "    df = df_user_profile.dropna(subset=['transport']) \n",
    "    types = list(df.transport.unique())\n",
    "    prob = [len(df[df[\"transport\"]==t])/len(df) for t in types] \n",
    "    return np.random.choice(types, 1, p=prob)[0] "
   ]
  },
  {
   "cell_type": "code",
   "execution_count": 15,
   "metadata": {},
   "outputs": [],
   "source": [
    "#Update the nan rows based on appropriate methods\n",
    "df_user_profile.hijos = df_user_profile.hijos.fillna(df_user_profile[df_user_profile.hijos.isna()].apply(lambda x: fillHijos(x), axis=1))\n",
    "df_user_profile.dress_preference = df_user_profile.dress_preference.fillna(df_user_profile[df_user_profile.dress_preference.isna()].apply(lambda x: fillDressPreference(x), axis=1))\n",
    "df_user_profile.ambience = df_user_profile.ambience.fillna(df_user_profile[df_user_profile.ambience.isna()].apply(lambda x: fillAmbience(x), axis=1))\n",
    "df_user_profile.activity = df_user_profile.activity.fillna(df_user_profile[df_user_profile.activity.isna()].apply(lambda x: fillActivity(x), axis=1))\n",
    "df_user_profile.budget = df_user_profile.budget.fillna(df_user_profile[df_user_profile.budget.isna()].apply(lambda x: fillBudget(x), axis=1))\n",
    "df_user_profile.transport = df_user_profile.transport.fillna(df_user_profile[df_user_profile.transport.isna()].apply(lambda x: fillTransport(x), axis=1))"
   ]
  },
  {
   "cell_type": "markdown",
   "metadata": {},
   "source": [
    "### Part 1\n",
    "2.1.3. What are the names of different restaurants in the state of ‘tamaulipas’?\n",
    "\n",
    "2.1.4. How many different customers used public transport for going to the\n",
    "restaurants?\n",
    "\n",
    "2.1.5. What is the least popular payment method among customers?\n",
    "\n",
    "2.1.6. How many (different) restaurants work until 19:00 in the evenings?\n",
    "\n",
    "2.1.7. Which type of cooking practice (rcuisine) is the most common among\n",
    "restaurants?\n",
    "\n",
    "2.1.8. What is the percentage of customers who were born between 1980 and\n",
    "1990?\n",
    "\n",
    "2.1.9. What is the percentage of students with a medium budget preferring\n",
    "walking to the restaurants?"
   ]
  },
  {
   "cell_type": "code",
   "execution_count": 16,
   "metadata": {},
   "outputs": [
    {
     "data": {
      "text/plain": [
       "3             Little Pizza Emilio Portes Gil\n",
       "4                              Carnitas_mata\n",
       "6                          Taqueria El Amigo\n",
       "8                   Pollo_frito_buenos_aires\n",
       "19                            Tacos El Guero\n",
       "27                                Cafe Ambar\n",
       "41                    Hamburguesas La Perica\n",
       "43                                   Churchs\n",
       "72                                      Vips\n",
       "73                                Palomo Tec\n",
       "76                        Tacos Correcaminos\n",
       "83                              Tortas Hawai\n",
       "86             Carreton De Flautas Y Migadas\n",
       "89                        Gorditas Dona Tota\n",
       "94                             Little Cesarz\n",
       "96                      Tacos De La Estacion\n",
       "103     Carnitas Mata Calle 16 De Septiembre\n",
       "106                       Puesto De Gorditas\n",
       "109    Carnitas Mata Calle Emilio Portes Gil\n",
       "111       Tacos De Barbacoa Enfrente Del Tec\n",
       "118                       Gorditas Dona Tota\n",
       "122                                Tacos Abi\n",
       "123                    La Perica Hamburguesa\n",
       "Name: name, dtype: object"
      ]
     },
     "execution_count": 16,
     "metadata": {},
     "output_type": "execute_result"
    }
   ],
   "source": [
    "#2.1.3 What are the names of different restaurants in the state of ‘tamaulipas’?\n",
    "df_geoplaces[df_geoplaces['state']=='Tamaulipas'][\"name\"] #16 originally"
   ]
  },
  {
   "cell_type": "code",
   "execution_count": 17,
   "metadata": {},
   "outputs": [
    {
     "data": {
      "text/plain": [
       "83"
      ]
     },
     "execution_count": 17,
     "metadata": {},
     "output_type": "execute_result"
    }
   ],
   "source": [
    "#2.1.4 How many different customers used public transport for going to the restaurants?\n",
    "len(df_user_profile.loc[df_user_profile[\"transport\"]==\"public\"]) #82 originally"
   ]
  },
  {
   "cell_type": "code",
   "execution_count": 18,
   "metadata": {},
   "outputs": [
    {
     "data": {
      "text/html": [
       "<div>\n",
       "<style scoped>\n",
       "    .dataframe tbody tr th:only-of-type {\n",
       "        vertical-align: middle;\n",
       "    }\n",
       "\n",
       "    .dataframe tbody tr th {\n",
       "        vertical-align: top;\n",
       "    }\n",
       "\n",
       "    .dataframe thead th {\n",
       "        text-align: right;\n",
       "    }\n",
       "</style>\n",
       "<table border=\"1\" class=\"dataframe\">\n",
       "  <thead>\n",
       "    <tr style=\"text-align: right;\">\n",
       "      <th></th>\n",
       "      <th>placeID</th>\n",
       "    </tr>\n",
       "    <tr>\n",
       "      <th>Rpayment</th>\n",
       "      <th></th>\n",
       "    </tr>\n",
       "  </thead>\n",
       "  <tbody>\n",
       "    <tr>\n",
       "      <th>American_Express</th>\n",
       "      <td>153</td>\n",
       "    </tr>\n",
       "    <tr>\n",
       "      <th>Carte_Blanche</th>\n",
       "      <td>7</td>\n",
       "    </tr>\n",
       "    <tr>\n",
       "      <th>Diners_Club</th>\n",
       "      <td>42</td>\n",
       "    </tr>\n",
       "    <tr>\n",
       "      <th>Discover</th>\n",
       "      <td>11</td>\n",
       "    </tr>\n",
       "    <tr>\n",
       "      <th>Japan_Credit_Bureau</th>\n",
       "      <td>5</td>\n",
       "    </tr>\n",
       "    <tr>\n",
       "      <th>MasterCard-Eurocard</th>\n",
       "      <td>194</td>\n",
       "    </tr>\n",
       "    <tr>\n",
       "      <th>Visa</th>\n",
       "      <td>255</td>\n",
       "    </tr>\n",
       "    <tr>\n",
       "      <th>bank_debit_cards</th>\n",
       "      <td>130</td>\n",
       "    </tr>\n",
       "    <tr>\n",
       "      <th>cash</th>\n",
       "      <td>500</td>\n",
       "    </tr>\n",
       "    <tr>\n",
       "      <th>checks</th>\n",
       "      <td>10</td>\n",
       "    </tr>\n",
       "    <tr>\n",
       "      <th>gift_certificates</th>\n",
       "      <td>7</td>\n",
       "    </tr>\n",
       "  </tbody>\n",
       "</table>\n",
       "</div>"
      ],
      "text/plain": [
       "                     placeID\n",
       "Rpayment                    \n",
       "American_Express         153\n",
       "Carte_Blanche              7\n",
       "Diners_Club               42\n",
       "Discover                  11\n",
       "Japan_Credit_Bureau        5\n",
       "MasterCard-Eurocard      194\n",
       "Visa                     255\n",
       "bank_debit_cards         130\n",
       "cash                     500\n",
       "checks                    10\n",
       "gift_certificates          7"
      ]
     },
     "execution_count": 18,
     "metadata": {},
     "output_type": "execute_result"
    }
   ],
   "source": [
    "#2.1.5 What is the least popular payment method among customers?\n",
    "#As we can see from the groupby table, Japan_Credit_Bureau is the least popular with 5 customers\n",
    "df_accepts = df_accepts.replace(to_replace=['VISA'], value=\"Visa\")\n",
    "df_accepts.groupby('Rpayment').count() "
   ]
  },
  {
   "cell_type": "code",
   "execution_count": 19,
   "metadata": {},
   "outputs": [
    {
     "data": {
      "text/plain": [
       "28"
      ]
     },
     "execution_count": 19,
     "metadata": {},
     "output_type": "execute_result"
    }
   ],
   "source": [
    "#2.1.6 How many (different) restaurants work until 19:00 in the evenings?\n",
    "len(df_hours[df_hours[\"hours\"].apply(lambda x: x.split(\"-\")[1])==\"19:00\"].drop_duplicates(subset=[\"placeID\"]))"
   ]
  },
  {
   "cell_type": "code",
   "execution_count": 20,
   "metadata": {},
   "outputs": [
    {
     "data": {
      "text/plain": [
       "'Mexican'"
      ]
     },
     "execution_count": 20,
     "metadata": {},
     "output_type": "execute_result"
    }
   ],
   "source": [
    "#2.1.7 Which type of cooking practice (rcuisine) is the most common among restaurants?\n",
    "df_cuisine[\"Rcuisine\"].value_counts().idxmax()"
   ]
  },
  {
   "cell_type": "code",
   "execution_count": 21,
   "metadata": {},
   "outputs": [
    {
     "data": {
      "text/plain": [
       "0.6343283582089553"
      ]
     },
     "execution_count": 21,
     "metadata": {},
     "output_type": "execute_result"
    }
   ],
   "source": [
    "#2.1.8 What is the percentage of customers who were born between 1980 and 1990?\n",
    "len(df_user_profile[df_user_profile[\"birth_year\"].apply(lambda x: x <= 1990 and x >= 1980)])/len(df_user_profile)"
   ]
  },
  {
   "cell_type": "code",
   "execution_count": 22,
   "metadata": {},
   "outputs": [
    {
     "data": {
      "text/plain": [
       "0.05970149253731343"
      ]
     },
     "execution_count": 22,
     "metadata": {},
     "output_type": "execute_result"
    }
   ],
   "source": [
    "#2.1.9. What is the percentage of students with a medium budget preferring walking to the restaurants?\n",
    "walkers = df_user_profile[ (df_user_profile[\"activity\"]==\"student\") & (df_user_profile[\"budget\"]==\"medium\") & (df_user_profile[\"transport\"]==\"on foot\")]\n",
    "len(walkers)/len(df_user_profile)"
   ]
  },
  {
   "cell_type": "markdown",
   "metadata": {},
   "source": [
    "### Part 2\n",
    "2.2.1. What are the names of restaurants that do not have public parking lots?\n",
    "\n",
    "2.2.2. What are the addresses of restaurants which only accept ‘cash’?\n",
    "\n",
    "2.2.3. Name the cities where the restaurants cook and serve ‘fast food’?\n",
    "\n",
    "2.2.4. What is the most common ‘rating’ among customers with family?\n",
    "\n",
    "2.2.5. What types of ‘rcuisine’ received the highest rank from people with ‘low’\n",
    "budget?\n",
    "\n",
    "2.2.6. What is the average of ‘service rating’, received from ‘social drinkers’\n",
    "about restaurants which just served ‘Wine-Beer’?\n",
    "\n",
    "2.2.7. How many smokers gave zero ‘service rating’ to the restaurants without an\n",
    "open area?\n",
    "\n",
    "2.2.8. Find the correlation between different rating categories\n",
    "((general) rating, food_rating, service_rating) with the price levels of the\n",
    "restaurants."
   ]
  },
  {
   "cell_type": "code",
   "execution_count": 23,
   "metadata": {
    "scrolled": true
   },
   "outputs": [
    {
     "data": {
      "text/plain": [
       "0                                        Kiku Cuernavaca\n",
       "1                                        Puesto De Tacos\n",
       "2                             El Rincón De San Francisco\n",
       "3                         Little Pizza Emilio Portes Gil\n",
       "4                                          Carnitas_mata\n",
       "5                               Restaurant Los Compadres\n",
       "6                                      Taqueria El Amigo\n",
       "7                                              Shi Ro Ie\n",
       "8                               Pollo_frito_buenos_aires\n",
       "9                                   La Estrella De Dimas\n",
       "10                                        Restaurante 75\n",
       "11                             Abondance Restaurante Bar\n",
       "12                                  El Angel Restaurante\n",
       "13                             Restaurante Pueblo Bonito\n",
       "14                           Mcdonalds Parque Tangamanga\n",
       "15                        Tortas Y Hamburguesas El Gordo\n",
       "16                                               Sirlone\n",
       "17                                            Rockabilly\n",
       "18                                         Unicols Pizza\n",
       "19                                        Tacos El Guero\n",
       "20                      Restaurant El Muladar De Calzada\n",
       "21                                  La Posada Del Virrey\n",
       "22     Restaurant And Bar And Clothesline Carlos N Ch...\n",
       "23                                                   Kfc\n",
       "24                                             Giovannis\n",
       "25                           Restaurant Oriental Express\n",
       "26                                    Mariscos Tia Licha\n",
       "27                                            Cafe Ambar\n",
       "28                               Restaurante La Gran Via\n",
       "29                                          Don Burguers\n",
       "                             ...                        \n",
       "93                                    Tacos Los Volcanes\n",
       "94                                         Little Cesarz\n",
       "95                                  Cafe Punta Del Cielo\n",
       "96                                  Tacos De La Estacion\n",
       "97                                  Restaurant Orizatlan\n",
       "98                          Restaurant Familiar El Chino\n",
       "99                       Restaurant De Mariscos De Picon\n",
       "100                                 Sanborns Casa Piedra\n",
       "102                                        Pizza Clasica\n",
       "103                 Carnitas Mata Calle 16 De Septiembre\n",
       "104                  Restaurante De Mariscos La Langosta\n",
       "105                         Restaurante Bar El Gallinero\n",
       "107                                              Log Yin\n",
       "108                                 Mariscos El Pescador\n",
       "109                Carnitas Mata Calle Emilio Portes Gil\n",
       "110                                             Crudalia\n",
       "112                             Restaurant Las Mananitas\n",
       "113                        Restaurante El Cielo Potosino\n",
       "114                                               Mikasa\n",
       "117                                      Cabana Huasteca\n",
       "118                                   Gorditas Dona Tota\n",
       "120                                          La Virreina\n",
       "122                                            Tacos Abi\n",
       "123                                La Perica Hamburguesa\n",
       "124                                     Mcdonalds Centro\n",
       "125                                              Chaires\n",
       "126                                           Sushi Itto\n",
       "127                                            Paniroles\n",
       "128                          Restaurant Bar Coty Y Pablo\n",
       "129                                     Sirloin Stockade\n",
       "Name: name, Length: 114, dtype: object"
      ]
     },
     "execution_count": 23,
     "metadata": {},
     "output_type": "execute_result"
    }
   ],
   "source": [
    "#2.2.1 What are the names of restaurants that do not have public parking lots?\n",
    "not_public_places = df_parking[df_parking[\"parking_lot\"]!=\"public\"][\"placeID\"]\n",
    "df_geoplaces.loc[df_geoplaces[\"placeID\"].isin(not_public_places)][\"name\"]"
   ]
  },
  {
   "cell_type": "code",
   "execution_count": 24,
   "metadata": {
    "scrolled": true
   },
   "outputs": [
    {
     "data": {
      "text/plain": [
       "0             Esquina Santos Degollado Y Leon Guzman\n",
       "1                            Calle Emilio Portes Gil\n",
       "2                             Lic. Emilio Portes Gil\n",
       "3                   Calle Mezquite Fracc Framboyanes\n",
       "4                                            Tampico\n",
       "5                  Villa De Pozos 192 Villa De Pozos\n",
       "6                 Villa De Pozos 4497 Villa De Pozos\n",
       "7                        Industrias 908 Valle Dorado\n",
       "8                                   Ricardo B. Anaya\n",
       "9                                Agustin De Iturbide\n",
       "10                                  Plaza Del Carmen\n",
       "11                              Carretera Central Sn\n",
       "12                       40 Norte Civac 1ra. Seccion\n",
       "13                           Tangamanga 7 Tangamanga\n",
       "14                         R.b. Anaya Esq. Florencia\n",
       "15                                       Anahuac 805\n",
       "16                           Francisco I. Madero 215\n",
       "17                                          Cd. Mier\n",
       "18                                  Ricardo B. Anaya\n",
       "19                    Francisco I. Madero 145 Centro\n",
       "20                 Santos Degollado 745 Los Alamitos\n",
       "21                               Alhondiga 62 Centro\n",
       "22            Federal Mexico - Acapulco 10 3 De Mayo\n",
       "23                        Ignacio Allende 785 Centro\n",
       "24                Guajardo Sn San Luis Potosi Centro\n",
       "25                    Francisco I. Madero 145 Centro\n",
       "26                         Rio Mayo 17 Vista Hermosa\n",
       "27                                     Av. Seminario\n",
       "28                                      36 Sur Civac\n",
       "29                                         Av. Coral\n",
       "30                                   69 Tres De Mayo\n",
       "31                                Nicolas Zapata 300\n",
       "32                        Himno Nacional 100 Avenida\n",
       "33                            Sevilla Y Olmedo 715 A\n",
       "34                Circuito Oriente Esq. Carretera 57\n",
       "35    Zaragoza Entre Francisco Zarco Y Lopez Velarde\n",
       "36          Av. Saan Luis Enttre Moctezuma Y Salinas\n",
       "37                             Frente Al Tecnologico\n",
       "38                 Emiliano Zapata Col. Tres De Mayo\n",
       "39    Rio Mayo Colonia Vista Hermosa Esq. Rio Balsas\n",
       "40                    Himno Nacional 2104 Tangamanga\n",
       "41                    Venustiano Carranza 719 Centro\n",
       "42                           Calle Emilio Portes Gil\n",
       "43                         Miguel Barragan 46 Centro\n",
       "44                                 Lomas Del Mirador\n",
       "45                   524 Soledad De Graciano Sanchez\n",
       "46            Cordillera De Los Alpes 675 Loma Verde\n",
       "47                             Frente Al Tecnologico\n",
       "48                    Himno Nacional 2104 Tangamanga\n",
       "49                                   Av. V. Carranza\n",
       "50                            Lic. Emilio Portes Gil\n",
       "51                    Julian De Los Reyes 400 Centro\n",
       "52                  Himno Nacional Esq. Blvd. Juarez\n",
       "53                     Interior Internado Palmira Sn\n",
       "54                                    Cuauhtemoc 455\n",
       "55                            Lic. Emilio Portes Gil\n",
       "56                    Venustiano Carranza 719 Centro\n",
       "57                                  Ricardo B. Anaya\n",
       "58                              Rayon Sn Col. Centro\n",
       "Name: address, dtype: object"
      ]
     },
     "execution_count": 24,
     "metadata": {},
     "output_type": "execute_result"
    }
   ],
   "source": [
    "#2.2.2. What are the addresses of restaurants which only accept ‘cash’?\n",
    "unique_restaurants = df_accepts[df_accepts.duplicated(['placeID'],keep=False)==False]\n",
    "pd.merge(df_geoplaces,unique_restaurants[unique_restaurants[\"Rpayment\"]==\"cash\"])[\"address\"]"
   ]
  },
  {
   "cell_type": "code",
   "execution_count": 25,
   "metadata": {},
   "outputs": [
    {
     "data": {
      "text/plain": [
       "8             Victoria\n",
       "14     San Luis Potosi\n",
       "64          Cuernavaca\n",
       "102            Soledad\n",
       "Name: city, dtype: object"
      ]
     },
     "execution_count": 25,
     "metadata": {},
     "output_type": "execute_result"
    }
   ],
   "source": [
    "#2.2.3. Name the cities where the restaurants cook and serve ‘fast food’?\n",
    "fastfood_resraurants = df_cuisine[df_cuisine[\"Rcuisine\"]==\"Fast_Food\"][\"placeID\"]\n",
    "df_geoplaces[df_geoplaces[\"placeID\"].isin(fastfood_resraurants)][\"city\"].drop_duplicates(keep=\"first\")\n",
    "#pd.merge(fastfood_resraurants,df_geoplaces)[\"city\"]"
   ]
  },
  {
   "cell_type": "code",
   "execution_count": 26,
   "metadata": {},
   "outputs": [
    {
     "data": {
      "text/plain": [
       "2"
      ]
     },
     "execution_count": 26,
     "metadata": {},
     "output_type": "execute_result"
    }
   ],
   "source": [
    "#2.2.4. What is the most common ‘rating’ among customers with family?\n",
    "family_customers = df_user_profile[df_user_profile[\"ambience\"]==\"family\"][\"userID\"]\n",
    "df_rating[df_rating[\"userID\"].isin(family_customers)][\"rating\"].value_counts().idxmax()"
   ]
  },
  {
   "cell_type": "code",
   "execution_count": 27,
   "metadata": {},
   "outputs": [
    {
     "data": {
      "text/plain": [
       "'Bakery'"
      ]
     },
     "execution_count": 27,
     "metadata": {},
     "output_type": "execute_result"
    }
   ],
   "source": [
    "#2.2.5. What types of ‘rcuisine’ received the highest rank from people with ‘low’ budget?\n",
    "#This will find the rcuisine with highest average rating from the low budget people\n",
    "lowbudget_profiles = df_user_profile[df_user_profile[\"budget\"]==\"low\"][\"userID\"] #profiles with low budget\n",
    "lowbudget_ratings = df_rating[df_rating[\"userID\"].isin(lowbudget_profiles)] #Ratings done by low budget people\n",
    "pd.merge(lowbudget_ratings,df_cuisine).groupby(['Rcuisine']).mean()[\"rating\"].idxmax()"
   ]
  },
  {
   "cell_type": "code",
   "execution_count": 28,
   "metadata": {},
   "outputs": [
    {
     "data": {
      "text/plain": [
       "1.3863636363636365"
      ]
     },
     "execution_count": 28,
     "metadata": {},
     "output_type": "execute_result"
    }
   ],
   "source": [
    "#2.2.6. What is the average of ‘service rating’, received from ‘social drinkers’ about restaurants \n",
    "#which just served ‘Wine-Beer’?\n",
    "social_drinkers = df_user_profile.loc[df_user_profile[\"drink_level\"]==\"social drinker\"][\"userID\"]\n",
    "winebeer_ratings = pd.merge(df_geoplaces.loc[df_geoplaces[\"alcohol\"]==\"Wine-Beer\"][\"placeID\"],df_rating)\n",
    "pd.merge(winebeer_ratings,social_drinkers)[\"service_rating\"].mean()"
   ]
  },
  {
   "cell_type": "code",
   "execution_count": 29,
   "metadata": {},
   "outputs": [
    {
     "data": {
      "text/plain": [
       "15"
      ]
     },
     "execution_count": 29,
     "metadata": {},
     "output_type": "execute_result"
    }
   ],
   "source": [
    "#2.2.7 How many smokers gave zero ‘service rating’ to the restaurants without an open area?\n",
    "smokers = df_user_profile.loc[df_user_profile[\"smoker\"]==\"true\"][\"userID\"]\n",
    "openarea_ratings = pd.merge(df_geoplaces.loc[df_geoplaces[\"area\"]!=\"open\"][\"placeID\"],df_rating)\n",
    "so_ratings = pd.merge(openarea_ratings,smokers)[[\"userID\",\"service_rating\"]]\n",
    "len(so_ratings[so_ratings[\"service_rating\"]==0].drop_duplicates())"
   ]
  },
  {
   "cell_type": "code",
   "execution_count": 30,
   "metadata": {
    "scrolled": true
   },
   "outputs": [
    {
     "data": {
      "text/plain": [
       "rating            0.090745\n",
       "service_rating    0.118696\n",
       "food_rating       0.051081\n",
       "Name: price, dtype: float64"
      ]
     },
     "execution_count": 30,
     "metadata": {},
     "output_type": "execute_result"
    }
   ],
   "source": [
    "#2.2.8. Find the correlation between different rating categories ((general) rating,\n",
    "#food_rating, service_rating) with the price levels of the restaurants.\n",
    "df_geoplaces.price.unique() #medium, low, high\n",
    "numerical_prices = df_geoplaces.replace(to_replace=['high', 'medium', 'low'], value=[2,1,0]) #set them to numerical\n",
    "pd.merge(numerical_prices[[\"price\",\"placeID\"]],df_rating).corr().loc[\"price\", [\"rating\",\"service_rating\",\"food_rating\"]]"
   ]
  }
 ],
 "metadata": {
  "kernelspec": {
   "display_name": "Python 3",
   "language": "python",
   "name": "python3"
  },
  "language_info": {
   "codemirror_mode": {
    "name": "ipython",
    "version": 3
   },
   "file_extension": ".py",
   "mimetype": "text/x-python",
   "name": "python",
   "nbconvert_exporter": "python",
   "pygments_lexer": "ipython3",
   "version": "3.7.3"
  }
 },
 "nbformat": 4,
 "nbformat_minor": 2
}
