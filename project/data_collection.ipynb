{
 "cells": [
  {
   "cell_type": "code",
   "execution_count": 1,
   "metadata": {},
   "outputs": [],
   "source": [
    "import os\n",
    "from PIL import Image, ImageOps\n",
    "import pandas as pd\n",
    "import numpy as np\n",
    "import joblib\n",
    "import cv2"
   ]
  },
  {
   "cell_type": "code",
   "execution_count": 2,
   "metadata": {},
   "outputs": [],
   "source": [
    "PATH = \"tmp_stian/\" #Folders with images"
   ]
  },
  {
   "cell_type": "code",
   "execution_count": 3,
   "metadata": {},
   "outputs": [],
   "source": [
    "def transform_images(path):\n",
    "    \"\"\" \n",
    "    Transforms all provided images by mirroring and rotation. Requires os and PIL-package. Deletes original image files.\n",
    "\n",
    "    Parameters: \n",
    "    path (string): Path to directory where all image folders that should be transformed are.\n",
    "    \"\"\"\n",
    "    \n",
    "    for directory in os.listdir(path):\n",
    "        if directory[0] == \".\": #Dont traverse folders such as .DS_Store\n",
    "            continue\n",
    "        for image in os.listdir(path+directory):\n",
    "            if image.endswith(\".png\"):  \n",
    "                img = Image.open(path+directory + \"/\" + image)\n",
    "                mirrored_img = ImageOps.mirror(img)\n",
    "                for i in [0, 45, 90, 135, 180, 225, 270, 315]:\n",
    "                    img.rotate(i).save(path+directory + \"/\" +str(image[:-4]) + \"_r\" + str(i) + \".png\")\n",
    "                    mirrored_img.rotate(i).save(path+directory + \"/\" +str(image[:-4]) + \"_r\" + str(i) + \"_m.png\")\n",
    "                if os.path.exists(path+directory + \"/\" + image):\n",
    "                        os.remove(path+directory + \"/\" + image)"
   ]
  },
  {
   "cell_type": "code",
   "execution_count": 6,
   "metadata": {},
   "outputs": [],
   "source": [
    "def create_dataset(path):\n",
    "    \"\"\" \n",
    "    Creates a pandas dataframe containing vectorized 50x50 binary images with labels. Indexed by filepath + filename\n",
    "    \n",
    "    Parameters: \n",
    "    path (string): Path to directory where all image folders are\n",
    "    \"\"\"\n",
    "    \n",
    "    file_names = [] #Indexes\n",
    "    files = [] #Vectorized images\n",
    "    counts = [] #Label\n",
    "    units = [\"zero\", \"one\", \"two\", \"three\", \"four\", \"five\"] \n",
    "    for directory in os.listdir(path):\n",
    "        if directory[0] == \".\":\n",
    "            continue\n",
    "        else:\n",
    "            count = units.index(directory.split(\"_\")[0]) #Convert number from string to integer\n",
    "        for file in os.listdir(path+directory):\n",
    "            filename = os.fsdecode(file)\n",
    "            if filename.endswith(\".png\"):\n",
    "                file_names.append(directory+\"/\"+filename)\n",
    "                counts.append(count)\n",
    "                f = np.ravel(cv2.imread(path + directory +\"/\"+ filename, 0))%254 #Vectorize and convert to 0 or 1 val\n",
    "                files.append(f.tolist())\n",
    "\n",
    "    return pd.DataFrame({\"image\": files, \"count\":counts}, index=file_names)"
   ]
  },
  {
   "cell_type": "code",
   "execution_count": 4,
   "metadata": {},
   "outputs": [],
   "source": [
    "transform_images(PATH)"
   ]
  },
  {
   "cell_type": "code",
   "execution_count": 7,
   "metadata": {},
   "outputs": [],
   "source": [
    "dataset = create_dataset(PATH)"
   ]
  },
  {
   "cell_type": "code",
   "execution_count": 8,
   "metadata": {},
   "outputs": [
    {
     "data": {
      "text/html": [
       "<div>\n",
       "<style scoped>\n",
       "    .dataframe tbody tr th:only-of-type {\n",
       "        vertical-align: middle;\n",
       "    }\n",
       "\n",
       "    .dataframe tbody tr th {\n",
       "        vertical-align: top;\n",
       "    }\n",
       "\n",
       "    .dataframe thead th {\n",
       "        text-align: right;\n",
       "    }\n",
       "</style>\n",
       "<table border=\"1\" class=\"dataframe\">\n",
       "  <thead>\n",
       "    <tr style=\"text-align: right;\">\n",
       "      <th></th>\n",
       "      <th>image</th>\n",
       "      <th>count</th>\n",
       "    </tr>\n",
       "  </thead>\n",
       "  <tbody>\n",
       "    <tr>\n",
       "      <th>one_1/341_r90_m.png</th>\n",
       "      <td>[0, 0, 0, 0, 0, 0, 0, 0, 0, 0, 0, 0, 0, 0, 0, ...</td>\n",
       "      <td>1</td>\n",
       "    </tr>\n",
       "    <tr>\n",
       "      <th>one_1/319_r180_m.png</th>\n",
       "      <td>[0, 0, 0, 0, 0, 0, 0, 0, 0, 0, 0, 0, 0, 0, 0, ...</td>\n",
       "      <td>1</td>\n",
       "    </tr>\n",
       "    <tr>\n",
       "      <th>one_1/342_r315_m.png</th>\n",
       "      <td>[0, 0, 0, 0, 0, 0, 0, 0, 0, 0, 0, 0, 0, 0, 0, ...</td>\n",
       "      <td>1</td>\n",
       "    </tr>\n",
       "    <tr>\n",
       "      <th>one_1/286_r225_m.png</th>\n",
       "      <td>[0, 0, 0, 0, 0, 0, 0, 0, 0, 0, 0, 0, 0, 0, 0, ...</td>\n",
       "      <td>1</td>\n",
       "    </tr>\n",
       "    <tr>\n",
       "      <th>one_1/340_r45.png</th>\n",
       "      <td>[0, 0, 0, 0, 0, 0, 0, 0, 0, 0, 0, 0, 0, 0, 0, ...</td>\n",
       "      <td>1</td>\n",
       "    </tr>\n",
       "  </tbody>\n",
       "</table>\n",
       "</div>"
      ],
      "text/plain": [
       "                                                                  image  count\n",
       "one_1/341_r90_m.png   [0, 0, 0, 0, 0, 0, 0, 0, 0, 0, 0, 0, 0, 0, 0, ...      1\n",
       "one_1/319_r180_m.png  [0, 0, 0, 0, 0, 0, 0, 0, 0, 0, 0, 0, 0, 0, 0, ...      1\n",
       "one_1/342_r315_m.png  [0, 0, 0, 0, 0, 0, 0, 0, 0, 0, 0, 0, 0, 0, 0, ...      1\n",
       "one_1/286_r225_m.png  [0, 0, 0, 0, 0, 0, 0, 0, 0, 0, 0, 0, 0, 0, 0, ...      1\n",
       "one_1/340_r45.png     [0, 0, 0, 0, 0, 0, 0, 0, 0, 0, 0, 0, 0, 0, 0, ...      1"
      ]
     },
     "execution_count": 8,
     "metadata": {},
     "output_type": "execute_result"
    }
   ],
   "source": [
    "dataset.head()"
   ]
  },
  {
   "cell_type": "code",
   "execution_count": 9,
   "metadata": {},
   "outputs": [
    {
     "data": {
      "text/plain": [
       "6528"
      ]
     },
     "execution_count": 9,
     "metadata": {},
     "output_type": "execute_result"
    }
   ],
   "source": [
    "len(dataset)"
   ]
  },
  {
   "cell_type": "code",
   "execution_count": 10,
   "metadata": {},
   "outputs": [
    {
     "data": {
      "text/plain": [
       "['stian_dataset_all']"
      ]
     },
     "execution_count": 10,
     "metadata": {},
     "output_type": "execute_result"
    }
   ],
   "source": [
    "joblib.dump(dataset, \"stian_dataset_all\") #Store the dataset as a python object"
   ]
  }
 ],
 "metadata": {
  "kernelspec": {
   "display_name": "Python 3",
   "language": "python",
   "name": "python3"
  },
  "language_info": {
   "codemirror_mode": {
    "name": "ipython",
    "version": 3
   },
   "file_extension": ".py",
   "mimetype": "text/x-python",
   "name": "python",
   "nbconvert_exporter": "python",
   "pygments_lexer": "ipython3",
   "version": "3.7.3"
  }
 },
 "nbformat": 4,
 "nbformat_minor": 2
}
