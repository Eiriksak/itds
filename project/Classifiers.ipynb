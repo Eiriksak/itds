{
 "cells": [
  {
   "cell_type": "code",
   "execution_count": 2,
   "metadata": {
    "colab": {},
    "colab_type": "code",
    "id": "KbdcYAvT70IP"
   },
   "outputs": [],
   "source": [
    "import pandas as pd\n",
    "import time\n",
    "import numpy as np\n",
    "from joblib import dump,load\n",
    "import matplotlib.pyplot as plt\n",
    "import seaborn as sn\n",
    "\n",
    "from sklearn.utils import shuffle\n",
    "from sklearn.metrics import confusion_matrix\n",
    "from sklearn.metrics import accuracy_score"
   ]
  },
  {
   "cell_type": "code",
   "execution_count": 3,
   "metadata": {
    "colab": {},
    "colab_type": "code",
    "id": "4tYa9M5k70IT"
   },
   "outputs": [],
   "source": [
    "%matplotlib inline"
   ]
  },
  {
   "cell_type": "code",
   "execution_count": 4,
   "metadata": {
    "colab": {},
    "colab_type": "code",
    "id": "fOBdB74N70IV"
   },
   "outputs": [],
   "source": [
    "df = load(\"hand_dataset\")\n",
    "df_test = load(\"stian_dataset_all\")"
   ]
  },
  {
   "cell_type": "markdown",
   "metadata": {
    "colab_type": "text",
    "id": "8iwL02lV70IX"
   },
   "source": [
    "### Data Cleaning\n",
    "\n",
    "Customize the data you want to train on. Some examples might be\n",
    "- Only use every third frame \n",
    "- Only use certain rotations\n",
    "- Only with sleeves included"
   ]
  },
  {
   "cell_type": "code",
   "execution_count": 5,
   "metadata": {
    "colab": {
     "base_uri": "https://localhost:8080/",
     "height": 85
    },
    "colab_type": "code",
    "executionInfo": {
     "elapsed": 16479,
     "status": "ok",
     "timestamp": 1573399936537,
     "user": {
      "displayName": "ElfenbenkystenTV",
      "photoUrl": "https://lh3.googleusercontent.com/a-/AAuE7mDKakq-j12KabZKURNPEIRUOMytgGcMXTS7STCm=s64",
      "userId": "05294511208889461214"
     },
     "user_tz": -60
    },
    "id": "-gzq27q170IY",
    "outputId": "08cb81c0-b768-4713-a8ee-1c4566aaf28e"
   },
   "outputs": [
    {
     "name": "stdout",
     "output_type": "stream",
     "text": [
      "Length of training data before cleaning:  47200\n",
      "Length of training data after cleaning:  15776\n",
      "Length of test data before cleaning:  6528\n",
      "Length of test data after cleaning:  1312\n"
     ]
    }
   ],
   "source": [
    "print(\"Length of training data before cleaning: \", len(df))\n",
    "third_images = pd.Series(df.index).apply(lambda x : int(str(x.split(\"/\")[1].split(\"_\")[0])) % 3 == 0)\n",
    "df = df.loc[df.index[third_images]]\n",
    "print(\"Length of training data after cleaning: \", len(df))\n",
    "\n",
    "#Also, the test data has a lot of almost similar frames, so we want to increase the frame rate for that one as well\n",
    "print(\"Length of test data before cleaning: \", len(df_test))\n",
    "fifth_images = pd.Series(df_test.index).apply(lambda x : int(str(x.split(\"/\")[1].split(\"_\")[0])) % 5 == 0)\n",
    "df_test = df_test.loc[df_test.index[fifth_images]]\n",
    "print(\"Length of test data after cleaning: \", len(df_test))"
   ]
  },
  {
   "cell_type": "markdown",
   "metadata": {
    "colab_type": "text",
    "id": "FnxfyfM-70Ib"
   },
   "source": [
    "Define train and test sets. The test set should be an unseen hand with slightly different threshold (Typical live demo data). This is because the classifiers learns the training data really well, but might fail to understand live data of unseen hands. "
   ]
  },
  {
   "cell_type": "code",
   "execution_count": 6,
   "metadata": {
    "colab": {},
    "colab_type": "code",
    "id": "b3LQK-0p70Ic"
   },
   "outputs": [],
   "source": [
    "df = shuffle(df)\n",
    "X_train = df[\"image\"]\n",
    "y_train = df[\"count\"]\n",
    "X_test = df_test[\"image\"]\n",
    "y_test = df_test[\"count\"]"
   ]
  },
  {
   "cell_type": "code",
   "execution_count": 7,
   "metadata": {
    "colab": {
     "base_uri": "https://localhost:8080/",
     "height": 289
    },
    "colab_type": "code",
    "executionInfo": {
     "elapsed": 16732,
     "status": "ok",
     "timestamp": 1573399936806,
     "user": {
      "displayName": "ElfenbenkystenTV",
      "photoUrl": "https://lh3.googleusercontent.com/a-/AAuE7mDKakq-j12KabZKURNPEIRUOMytgGcMXTS7STCm=s64",
      "userId": "05294511208889461214"
     },
     "user_tz": -60
    },
    "id": "kcUGgnhe70Id",
    "outputId": "2683acb5-ebae-4483-9af7-e60cb08ff69f"
   },
   "outputs": [
    {
     "name": "stdout",
     "output_type": "stream",
     "text": [
      "Training data: \n",
      " 2    3632\n",
      "1    3520\n",
      "3    2368\n",
      "5    2208\n",
      "4    2096\n",
      "0    1952\n",
      "Name: count, dtype: int64\n",
      "Testing data: \n",
      " 4    256\n",
      "5    224\n",
      "2    224\n",
      "3    208\n",
      "0    208\n",
      "1    192\n",
      "Name: count, dtype: int64\n"
     ]
    }
   ],
   "source": [
    "print(\"Training data: \\n\", df[\"count\"].value_counts()) #Check if the dataset is unbalanced\n",
    "print(\"Testing data: \\n\", df_test[\"count\"].value_counts())"
   ]
  },
  {
   "cell_type": "markdown",
   "metadata": {
    "colab_type": "text",
    "id": "qO4YQiLV70If"
   },
   "source": [
    "### Random Forest"
   ]
  },
  {
   "cell_type": "code",
   "execution_count": 9,
   "metadata": {
    "colab": {
     "base_uri": "https://localhost:8080/",
     "height": 119
    },
    "colab_type": "code",
    "executionInfo": {
     "elapsed": 330067,
     "status": "ok",
     "timestamp": 1573400250152,
     "user": {
      "displayName": "ElfenbenkystenTV",
      "photoUrl": "https://lh3.googleusercontent.com/a-/AAuE7mDKakq-j12KabZKURNPEIRUOMytgGcMXTS7STCm=s64",
      "userId": "05294511208889461214"
     },
     "user_tz": -60
    },
    "id": "Qc90LGGV70Ig",
    "outputId": "c6b18549-fd62-4855-c886-921a6560e233"
   },
   "outputs": [
    {
     "name": "stdout",
     "output_type": "stream",
     "text": [
      "Iteration 1 gave accuracy: 0.88643, fit time: 61.180s, prediction time: 0.585s\n",
      "Iteration 2 gave accuracy: 0.89101, fit time: 61.318s, prediction time: 0.579s\n",
      "Iteration 3 gave accuracy: 0.88262, fit time: 62.113s, prediction time: 0.564s\n",
      "Iteration 4 gave accuracy: 0.89024, fit time: 62.707s, prediction time: 0.558s\n",
      "Iteration 5 gave accuracy: 0.89024, fit time: 62.778s, prediction time: 0.555s\n",
      "Average score after 5 iterations: 0.88811\n"
     ]
    }
   ],
   "source": [
    "from sklearn.ensemble import RandomForestClassifier\n",
    "rf_scores = []\n",
    "for i in range(1,6):\n",
    "    start_time = time.time()\n",
    "    rf = RandomForestClassifier(n_estimators=550,max_depth=50)\n",
    "    rf.fit(list(X_train),y_train)\n",
    "    fit_time = time.time() - start_time\n",
    "    \n",
    "    start_time = time.time()\n",
    "    pred = rf.predict(list(X_test))\n",
    "    pred_time = time.time() - start_time\n",
    "    \n",
    "    acc = accuracy_score(y_test,pred)\n",
    "    rf_scores.append(acc)\n",
    "    print(\"Iteration {} gave accuracy: {:0.5f}, fit time: {:0.3f}s, prediction time: {:0.3f}s\"\n",
    "          .format(i,acc,fit_time,pred_time))\n",
    "print(\"Average score after 5 iterations: {:0.5f}\".format(sum(rf_scores) / len(rf_scores)))"
   ]
  },
  {
   "cell_type": "code",
   "execution_count": 9,
   "metadata": {
    "colab": {
     "base_uri": "https://localhost:8080/",
     "height": 413
    },
    "colab_type": "code",
    "executionInfo": {
     "elapsed": 391424,
     "status": "ok",
     "timestamp": 1573400311532,
     "user": {
      "displayName": "ElfenbenkystenTV",
      "photoUrl": "https://lh3.googleusercontent.com/a-/AAuE7mDKakq-j12KabZKURNPEIRUOMytgGcMXTS7STCm=s64",
      "userId": "05294511208889461214"
     },
     "user_tz": -60
    },
    "id": "aeRK7sQB70Ii",
    "outputId": "1cd68de1-35e3-40e2-d10e-a39179cf91f8"
   },
   "outputs": [
    {
     "name": "stdout",
     "output_type": "stream",
     "text": [
      "Confusion matrix for random forest with accuracy 0.88338\n"
     ]
    },
    {
     "data": {
      "text/plain": [
       "<matplotlib.axes._subplots.AxesSubplot at 0x1a1abd96a0>"
      ]
     },
     "execution_count": 9,
     "metadata": {},
     "output_type": "execute_result"
    },
    {
     "data": {
      "image/png": "[encoded data removed]",
      "text/plain": [
       "<Figure size 576x432 with 2 Axes>"
      ]
     },
     "metadata": {
      "needs_background": "light"
     },
     "output_type": "display_data"
    }
   ],
   "source": [
    "rf = RandomForestClassifier(n_estimators=550,max_depth=50)\n",
    "rf.fit(list(X_train),y_train)\n",
    "pred = rf.predict(list(X_test))\n",
    "print(\"Confusion matrix for random forest with accuracy {:0.5f}\".format(accuracy_score(y_test,pred)))\n",
    "\n",
    "rf_confusion_matrix = confusion_matrix(pred,y_test)\n",
    "rf_df = pd.DataFrame(rf_confusion_matrix, index = range(0,6), columns = range(0,6))\n",
    "plt.figure(figsize = (8,6))\n",
    "sn.heatmap(rf_df, annot=True,cmap=\"YlGnBu\")"
   ]
  },
  {
   "cell_type": "markdown",
   "metadata": {
    "colab_type": "text",
    "id": "Gq8lzfNQ70Il"
   },
   "source": [
    "### Support Vector Machines"
   ]
  },
  {
   "cell_type": "code",
   "execution_count": 11,
   "metadata": {
    "colab": {
     "base_uri": "https://localhost:8080/",
     "height": 430
    },
    "colab_type": "code",
    "executionInfo": {
     "elapsed": 2132495,
     "status": "ok",
     "timestamp": 1573402052613,
     "user": {
      "displayName": "ElfenbenkystenTV",
      "photoUrl": "https://lh3.googleusercontent.com/a-/AAuE7mDKakq-j12KabZKURNPEIRUOMytgGcMXTS7STCm=s64",
      "userId": "05294511208889461214"
     },
     "user_tz": -60
    },
    "id": "aWVNd5C270Il",
    "outputId": "d7f84152-c208-44e2-abb4-f5caa36764d4"
   },
   "outputs": [
    {
     "name": "stdout",
     "output_type": "stream",
     "text": [
      "Accuracy: 0.86128, fit time: 1658.192s, prediction time: 82.230s\n",
      "Confusion matrix for support vector classifier with accuracy 0.86128\n"
     ]
    },
    {
     "data": {
      "text/plain": [
       "<matplotlib.axes._subplots.AxesSubplot at 0x7ffb7fab86d8>"
      ]
     },
     "execution_count": 11,
     "metadata": {
      "tags": []
     },
     "output_type": "execute_result"
    },
    {
     "data": {
      "image/png": "[encoded data removed]",
      "text/plain": [
       "<Figure size 576x432 with 2 Axes>"
      ]
     },
     "metadata": {
      "tags": []
     },
     "output_type": "display_data"
    }
   ],
   "source": [
    "from sklearn.svm import SVC\n",
    "#SVC is exponentially growing in size as the training data increase, which makes it difficult to find parameters\n",
    "#that will work on our training data. This demonstrates how comprehensive the training might be \n",
    "\n",
    "svc = SVC(gamma=0.01)\n",
    "start_time = time.time()\n",
    "svc.fit(list(X_train),y_train)\n",
    "fit_time = time.time() - start_time\n",
    "\n",
    "start_time = time.time()\n",
    "pred = svc.predict(list(X_test))\n",
    "pred_time = time.time() - start_time\n",
    "\n",
    "acc = accuracy_score(y_test,pred)\n",
    "print(\"Accuracy: {:0.5f}, fit time: {:0.3f}s, prediction time: {:0.3f}s\"\n",
    "      .format(acc,fit_time,pred_time))\n",
    "\n",
    "print(\"Confusion matrix for support vector classifier with accuracy {:0.5f}\".format(accuracy_score(y_test,pred)))\n",
    "\n",
    "svc_confusion_matrix = confusion_matrix(pred,y_test)\n",
    "svc_df = pd.DataFrame(svc_confusion_matrix, index = range(0,6), columns = range(0,6))\n",
    "plt.figure(figsize = (8,6))\n",
    "sn.heatmap(svc_df, annot=True,cmap=\"YlGnBu\")"
   ]
  },
  {
   "cell_type": "markdown",
   "metadata": {
    "colab_type": "text",
    "id": "XvS2479o70Io"
   },
   "source": [
    "### Decision Tree\n"
   ]
  },
  {
   "cell_type": "code",
   "execution_count": 12,
   "metadata": {
    "colab": {
     "base_uri": "https://localhost:8080/",
     "height": 119
    },
    "colab_type": "code",
    "executionInfo": {
     "elapsed": 2177591,
     "status": "ok",
     "timestamp": 1573402097723,
     "user": {
      "displayName": "ElfenbenkystenTV",
      "photoUrl": "https://lh3.googleusercontent.com/a-/AAuE7mDKakq-j12KabZKURNPEIRUOMytgGcMXTS7STCm=s64",
      "userId": "05294511208889461214"
     },
     "user_tz": -60
    },
    "id": "BwhFyJ_-70Ip",
    "outputId": "1ff660b7-7241-44d3-cd92-c850d216f304"
   },
   "outputs": [
    {
     "name": "stdout",
     "output_type": "stream",
     "text": [
      "Iteration 1 gave accuracy: 0.49314, fit time: 8.959s, prediction time: 0.230s\n",
      "Iteration 2 gave accuracy: 0.52896, fit time: 9.095s, prediction time: 0.230s\n",
      "Iteration 3 gave accuracy: 0.51601, fit time: 8.737s, prediction time: 0.231s\n",
      "Iteration 4 gave accuracy: 0.51372, fit time: 8.674s, prediction time: 0.236s\n",
      "Iteration 5 gave accuracy: 0.48323, fit time: 8.709s, prediction time: 0.229s\n",
      "Average score after 5 iterations: 0.50701\n"
     ]
    }
   ],
   "source": [
    "from sklearn import tree\n",
    "\n",
    "dtree_scores = []\n",
    "for i in range(1,6):\n",
    "    start_time = time.time()\n",
    "    dtree = tree.DecisionTreeClassifier()\n",
    "    dtree.fit(list(X_train),y_train)\n",
    "    fit_time = time.time() - start_time\n",
    "    \n",
    "    start_time = time.time()\n",
    "    pred = dtree.predict(list(X_test))\n",
    "    pred_time = time.time() - start_time\n",
    "    \n",
    "    acc = accuracy_score(y_test,pred)\n",
    "    dtree_scores.append(acc)\n",
    "    print(\"Iteration {} gave accuracy: {:0.5f}, fit time: {:0.3f}s, prediction time: {:0.3f}s\"\n",
    "          .format(i,acc,fit_time,pred_time))\n",
    "print(\"Average score after 5 iterations: {:0.5f}\".format(sum(dtree_scores) / len(dtree_scores)))"
   ]
  },
  {
   "cell_type": "code",
   "execution_count": 11,
   "metadata": {
    "colab": {
     "base_uri": "https://localhost:8080/",
     "height": 413
    },
    "colab_type": "code",
    "executionInfo": {
     "elapsed": 9920,
     "status": "ok",
     "timestamp": 1573402856396,
     "user": {
      "displayName": "ElfenbenkystenTV",
      "photoUrl": "https://lh3.googleusercontent.com/a-/AAuE7mDKakq-j12KabZKURNPEIRUOMytgGcMXTS7STCm=s64",
      "userId": "05294511208889461214"
     },
     "user_tz": -60
    },
    "id": "ikLNsmqr70Ir",
    "outputId": "635ff5c0-0f4f-49f9-9c8a-2e31afe3e3dd"
   },
   "outputs": [
    {
     "name": "stdout",
     "output_type": "stream",
     "text": [
      "Confusion matrix for decision tree with accuracy 0.51372\n"
     ]
    },
    {
     "data": {
      "text/plain": [
       "<matplotlib.axes._subplots.AxesSubplot at 0x1a1bc282e8>"
      ]
     },
     "execution_count": 11,
     "metadata": {},
     "output_type": "execute_result"
    },
    {
     "data": {
      "image/png": "[encoded data removed]",
      "text/plain": [
       "<Figure size 576x432 with 2 Axes>"
      ]
     },
     "metadata": {
      "needs_background": "light"
     },
     "output_type": "display_data"
    }
   ],
   "source": [
    "dtree = tree.DecisionTreeClassifier()\n",
    "dtree.fit(list(X_train),y_train)\n",
    "pred = dtree.predict(list(X_test))\n",
    "print(\"Confusion matrix for decision tree with accuracy {:0.5f}\".format(accuracy_score(y_test,pred)))\n",
    "\n",
    "dtree_confusion_matrix = confusion_matrix(pred,y_test)\n",
    "dtree_df = pd.DataFrame(dtree_confusion_matrix, index = range(0,6), columns = range(0,6))\n",
    "plt.figure(figsize = (8,6))\n",
    "sn.heatmap(dtree_df, annot=True,cmap=\"YlGnBu\")"
   ]
  },
  {
   "cell_type": "markdown",
   "metadata": {
    "colab_type": "text",
    "id": "O6S7M69p70It"
   },
   "source": [
    "### Gaussian Naive Bayes\n"
   ]
  },
  {
   "cell_type": "code",
   "execution_count": 14,
   "metadata": {
    "colab": {
     "base_uri": "https://localhost:8080/",
     "height": 119
    },
    "colab_type": "code",
    "executionInfo": {
     "elapsed": 2205773,
     "status": "ok",
     "timestamp": 1573402125925,
     "user": {
      "displayName": "ElfenbenkystenTV",
      "photoUrl": "https://lh3.googleusercontent.com/a-/AAuE7mDKakq-j12KabZKURNPEIRUOMytgGcMXTS7STCm=s64",
      "userId": "05294511208889461214"
     },
     "user_tz": -60
    },
    "id": "-KMLs5gp70It",
    "outputId": "c5c64dc0-34c1-4726-c140-5d29ee0bad94"
   },
   "outputs": [
    {
     "name": "stdout",
     "output_type": "stream",
     "text": [
      "Iteration 1 gave accuracy: 0.22561, fit time: 3.576s, prediction time: 0.390s\n",
      "Iteration 2 gave accuracy: 0.22561, fit time: 3.415s, prediction time: 0.379s\n",
      "Iteration 3 gave accuracy: 0.22561, fit time: 3.425s, prediction time: 0.382s\n",
      "Iteration 4 gave accuracy: 0.22561, fit time: 3.404s, prediction time: 0.374s\n",
      "Iteration 5 gave accuracy: 0.22561, fit time: 3.404s, prediction time: 0.378s\n",
      "Average score after 5 iterations: 0.22561\n"
     ]
    }
   ],
   "source": [
    "from sklearn.naive_bayes import GaussianNB\n",
    "\n",
    "gnb_scores = []\n",
    "for i in range(1,6):\n",
    "    start_time = time.time()\n",
    "    gnb = GaussianNB()\n",
    "    gnb.fit(list(X_train),y_train)\n",
    "    fit_time = time.time() - start_time\n",
    "    \n",
    "    start_time = time.time()\n",
    "    pred = gnb.predict(list(X_test))\n",
    "    pred_time = time.time() - start_time\n",
    "    \n",
    "    acc = accuracy_score(y_test,pred)\n",
    "    gnb_scores.append(acc)\n",
    "    print(\"Iteration {} gave accuracy: {:0.5f}, fit time: {:0.3f}s, prediction time: {:0.3f}s\"\n",
    "          .format(i,acc,fit_time,pred_time))\n",
    "print(\"Average score after 5 iterations: {:0.5f}\".format(sum(gnb_scores) / len(gnb_scores)))"
   ]
  },
  {
   "cell_type": "code",
   "execution_count": 13,
   "metadata": {
    "colab": {
     "base_uri": "https://localhost:8080/",
     "height": 413
    },
    "colab_type": "code",
    "executionInfo": {
     "elapsed": 2209802,
     "status": "ok",
     "timestamp": 1573402129963,
     "user": {
      "displayName": "ElfenbenkystenTV",
      "photoUrl": "https://lh3.googleusercontent.com/a-/AAuE7mDKakq-j12KabZKURNPEIRUOMytgGcMXTS7STCm=s64",
      "userId": "05294511208889461214"
     },
     "user_tz": -60
    },
    "id": "EUMypB3D70Iv",
    "outputId": "9e1b9f6c-ba79-44b5-f302-6cb62268aac4"
   },
   "outputs": [
    {
     "name": "stdout",
     "output_type": "stream",
     "text": [
      "Confusion matrix for Gaussian Naive Bayes with accuracy 0.22561\n"
     ]
    },
    {
     "data": {
      "text/plain": [
       "<matplotlib.axes._subplots.AxesSubplot at 0x1a1bed0da0>"
      ]
     },
     "execution_count": 13,
     "metadata": {},
     "output_type": "execute_result"
    },
    {
     "data": {
      "image/png": "[encoded data removed]",
      "text/plain": [
       "<Figure size 576x432 with 2 Axes>"
      ]
     },
     "metadata": {
      "needs_background": "light"
     },
     "output_type": "display_data"
    }
   ],
   "source": [
    "gnb = GaussianNB()\n",
    "gnb.fit(list(X_train),y_train)\n",
    "pred = gnb.predict(list(X_test))\n",
    "\n",
    "print(\"Confusion matrix for Gaussian Naive Bayes with accuracy {:0.5f}\".format(accuracy_score(y_test,pred)))\n",
    "\n",
    "gnb_confusion_matrix = confusion_matrix(pred,y_test)\n",
    "gnb_df = pd.DataFrame(gnb_confusion_matrix, index = range(0,6), columns = range(0,6))\n",
    "plt.figure(figsize = (8,6))\n",
    "sn.heatmap(gnb_df, annot=True,cmap=\"YlGnBu\")"
   ]
  },
  {
   "cell_type": "markdown",
   "metadata": {
    "colab_type": "text",
    "id": "QQ4D3EtJ70Iy"
   },
   "source": [
    "### Neural Network (Multi-layer Perceptron)"
   ]
  },
  {
   "cell_type": "code",
   "execution_count": 16,
   "metadata": {
    "colab": {
     "base_uri": "https://localhost:8080/",
     "height": 119
    },
    "colab_type": "code",
    "executionInfo": {
     "elapsed": 2498626,
     "status": "ok",
     "timestamp": 1573402418793,
     "user": {
      "displayName": "ElfenbenkystenTV",
      "photoUrl": "https://lh3.googleusercontent.com/a-/AAuE7mDKakq-j12KabZKURNPEIRUOMytgGcMXTS7STCm=s64",
      "userId": "05294511208889461214"
     },
     "user_tz": -60
    },
    "id": "vkaIXQo170Iz",
    "outputId": "47ee68b5-f0a0-4a2b-f1a6-a4bfee6854d1"
   },
   "outputs": [
    {
     "name": "stdout",
     "output_type": "stream",
     "text": [
      "Iteration 1 gave accuracy: 0.80488, fit time: 63.102s, prediction time: 0.295s\n",
      "Iteration 2 gave accuracy: 0.75915, fit time: 58.018s, prediction time: 0.294s\n",
      "Iteration 3 gave accuracy: 0.78963, fit time: 54.368s, prediction time: 0.291s\n",
      "Iteration 4 gave accuracy: 0.75229, fit time: 55.746s, prediction time: 0.291s\n",
      "Iteration 5 gave accuracy: 0.71265, fit time: 55.977s, prediction time: 0.291s\n",
      "Average score after 5 iterations: 0.76372\n"
     ]
    }
   ],
   "source": [
    "from sklearn.neural_network import MLPClassifier\n",
    "\n",
    "mlp_scores = []\n",
    "for i in range(1,6):\n",
    "    start_time = time.time()\n",
    "    mlp = MLPClassifier(hidden_layer_sizes=(100,50,50,50))\n",
    "    mlp.fit(list(X_train),y_train)\n",
    "    fit_time = time.time() - start_time\n",
    "    \n",
    "    start_time = time.time()\n",
    "    pred = mlp.predict(list(X_test))\n",
    "    pred_time = time.time() - start_time\n",
    "    \n",
    "    acc = accuracy_score(y_test,pred)\n",
    "    mlp_scores.append(acc)\n",
    "    print(\"Iteration {} gave accuracy: {:0.5f}, fit time: {:0.3f}s, prediction time: {:0.3f}s\"\n",
    "          .format(i,acc,fit_time,pred_time))\n",
    "print(\"Average score after 5 iterations: {:0.5f}\".format(sum(mlp_scores) / len(mlp_scores)))"
   ]
  },
  {
   "cell_type": "code",
   "execution_count": 16,
   "metadata": {
    "colab": {
     "base_uri": "https://localhost:8080/",
     "height": 413
    },
    "colab_type": "code",
    "executionInfo": {
     "elapsed": 2553166,
     "status": "ok",
     "timestamp": 1573402473339,
     "user": {
      "displayName": "ElfenbenkystenTV",
      "photoUrl": "https://lh3.googleusercontent.com/a-/AAuE7mDKakq-j12KabZKURNPEIRUOMytgGcMXTS7STCm=s64",
      "userId": "05294511208889461214"
     },
     "user_tz": -60
    },
    "id": "Fcswc3B170I2",
    "outputId": "401c8027-1aba-4161-a149-03bb94d805d0"
   },
   "outputs": [
    {
     "name": "stdout",
     "output_type": "stream",
     "text": [
      "Confusion matrix for MLP with accuracy 0.73476\n"
     ]
    },
    {
     "data": {
      "text/plain": [
       "<matplotlib.axes._subplots.AxesSubplot at 0x1054b8e80>"
      ]
     },
     "execution_count": 16,
     "metadata": {},
     "output_type": "execute_result"
    },
    {
     "data": {
      "image/png": "[encoded data removed]",
      "text/plain": [
       "<Figure size 576x432 with 2 Axes>"
      ]
     },
     "metadata": {
      "needs_background": "light"
     },
     "output_type": "display_data"
    }
   ],
   "source": [
    "mlp = MLPClassifier(hidden_layer_sizes=(100,50,50,50))\n",
    "mlp.fit(list(X_train),y_train)\n",
    "pred = mlp.predict(list(X_test))\n",
    "print(\"Confusion matrix for MLP with accuracy {:0.5f}\".format(accuracy_score(y_test,pred)))\n",
    "\n",
    "mlp_confusion_matrix = confusion_matrix(pred,y_test)\n",
    "mlp_df = pd.DataFrame(mlp_confusion_matrix, index = range(0,6), columns = range(0,6))\n",
    "plt.figure(figsize = (8,6))\n",
    "sn.heatmap(mlp_df, annot=True,cmap=\"YlGnBu\")"
   ]
  },
  {
   "cell_type": "markdown",
   "metadata": {},
   "source": [
    "### K-nearest neighbors"
   ]
  },
  {
   "cell_type": "code",
   "execution_count": 8,
   "metadata": {},
   "outputs": [
    {
     "name": "stdout",
     "output_type": "stream",
     "text": [
      "Iteration 1 gave accuracy: 0.75915, fit time: 4.965s, prediction time: 80.791s\n",
      "Iteration 2 gave accuracy: 0.75915, fit time: 4.854s, prediction time: 79.600s\n",
      "Iteration 3 gave accuracy: 0.75915, fit time: 4.809s, prediction time: 81.565s\n",
      "Iteration 4 gave accuracy: 0.75915, fit time: 4.986s, prediction time: 82.279s\n",
      "Iteration 5 gave accuracy: 0.75915, fit time: 5.038s, prediction time: 80.590s\n",
      "Average score after 5 iterations: 0.75915\n"
     ]
    }
   ],
   "source": [
    "from sklearn.neighbors import KNeighborsClassifier\n",
    "\n",
    "knn_scores = []\n",
    "for i in range(1,6):\n",
    "    start_time = time.time()\n",
    "    knn = KNeighborsClassifier(n_neighbors=5)\n",
    "    knn.fit(list(X_train),y_train)\n",
    "    fit_time = time.time() - start_time\n",
    "    \n",
    "    start_time = time.time()\n",
    "    pred = knn.predict(list(X_test))\n",
    "    pred_time = time.time() - start_time\n",
    "    \n",
    "    acc = accuracy_score(y_test,pred)\n",
    "    knn_scores.append(acc)\n",
    "    print(\"Iteration {} gave accuracy: {:0.5f}, fit time: {:0.3f}s, prediction time: {:0.3f}s\"\n",
    "          .format(i,acc,fit_time,pred_time))\n",
    "print(\"Average score after 5 iterations: {:0.5f}\".format(sum(knn_scores) / len(knn_scores)))"
   ]
  },
  {
   "cell_type": "code",
   "execution_count": 9,
   "metadata": {},
   "outputs": [
    {
     "name": "stdout",
     "output_type": "stream",
     "text": [
      "Confusion matrix for MLP with accuracy 0.75915\n"
     ]
    },
    {
     "data": {
      "text/plain": [
       "<matplotlib.axes._subplots.AxesSubplot at 0x10db3be48>"
      ]
     },
     "execution_count": 9,
     "metadata": {},
     "output_type": "execute_result"
    },
    {
     "data": {
      "image/png": "[encoded data removed]",
      "text/plain": [
       "<Figure size 576x432 with 2 Axes>"
      ]
     },
     "metadata": {
      "needs_background": "light"
     },
     "output_type": "display_data"
    }
   ],
   "source": [
    "knn = KNeighborsClassifier(n_neighbors=5)\n",
    "knn.fit(list(X_train),y_train)\n",
    "pred = knn.predict(list(X_test))\n",
    "print(\"Confusion matrix for MLP with accuracy {:0.5f}\".format(accuracy_score(y_test,pred)))\n",
    "\n",
    "knn_confusion_matrix = confusion_matrix(pred,y_test)\n",
    "knn_df = pd.DataFrame(knn_confusion_matrix, index = range(0,6), columns = range(0,6))\n",
    "plt.figure(figsize = (8,6))\n",
    "sn.heatmap(knn_df, annot=True,cmap=\"YlGnBu\")"
   ]
  }
 ],
 "metadata": {
  "colab": {
   "collapsed_sections": [],
   "name": "Classifier.ipynb",
   "provenance": []
  },
  "kernelspec": {
   "display_name": "Python 3",
   "language": "python",
   "name": "python3"
  },
  "language_info": {
   "codemirror_mode": {
    "name": "ipython",
    "version": 3
   },
   "file_extension": ".py",
   "mimetype": "text/x-python",
   "name": "python",
   "nbconvert_exporter": "python",
   "pygments_lexer": "ipython3",
   "version": "3.7.3"
  }
 },
 "nbformat": 4,
 "nbformat_minor": 1
}
